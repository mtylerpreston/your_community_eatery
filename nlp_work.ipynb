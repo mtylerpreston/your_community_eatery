{
 "cells": [
  {
   "cell_type": "markdown",
   "metadata": {},
   "source": [
    "# Your Community Eatery\n",
    "\n",
    "## Welcome to your local (if you're in Phoenix) restaurant recommender! \n",
    "\n",
    "We are going to take a walk through the process of creating a recommender based on collaborative filtering of Yelp review data. Follow along here for the full story..."
   ]
  },
  {
   "cell_type": "code",
   "execution_count": 18,
   "metadata": {},
   "outputs": [
    {
     "ename": "TypeError",
     "evalue": "an integer is required (got type bytes)",
     "output_type": "error",
     "traceback": [
      "\u001b[0;31m---------------------------------------------------------------------------\u001b[0m",
      "\u001b[0;31mTypeError\u001b[0m                                 Traceback (most recent call last)",
      "\u001b[0;32m<ipython-input-18-24bf205e5a56>\u001b[0m in \u001b[0;36m<module>\u001b[0;34m\u001b[0m\n\u001b[1;32m      1\u001b[0m \u001b[0;31m# Project specific modules\u001b[0m\u001b[0;34m\u001b[0m\u001b[0;34m\u001b[0m\u001b[0;34m\u001b[0m\u001b[0m\n\u001b[0;32m----> 2\u001b[0;31m \u001b[0;32mfrom\u001b[0m \u001b[0msrc\u001b[0m\u001b[0;34m.\u001b[0m\u001b[0mpipeline\u001b[0m \u001b[0;32mimport\u001b[0m \u001b[0mYourCommunityEatery\u001b[0m\u001b[0;34m\u001b[0m\u001b[0;34m\u001b[0m\u001b[0m\n\u001b[0m\u001b[1;32m      3\u001b[0m \u001b[0;32mfrom\u001b[0m \u001b[0mwebsite\u001b[0m\u001b[0;34m.\u001b[0m\u001b[0msrc\u001b[0m\u001b[0;34m.\u001b[0m\u001b[0mfunctions\u001b[0m \u001b[0;32mimport\u001b[0m \u001b[0mbuild_item_map\u001b[0m\u001b[0;34m,\u001b[0m \u001b[0mget_recs\u001b[0m\u001b[0;34m\u001b[0m\u001b[0;34m\u001b[0m\u001b[0m\n\u001b[1;32m      4\u001b[0m \u001b[0;34m\u001b[0m\u001b[0m\n\u001b[1;32m      5\u001b[0m \u001b[0;31m# Avoid restarting Kernal each time we update modules\u001b[0m\u001b[0;34m\u001b[0m\u001b[0;34m\u001b[0m\u001b[0;34m\u001b[0m\u001b[0m\n",
      "\u001b[0;32m~/galvanize/your_community_eatery/src/pipeline.py\u001b[0m in \u001b[0;36m<module>\u001b[0;34m\u001b[0m\n\u001b[1;32m      5\u001b[0m \u001b[0;32mimport\u001b[0m \u001b[0mos\u001b[0m\u001b[0;34m\u001b[0m\u001b[0;34m\u001b[0m\u001b[0m\n\u001b[1;32m      6\u001b[0m \u001b[0;34m\u001b[0m\u001b[0m\n\u001b[0;32m----> 7\u001b[0;31m \u001b[0;32mimport\u001b[0m \u001b[0mpyspark\u001b[0m \u001b[0;32mas\u001b[0m \u001b[0mps\u001b[0m\u001b[0;34m\u001b[0m\u001b[0;34m\u001b[0m\u001b[0m\n\u001b[0m\u001b[1;32m      8\u001b[0m \u001b[0;32mimport\u001b[0m \u001b[0mpyspark\u001b[0m\u001b[0;34m.\u001b[0m\u001b[0msql\u001b[0m\u001b[0;34m.\u001b[0m\u001b[0mtypes\u001b[0m \u001b[0;32mas\u001b[0m \u001b[0mtypes\u001b[0m\u001b[0;34m\u001b[0m\u001b[0;34m\u001b[0m\u001b[0m\n\u001b[1;32m      9\u001b[0m \u001b[0;32mfrom\u001b[0m \u001b[0mpyspark\u001b[0m\u001b[0;34m.\u001b[0m\u001b[0msql\u001b[0m\u001b[0;34m.\u001b[0m\u001b[0mfunctions\u001b[0m \u001b[0;32mimport\u001b[0m \u001b[0mcol\u001b[0m\u001b[0;34m,\u001b[0m \u001b[0mcountDistinct\u001b[0m\u001b[0;34m\u001b[0m\u001b[0;34m\u001b[0m\u001b[0m\n",
      "\u001b[0;32m~/anaconda3/envs/yelp/lib/python3.8/site-packages/pyspark/__init__.py\u001b[0m in \u001b[0;36m<module>\u001b[0;34m\u001b[0m\n\u001b[1;32m     49\u001b[0m \u001b[0;34m\u001b[0m\u001b[0m\n\u001b[1;32m     50\u001b[0m \u001b[0;32mfrom\u001b[0m \u001b[0mpyspark\u001b[0m\u001b[0;34m.\u001b[0m\u001b[0mconf\u001b[0m \u001b[0;32mimport\u001b[0m \u001b[0mSparkConf\u001b[0m\u001b[0;34m\u001b[0m\u001b[0;34m\u001b[0m\u001b[0m\n\u001b[0;32m---> 51\u001b[0;31m \u001b[0;32mfrom\u001b[0m \u001b[0mpyspark\u001b[0m\u001b[0;34m.\u001b[0m\u001b[0mcontext\u001b[0m \u001b[0;32mimport\u001b[0m \u001b[0mSparkContext\u001b[0m\u001b[0;34m\u001b[0m\u001b[0;34m\u001b[0m\u001b[0m\n\u001b[0m\u001b[1;32m     52\u001b[0m \u001b[0;32mfrom\u001b[0m \u001b[0mpyspark\u001b[0m\u001b[0;34m.\u001b[0m\u001b[0mrdd\u001b[0m \u001b[0;32mimport\u001b[0m \u001b[0mRDD\u001b[0m\u001b[0;34m,\u001b[0m \u001b[0mRDDBarrier\u001b[0m\u001b[0;34m\u001b[0m\u001b[0;34m\u001b[0m\u001b[0m\n\u001b[1;32m     53\u001b[0m \u001b[0;32mfrom\u001b[0m \u001b[0mpyspark\u001b[0m\u001b[0;34m.\u001b[0m\u001b[0mfiles\u001b[0m \u001b[0;32mimport\u001b[0m \u001b[0mSparkFiles\u001b[0m\u001b[0;34m\u001b[0m\u001b[0;34m\u001b[0m\u001b[0m\n",
      "\u001b[0;32m~/anaconda3/envs/yelp/lib/python3.8/site-packages/pyspark/context.py\u001b[0m in \u001b[0;36m<module>\u001b[0;34m\u001b[0m\n\u001b[1;32m     29\u001b[0m \u001b[0;32mfrom\u001b[0m \u001b[0mpy4j\u001b[0m\u001b[0;34m.\u001b[0m\u001b[0mprotocol\u001b[0m \u001b[0;32mimport\u001b[0m \u001b[0mPy4JError\u001b[0m\u001b[0;34m\u001b[0m\u001b[0;34m\u001b[0m\u001b[0m\n\u001b[1;32m     30\u001b[0m \u001b[0;34m\u001b[0m\u001b[0m\n\u001b[0;32m---> 31\u001b[0;31m \u001b[0;32mfrom\u001b[0m \u001b[0mpyspark\u001b[0m \u001b[0;32mimport\u001b[0m \u001b[0maccumulators\u001b[0m\u001b[0;34m\u001b[0m\u001b[0;34m\u001b[0m\u001b[0m\n\u001b[0m\u001b[1;32m     32\u001b[0m \u001b[0;32mfrom\u001b[0m \u001b[0mpyspark\u001b[0m\u001b[0;34m.\u001b[0m\u001b[0maccumulators\u001b[0m \u001b[0;32mimport\u001b[0m \u001b[0mAccumulator\u001b[0m\u001b[0;34m\u001b[0m\u001b[0;34m\u001b[0m\u001b[0m\n\u001b[1;32m     33\u001b[0m \u001b[0;32mfrom\u001b[0m \u001b[0mpyspark\u001b[0m\u001b[0;34m.\u001b[0m\u001b[0mbroadcast\u001b[0m \u001b[0;32mimport\u001b[0m \u001b[0mBroadcast\u001b[0m\u001b[0;34m,\u001b[0m \u001b[0mBroadcastPickleRegistry\u001b[0m\u001b[0;34m\u001b[0m\u001b[0;34m\u001b[0m\u001b[0m\n",
      "\u001b[0;32m~/anaconda3/envs/yelp/lib/python3.8/site-packages/pyspark/accumulators.py\u001b[0m in \u001b[0;36m<module>\u001b[0;34m\u001b[0m\n\u001b[1;32m     95\u001b[0m     \u001b[0;32mimport\u001b[0m \u001b[0msocketserver\u001b[0m \u001b[0;32mas\u001b[0m \u001b[0mSocketServer\u001b[0m\u001b[0;34m\u001b[0m\u001b[0;34m\u001b[0m\u001b[0m\n\u001b[1;32m     96\u001b[0m \u001b[0;32mimport\u001b[0m \u001b[0mthreading\u001b[0m\u001b[0;34m\u001b[0m\u001b[0;34m\u001b[0m\u001b[0m\n\u001b[0;32m---> 97\u001b[0;31m \u001b[0;32mfrom\u001b[0m \u001b[0mpyspark\u001b[0m\u001b[0;34m.\u001b[0m\u001b[0mserializers\u001b[0m \u001b[0;32mimport\u001b[0m \u001b[0mread_int\u001b[0m\u001b[0;34m,\u001b[0m \u001b[0mPickleSerializer\u001b[0m\u001b[0;34m\u001b[0m\u001b[0;34m\u001b[0m\u001b[0m\n\u001b[0m\u001b[1;32m     98\u001b[0m \u001b[0;34m\u001b[0m\u001b[0m\n\u001b[1;32m     99\u001b[0m \u001b[0;34m\u001b[0m\u001b[0m\n",
      "\u001b[0;32m~/anaconda3/envs/yelp/lib/python3.8/site-packages/pyspark/serializers.py\u001b[0m in \u001b[0;36m<module>\u001b[0;34m\u001b[0m\n\u001b[1;32m     69\u001b[0m     \u001b[0mxrange\u001b[0m \u001b[0;34m=\u001b[0m \u001b[0mrange\u001b[0m\u001b[0;34m\u001b[0m\u001b[0;34m\u001b[0m\u001b[0m\n\u001b[1;32m     70\u001b[0m \u001b[0;34m\u001b[0m\u001b[0m\n\u001b[0;32m---> 71\u001b[0;31m \u001b[0;32mfrom\u001b[0m \u001b[0mpyspark\u001b[0m \u001b[0;32mimport\u001b[0m \u001b[0mcloudpickle\u001b[0m\u001b[0;34m\u001b[0m\u001b[0;34m\u001b[0m\u001b[0m\n\u001b[0m\u001b[1;32m     72\u001b[0m \u001b[0;32mfrom\u001b[0m \u001b[0mpyspark\u001b[0m\u001b[0;34m.\u001b[0m\u001b[0mutil\u001b[0m \u001b[0;32mimport\u001b[0m \u001b[0m_exception_message\u001b[0m\u001b[0;34m\u001b[0m\u001b[0;34m\u001b[0m\u001b[0m\n\u001b[1;32m     73\u001b[0m \u001b[0;34m\u001b[0m\u001b[0m\n",
      "\u001b[0;32m~/anaconda3/envs/yelp/lib/python3.8/site-packages/pyspark/cloudpickle.py\u001b[0m in \u001b[0;36m<module>\u001b[0;34m\u001b[0m\n\u001b[1;32m    143\u001b[0m \u001b[0;34m\u001b[0m\u001b[0m\n\u001b[1;32m    144\u001b[0m \u001b[0;34m\u001b[0m\u001b[0m\n\u001b[0;32m--> 145\u001b[0;31m \u001b[0m_cell_set_template_code\u001b[0m \u001b[0;34m=\u001b[0m \u001b[0m_make_cell_set_template_code\u001b[0m\u001b[0;34m(\u001b[0m\u001b[0;34m)\u001b[0m\u001b[0;34m\u001b[0m\u001b[0;34m\u001b[0m\u001b[0m\n\u001b[0m\u001b[1;32m    146\u001b[0m \u001b[0;34m\u001b[0m\u001b[0m\n\u001b[1;32m    147\u001b[0m \u001b[0;34m\u001b[0m\u001b[0m\n",
      "\u001b[0;32m~/anaconda3/envs/yelp/lib/python3.8/site-packages/pyspark/cloudpickle.py\u001b[0m in \u001b[0;36m_make_cell_set_template_code\u001b[0;34m()\u001b[0m\n\u001b[1;32m    124\u001b[0m         )\n\u001b[1;32m    125\u001b[0m     \u001b[0;32melse\u001b[0m\u001b[0;34m:\u001b[0m\u001b[0;34m\u001b[0m\u001b[0;34m\u001b[0m\u001b[0m\n\u001b[0;32m--> 126\u001b[0;31m         return types.CodeType(\n\u001b[0m\u001b[1;32m    127\u001b[0m             \u001b[0mco\u001b[0m\u001b[0;34m.\u001b[0m\u001b[0mco_argcount\u001b[0m\u001b[0;34m,\u001b[0m\u001b[0;34m\u001b[0m\u001b[0;34m\u001b[0m\u001b[0m\n\u001b[1;32m    128\u001b[0m             \u001b[0mco\u001b[0m\u001b[0;34m.\u001b[0m\u001b[0mco_kwonlyargcount\u001b[0m\u001b[0;34m,\u001b[0m\u001b[0;34m\u001b[0m\u001b[0;34m\u001b[0m\u001b[0m\n",
      "\u001b[0;31mTypeError\u001b[0m: an integer is required (got type bytes)"
     ]
    }
   ],
   "source": [
    "# Project specific modules\n",
    "from src.pipeline import YourCommunityEatery\n",
    "from website.src.functions import build_item_map, get_recs\n",
    "\n",
    "# Avoid restarting Kernal each time we update modules\n",
    "%load_ext autoreload\n",
    "%autoreload 2\n",
    "\n",
    "# The basics\n",
    "import pandas as pd\n",
    "import numpy as np\n",
    "import matplotlib.pyplot as plt\n",
    "\n",
    "# Dictionaries for cleaning\n",
    "from PyDictionary import PyDictionary\n",
    "from vocabulary.vocabulary import Vocabulary as vb\n",
    "import urbandict\n",
    "\n",
    "# Sklearn\n",
    "from sklearn.model_selection import train_test_split\n",
    "from sklearn.feature_extraction.text import TfidfVectorizer\n",
    "from sklearn.decomposition import LatentDirichletAllocation\n",
    "\n",
    "# Surprise modeling\n",
    "from surprise import SVD\n",
    "import surprise\n",
    "from surprise import Dataset, Reader\n",
    "from surprise.model_selection import cross_validate, train_test_split\n",
    "\n",
    "# Persistance\n",
    "import pickle\n",
    "\n",
    "# Housekeeping\n",
    "from io import StringIO\n",
    "from datetime import datetime\n",
    "import time\n",
    "import requests"
   ]
  },
  {
   "cell_type": "markdown",
   "metadata": {},
   "source": [
    "# Initial EDA\n",
    "\n",
    "This dataset is actually too big to simply load into a Pandas dataframe (at least on my machine - 8 GB memory). Although I know people with 16 GB machines have loaded it successfully, so far I get memory errors when trying to load it onto a 16 GB AWS EC2 instance (and I'm still searching for an answer/solution on that). Regardless, we can do some initial EDA to just see what we have by using Spark!"
   ]
  },
  {
   "cell_type": "code",
   "execution_count": 15,
   "metadata": {},
   "outputs": [
    {
     "ename": "NameError",
     "evalue": "name 'pipe' is not defined",
     "output_type": "error",
     "traceback": [
      "\u001b[0;31m---------------------------------------------------------------------------\u001b[0m",
      "\u001b[0;31mNameError\u001b[0m                                 Traceback (most recent call last)",
      "\u001b[0;32m<ipython-input-15-1880b78253ad>\u001b[0m in \u001b[0;36m<module>\u001b[0;34m\u001b[0m\n\u001b[1;32m      3\u001b[0m \u001b[0;31m# based on some conditions to fit in memory, so this takes a while\u001b[0m\u001b[0;34m\u001b[0m\u001b[0;34m\u001b[0m\u001b[0;34m\u001b[0m\u001b[0m\n\u001b[1;32m      4\u001b[0m \u001b[0;31m# Expect over 80 total chunks to be read in...\u001b[0m\u001b[0;34m\u001b[0m\u001b[0;34m\u001b[0m\u001b[0;34m\u001b[0m\u001b[0m\n\u001b[0;32m----> 5\u001b[0;31m \u001b[0mpipe\u001b[0m\u001b[0;34m.\u001b[0m\u001b[0mread_data\u001b[0m\u001b[0;34m(\u001b[0m\u001b[0mdata_dir_path\u001b[0m\u001b[0;34m=\u001b[0m\u001b[0;34m'data/'\u001b[0m\u001b[0;34m)\u001b[0m\u001b[0;34m\u001b[0m\u001b[0;34m\u001b[0m\u001b[0m\n\u001b[0m",
      "\u001b[0;31mNameError\u001b[0m: name 'pipe' is not defined"
     ]
    }
   ],
   "source": [
    "# Read data in from files \n",
    "# There is quite a bit of data to load and it has to be filtered \n",
    "# based on some conditions to fit in memory, so this takes a while\n",
    "# Expect over 80 total chunks to be read in...\n",
    "pipe.read_data(data_dir_path='data/')"
   ]
  },
  {
   "cell_type": "code",
   "execution_count": 16,
   "metadata": {},
   "outputs": [
    {
     "ename": "NameError",
     "evalue": "name 'pipe' is not defined",
     "output_type": "error",
     "traceback": [
      "\u001b[0;31m---------------------------------------------------------------------------\u001b[0m",
      "\u001b[0;31mNameError\u001b[0m                                 Traceback (most recent call last)",
      "\u001b[0;32m<ipython-input-16-a46221527824>\u001b[0m in \u001b[0;36m<module>\u001b[0;34m\u001b[0m\n\u001b[1;32m      3\u001b[0m \u001b[0;31m# This isn't super fast, but much better than the above.\u001b[0m\u001b[0;34m\u001b[0m\u001b[0;34m\u001b[0m\u001b[0;34m\u001b[0m\u001b[0m\n\u001b[1;32m      4\u001b[0m \u001b[0;31m# pipe.persist_subject_data()\u001b[0m\u001b[0;34m\u001b[0m\u001b[0;34m\u001b[0m\u001b[0;34m\u001b[0m\u001b[0m\n\u001b[0;32m----> 5\u001b[0;31m \u001b[0mpipe\u001b[0m\u001b[0;34m.\u001b[0m\u001b[0mbus_review_df\u001b[0m \u001b[0;34m=\u001b[0m \u001b[0mpd\u001b[0m\u001b[0;34m.\u001b[0m\u001b[0mread_json\u001b[0m\u001b[0;34m(\u001b[0m\u001b[0;34m'data/bus_review_df.json'\u001b[0m\u001b[0;34m,\u001b[0m \u001b[0morient\u001b[0m \u001b[0;34m=\u001b[0m \u001b[0;34m'records'\u001b[0m\u001b[0;34m)\u001b[0m\u001b[0;34m\u001b[0m\u001b[0;34m\u001b[0m\u001b[0m\n\u001b[0m",
      "\u001b[0;31mNameError\u001b[0m: name 'pipe' is not defined"
     ]
    }
   ],
   "source": [
    "# Alternatively, we saved the results from above so that\n",
    "# you can just load it from a file!\n",
    "# This isn't super fast, but much better than the above.\n",
    "# pipe.persist_subject_data()\n",
    "pipe.bus_review_df = pd.read_json('data/bus_review_df.json', orient = 'records')"
   ]
  },
  {
   "cell_type": "markdown",
   "metadata": {},
   "source": [
    "# Now that we have our data, let's delve into some additional EDA\n",
    "#### At this point our data is saved in 'bus_review_df' which is an attribute of our pipe object\n",
    "\n",
    "What time frame do these reviews span?"
   ]
  },
  {
   "cell_type": "code",
   "execution_count": 40,
   "metadata": {},
   "outputs": [
    {
     "name": "stdout",
     "output_type": "stream",
     "text": [
      "These ratings range from 2005 to 2019.\n"
     ]
    }
   ],
   "source": [
    "begin = pipe.bus_review_df.date.min()\n",
    "end = pipe.bus_review_df.date.max()\n",
    "print('These ratings range from {} to {}.'.format(begin.year, end.year))"
   ]
  },
  {
   "cell_type": "markdown",
   "metadata": {},
   "source": [
    "Long span of data, nice! And what kind of distribution of reviews over time might we see for that duration?"
   ]
  },
  {
   "cell_type": "code",
   "execution_count": 41,
   "metadata": {},
   "outputs": [
    {
     "data": {
      "image/png": "[encoded data removed]",
      "text/plain": [
       "<Figure size 720x432 with 1 Axes>"
      ]
     },
     "metadata": {
      "needs_background": "light"
     },
     "output_type": "display_data"
    }
   ],
   "source": [
    "ax = pipe.bus_review_df.date.hist(bins = 100, figsize = (10, 6))\n",
    "ax.grid(False)\n",
    "ax.set_title('Distribution of Reviews over Time')\n",
    "ax.set_xlabel('Year')\n",
    "_ = ax.set_ylabel('Number of Reviews')"
   ]
  },
  {
   "cell_type": "markdown",
   "metadata": {},
   "source": [
    "Look at that growth! Good for you, Yelp. Interesting trends after 2015, seasonality for reviews? Interesting...but out of our scope.\n",
    "\n",
    "What is the distribution of number of users to have reviewed each restaurant? \n"
   ]
  },
  {
   "cell_type": "code",
   "execution_count": 42,
   "metadata": {},
   "outputs": [
    {
     "data": {
      "image/png": "[encoded data removed]",
      "text/plain": [
       "<Figure size 720x432 with 1 Axes>"
      ]
     },
     "metadata": {
      "needs_background": "light"
     },
     "output_type": "display_data"
    }
   ],
   "source": [
    "groups = pipe.bus_review_df.groupby('business_id')\n",
    "ax = groups.user_id.nunique().hist(bins = 30, figsize = (10, 6))\n",
    "ax.grid(False)\n",
    "ax.set_yscale('log')\n",
    "ax.set_xlabel('Number of Users who Reviewed (in this dataset)')\n",
    "ax.set_title('Distribution Users Per Restaurant')\n",
    "_ = ax.set_ylabel('Number of Restaurants Reviewed by Each Userr(Log-scaled)')"
   ]
  },
  {
   "cell_type": "markdown",
   "metadata": {},
   "source": [
    "Keeping in mind this is log-scaled on the y axis, this data appears to be exponentially distributed."
   ]
  },
  {
   "cell_type": "markdown",
   "metadata": {},
   "source": [
    "\n",
    "What is the distribution of reviews per user?\n"
   ]
  },
  {
   "cell_type": "code",
   "execution_count": 43,
   "metadata": {},
   "outputs": [
    {
     "data": {
      "image/png": "[encoded data removed]",
      "text/plain": [
       "<Figure size 720x432 with 1 Axes>"
      ]
     },
     "metadata": {
      "needs_background": "light"
     },
     "output_type": "display_data"
    }
   ],
   "source": [
    "groups = pipe.bus_review_df.groupby('user_id')\n",
    "ax = groups.review_id.nunique().hist(bins = 30, figsize = (10, 6))\n",
    "ax.grid(False)\n",
    "ax.set_yscale('log')\n",
    "ax.set_xlabel('Number of Users to Review Restaurant')\n",
    "ax.set_title('Distribution Reviews Per User')\n",
    "_ = ax.set_ylabel('Number of Users (Log-scaled)')"
   ]
  },
  {
   "cell_type": "markdown",
   "metadata": {},
   "source": [
    "From the graph above, we are able to see that this is exponentially distributed. There are several users who have made significant numbers of reviews. Normally this might be cause for concern that their reviews are not legitimate; however, this dataset consists only of reviews that Yelp has validated and \"recommended\", so they are likely just very passionate about food. But skeptical scientists that we are, we'll not just take their word for it...ok, I admit that I'm mostly just curious to see what kind of stuff a person who writes over 1,200 reviews has to say.\n",
    "\n",
    "Let's verify the text of the highest volume user to be sure they are not a bot. As shown below, only one user exceeded 1000 reviews and their id is 'ELcQDlf69kb-ihJfxZyL0A'. Feel free to adjust the index on the .iloc to see a few different reivews (just put in a number between 0 and 1277)."
   ]
  },
  {
   "cell_type": "code",
   "execution_count": 44,
   "metadata": {},
   "outputs": [
    {
     "data": {
      "text/plain": [
       "\"Since I'm an ex-New Yorker, it was strange that I had not been to this pizza chain yet in my time in Arizona. Looking at the menu online, it just didn't seem like I should be spending north of $22 for a large pie with no topping. The lunch special was a better way to sample the slices and I had a couple of slices and a drink for $6.99. The slices in the case already had toppings, but if you order the special, you can get additional toppings at no charge on both slices and welcome mushrooms and peppers to the pepperoni party. The slices were good size, very foldable and it was a good lunch. The sauce might have had a touch too much garlic, but otherwise it now might be worth buying a pie, although the prices is high (should be $15 large with one topping). At this location, the staff and manager were both nice, checking on my food quality and telling me the history of NYPD. Will return.\""
      ]
     },
     "execution_count": 44,
     "metadata": {},
     "output_type": "execute_result"
    }
   ],
   "source": [
    "pipe.bus_review_df[pipe.bus_review_df.user_id == 'ELcQDlf69kb-ihJfxZyL0A'].text.iloc[356]"
   ]
  },
  {
   "cell_type": "markdown",
   "metadata": {},
   "source": [
    "Clearly, this is not a bot...just definitely someone who has a lot of time on their hands. Outlier though they may be, their reviews appear to be genuine, so we will graciously accept their contributions to our density."
   ]
  },
  {
   "cell_type": "markdown",
   "metadata": {},
   "source": [
    "## In  planning for a collaborative-filtering based recommender, we need to take a look at our density of reviews"
   ]
  },
  {
   "cell_type": "code",
   "execution_count": 45,
   "metadata": {},
   "outputs": [
    {
     "name": "stdout",
     "output_type": "stream",
     "text": [
      "The density of our data is 0.000297\n"
     ]
    }
   ],
   "source": [
    "density_pre = pipe.calculate_density()\n",
    "print('The density of our data is {:.6f}'.format(density_pre))\n"
   ]
  },
  {
   "cell_type": "markdown",
   "metadata": {},
   "source": [
    "Ouch, that is extremely low. Let's take a look at how we might improve that."
   ]
  },
  {
   "cell_type": "markdown",
   "metadata": {},
   "source": [
    "## For model training, let's consider trimming down our dataset to increase density\n",
    "\n",
    "Normally, taking samples of your data to increase density is a non-starter, but we may have some clever ways of taking samples based on what we've learned so far. Let's start with getting later time periods, since we have far more reviews in the later segment of the data. We will use the \"filter_by_review_date\" method to modify our dataframe in place to only include reviews during-or-after a specified year."
   ]
  },
  {
   "cell_type": "code",
   "execution_count": 46,
   "metadata": {},
   "outputs": [],
   "source": [
    "pipe.filter_by_review_date(threshold = 2013)\n"
   ]
  },
  {
   "cell_type": "code",
   "execution_count": 47,
   "metadata": {},
   "outputs": [
    {
     "name": "stdout",
     "output_type": "stream",
     "text": [
      "The density of our data is 0.000300\n"
     ]
    }
   ],
   "source": [
    "density_time = pipe.calculate_density()\n",
    "print('The density of our data is {:.6f}'.format(density_time))\n"
   ]
  },
  {
   "cell_type": "markdown",
   "metadata": {},
   "source": [
    "# Start cleaning & prep for NLP"
   ]
  },
  {
   "cell_type": "code",
   "execution_count": 54,
   "metadata": {},
   "outputs": [],
   "source": [
    "vectorizer = TfidfVectorizer()\n",
    "X = vectorizer.fit_transform(pipe.bus_review_df.text)"
   ]
  },
  {
   "cell_type": "code",
   "execution_count": 111,
   "metadata": {},
   "outputs": [
    {
     "data": {
      "text/html": [
       "<div>\n",
       "<style scoped>\n",
       "    .dataframe tbody tr th:only-of-type {\n",
       "        vertical-align: middle;\n",
       "    }\n",
       "\n",
       "    .dataframe tbody tr th {\n",
       "        vertical-align: top;\n",
       "    }\n",
       "\n",
       "    .dataframe thead th {\n",
       "        text-align: right;\n",
       "    }\n",
       "</style>\n",
       "<table border=\"1\" class=\"dataframe\">\n",
       "  <thead>\n",
       "    <tr style=\"text-align: right;\">\n",
       "      <th></th>\n",
       "      <th>words</th>\n",
       "    </tr>\n",
       "  </thead>\n",
       "  <tbody>\n",
       "    <tr>\n",
       "      <th>94568</th>\n",
       "      <td>lobby</td>\n",
       "    </tr>\n",
       "    <tr>\n",
       "      <th>59139</th>\n",
       "      <td>expellar</td>\n",
       "    </tr>\n",
       "    <tr>\n",
       "      <th>88555</th>\n",
       "      <td>kellz</td>\n",
       "    </tr>\n",
       "    <tr>\n",
       "      <th>149839</th>\n",
       "      <td>stab</td>\n",
       "    </tr>\n",
       "    <tr>\n",
       "      <th>163353</th>\n",
       "      <td>tumbling</td>\n",
       "    </tr>\n",
       "  </tbody>\n",
       "</table>\n",
       "</div>"
      ],
      "text/plain": [
       "           words\n",
       "94568      lobby\n",
       "59139   expellar\n",
       "88555      kellz\n",
       "149839      stab\n",
       "163353  tumbling"
      ]
     },
     "execution_count": 111,
     "metadata": {},
     "output_type": "execute_result"
    }
   ],
   "source": [
    "all_words = vectorizer.get_feature_names()\n",
    "text_df = pd.DataFrame({'words':all_words})\n",
    "text_df.sample(5)"
   ]
  },
  {
   "cell_type": "markdown",
   "metadata": {},
   "source": [
    "# Determine words in regular dictionary"
   ]
  },
  {
   "cell_type": "code",
   "execution_count": 197,
   "metadata": {},
   "outputs": [
    {
     "ename": "TypeError",
     "evalue": "super(type, obj): obj must be an instance or subtype of type",
     "output_type": "error",
     "traceback": [
      "\u001b[0;31m---------------------------------------------------------------------------\u001b[0m",
      "\u001b[0;31mTypeError\u001b[0m                                 Traceback (most recent call last)",
      "\u001b[0;32m<ipython-input-197-ade18aff2c16>\u001b[0m in \u001b[0;36m<module>\u001b[0;34m\u001b[0m\n\u001b[1;32m      1\u001b[0m \u001b[0;32mimport\u001b[0m \u001b[0mrequests\u001b[0m\u001b[0;34m\u001b[0m\u001b[0;34m\u001b[0m\u001b[0m\n\u001b[0;32m----> 2\u001b[0;31m \u001b[0mrequests\u001b[0m\u001b[0;34m.\u001b[0m\u001b[0mget\u001b[0m\u001b[0;34m(\u001b[0m\u001b[0;34m\"https://www.espn.com/mens-college-basketball/\"\u001b[0m\u001b[0;34m)\u001b[0m\u001b[0;34m\u001b[0m\u001b[0;34m\u001b[0m\u001b[0m\n\u001b[0m",
      "\u001b[0;32m~/anaconda3/envs/yelp/lib/python3.7/site-packages/requests/api.py\u001b[0m in \u001b[0;36mget\u001b[0;34m(url, params, **kwargs)\u001b[0m\n\u001b[1;32m     68\u001b[0m     \u001b[0;34m:\u001b[0m\u001b[0mparam\u001b[0m \u001b[0mparams\u001b[0m\u001b[0;34m:\u001b[0m \u001b[0;34m(\u001b[0m\u001b[0moptional\u001b[0m\u001b[0;34m)\u001b[0m \u001b[0mDictionary\u001b[0m\u001b[0;34m,\u001b[0m \u001b[0mlist\u001b[0m \u001b[0mof\u001b[0m \u001b[0mtuples\u001b[0m \u001b[0;32mor\u001b[0m \u001b[0mbytes\u001b[0m \u001b[0mto\u001b[0m \u001b[0msend\u001b[0m\u001b[0;34m\u001b[0m\u001b[0;34m\u001b[0m\u001b[0m\n\u001b[1;32m     69\u001b[0m         \u001b[0;32min\u001b[0m \u001b[0mthe\u001b[0m \u001b[0mquery\u001b[0m \u001b[0mstring\u001b[0m \u001b[0;32mfor\u001b[0m \u001b[0mthe\u001b[0m \u001b[0;34m:\u001b[0m\u001b[0;32mclass\u001b[0m\u001b[0;34m:\u001b[0m\u001b[0;31m`\u001b[0m\u001b[0mRequest\u001b[0m\u001b[0;31m`\u001b[0m\u001b[0;34m.\u001b[0m\u001b[0;34m\u001b[0m\u001b[0;34m\u001b[0m\u001b[0m\n\u001b[0;32m---> 70\u001b[0;31m     \u001b[0;34m:\u001b[0m\u001b[0mparam\u001b[0m\u001b[0;31m \u001b[0m\u001b[0;31m\\\u001b[0m\u001b[0;34m*\u001b[0m\u001b[0;31m\\\u001b[0m\u001b[0;34m*\u001b[0m\u001b[0mkwargs\u001b[0m\u001b[0;34m:\u001b[0m \u001b[0mOptional\u001b[0m \u001b[0marguments\u001b[0m \u001b[0mthat\u001b[0m\u001b[0;31m \u001b[0m\u001b[0;31m`\u001b[0m\u001b[0;31m`\u001b[0m\u001b[0mrequest\u001b[0m\u001b[0;31m`\u001b[0m\u001b[0;31m`\u001b[0m \u001b[0mtakes\u001b[0m\u001b[0;34m.\u001b[0m\u001b[0;34m\u001b[0m\u001b[0;34m\u001b[0m\u001b[0m\n\u001b[0m\u001b[1;32m     71\u001b[0m     \u001b[0;34m:\u001b[0m\u001b[0;32mreturn\u001b[0m\u001b[0;34m:\u001b[0m \u001b[0;34m:\u001b[0m\u001b[0;32mclass\u001b[0m\u001b[0;34m:\u001b[0m\u001b[0;31m`\u001b[0m\u001b[0mResponse\u001b[0m \u001b[0;34m<\u001b[0m\u001b[0mResponse\u001b[0m\u001b[0;34m>\u001b[0m\u001b[0;31m`\u001b[0m \u001b[0mobject\u001b[0m\u001b[0;34m\u001b[0m\u001b[0;34m\u001b[0m\u001b[0m\n\u001b[1;32m     72\u001b[0m     \u001b[0;34m:\u001b[0m\u001b[0mrtype\u001b[0m\u001b[0;34m:\u001b[0m \u001b[0mrequests\u001b[0m\u001b[0;34m.\u001b[0m\u001b[0mResponse\u001b[0m\u001b[0;34m\u001b[0m\u001b[0;34m\u001b[0m\u001b[0m\n",
      "\u001b[0;32m~/anaconda3/envs/yelp/lib/python3.7/site-packages/requests/api.py\u001b[0m in \u001b[0;36mrequest\u001b[0;34m(method, url, **kwargs)\u001b[0m\n\u001b[1;32m     53\u001b[0m       \u001b[0;34m>>\u001b[0m\u001b[0;34m>\u001b[0m \u001b[0mreq\u001b[0m\u001b[0;34m\u001b[0m\u001b[0;34m\u001b[0m\u001b[0m\n\u001b[1;32m     54\u001b[0m       \u001b[0;34m<\u001b[0m\u001b[0mResponse\u001b[0m \u001b[0;34m[\u001b[0m\u001b[0;36m200\u001b[0m\u001b[0;34m]\u001b[0m\u001b[0;34m>\u001b[0m\u001b[0;34m\u001b[0m\u001b[0;34m\u001b[0m\u001b[0m\n\u001b[0;32m---> 55\u001b[0;31m     \"\"\"\n\u001b[0m\u001b[1;32m     56\u001b[0m \u001b[0;34m\u001b[0m\u001b[0m\n\u001b[1;32m     57\u001b[0m     \u001b[0;31m# By using the 'with' statement we are sure the session is closed, thus we\u001b[0m\u001b[0;34m\u001b[0m\u001b[0;34m\u001b[0m\u001b[0;34m\u001b[0m\u001b[0m\n",
      "\u001b[0;32m~/anaconda3/envs/yelp/lib/python3.7/site-packages/requests/sessions.py\u001b[0m in \u001b[0;36m__init__\u001b[0;34m(self)\u001b[0m\n\u001b[1;32m    357\u001b[0m         \u001b[0;34m'headers'\u001b[0m\u001b[0;34m,\u001b[0m \u001b[0;34m'cookies'\u001b[0m\u001b[0;34m,\u001b[0m \u001b[0;34m'auth'\u001b[0m\u001b[0;34m,\u001b[0m \u001b[0;34m'proxies'\u001b[0m\u001b[0;34m,\u001b[0m \u001b[0;34m'hooks'\u001b[0m\u001b[0;34m,\u001b[0m \u001b[0;34m'params'\u001b[0m\u001b[0;34m,\u001b[0m \u001b[0;34m'verify'\u001b[0m\u001b[0;34m,\u001b[0m\u001b[0;34m\u001b[0m\u001b[0;34m\u001b[0m\u001b[0m\n\u001b[1;32m    358\u001b[0m         \u001b[0;34m'cert'\u001b[0m\u001b[0;34m,\u001b[0m \u001b[0;34m'adapters'\u001b[0m\u001b[0;34m,\u001b[0m \u001b[0;34m'stream'\u001b[0m\u001b[0;34m,\u001b[0m \u001b[0;34m'trust_env'\u001b[0m\u001b[0;34m,\u001b[0m\u001b[0;34m\u001b[0m\u001b[0;34m\u001b[0m\u001b[0m\n\u001b[0;32m--> 359\u001b[0;31m         \u001b[0;34m'max_redirects'\u001b[0m\u001b[0;34m,\u001b[0m\u001b[0;34m\u001b[0m\u001b[0;34m\u001b[0m\u001b[0m\n\u001b[0m\u001b[1;32m    360\u001b[0m     ]\n\u001b[1;32m    361\u001b[0m \u001b[0;34m\u001b[0m\u001b[0m\n",
      "\u001b[0;32m~/anaconda3/envs/yelp/lib/python3.7/site-packages/requests/adapters.py\u001b[0m in \u001b[0;36m__init__\u001b[0;34m(self, pool_connections, pool_maxsize, max_retries, pool_block)\u001b[0m\n\u001b[1;32m    115\u001b[0m                  pool_block=DEFAULT_POOLBLOCK):\n\u001b[1;32m    116\u001b[0m         \u001b[0;32mif\u001b[0m \u001b[0mmax_retries\u001b[0m \u001b[0;34m==\u001b[0m \u001b[0mDEFAULT_RETRIES\u001b[0m\u001b[0;34m:\u001b[0m\u001b[0;34m\u001b[0m\u001b[0;34m\u001b[0m\u001b[0m\n\u001b[0;32m--> 117\u001b[0;31m             \u001b[0mself\u001b[0m\u001b[0;34m.\u001b[0m\u001b[0mmax_retries\u001b[0m \u001b[0;34m=\u001b[0m \u001b[0mRetry\u001b[0m\u001b[0;34m(\u001b[0m\u001b[0;36m0\u001b[0m\u001b[0;34m,\u001b[0m \u001b[0mread\u001b[0m\u001b[0;34m=\u001b[0m\u001b[0;32mFalse\u001b[0m\u001b[0;34m)\u001b[0m\u001b[0;34m\u001b[0m\u001b[0;34m\u001b[0m\u001b[0m\n\u001b[0m\u001b[1;32m    118\u001b[0m         \u001b[0;32melse\u001b[0m\u001b[0;34m:\u001b[0m\u001b[0;34m\u001b[0m\u001b[0;34m\u001b[0m\u001b[0m\n\u001b[1;32m    119\u001b[0m             \u001b[0mself\u001b[0m\u001b[0;34m.\u001b[0m\u001b[0mmax_retries\u001b[0m \u001b[0;34m=\u001b[0m \u001b[0mRetry\u001b[0m\u001b[0;34m.\u001b[0m\u001b[0mfrom_int\u001b[0m\u001b[0;34m(\u001b[0m\u001b[0mmax_retries\u001b[0m\u001b[0;34m)\u001b[0m\u001b[0;34m\u001b[0m\u001b[0;34m\u001b[0m\u001b[0m\n",
      "\u001b[0;31mTypeError\u001b[0m: super(type, obj): obj must be an instance or subtype of type"
     ]
    }
   ],
   "source": [
    "import requests\n",
    "requests.get(\"https://www.espn.com/mens-college-basketball/\")"
   ]
  },
  {
   "cell_type": "code",
   "execution_count": 160,
   "metadata": {},
   "outputs": [
    {
     "ename": "AttributeError",
     "evalue": "module 'requests' has no attribute 'exceptions'",
     "output_type": "error",
     "traceback": [
      "\u001b[0;31m---------------------------------------------------------------------------\u001b[0m",
      "\u001b[0;31mTypeError\u001b[0m                                 Traceback (most recent call last)",
      "\u001b[0;32m~/anaconda3/envs/yelp/lib/python3.7/site-packages/vocabulary/vocabulary.py\u001b[0m in \u001b[0;36mtry_URL\u001b[0;34m(message)\u001b[0m\n\u001b[1;32m     36\u001b[0m     \u001b[0;32mtry\u001b[0m\u001b[0;34m:\u001b[0m\u001b[0;34m\u001b[0m\u001b[0;34m\u001b[0m\u001b[0m\n\u001b[0;32m---> 37\u001b[0;31m         \u001b[0;32myield\u001b[0m\u001b[0;34m\u001b[0m\u001b[0;34m\u001b[0m\u001b[0m\n\u001b[0m\u001b[1;32m     38\u001b[0m     \u001b[0;32mexcept\u001b[0m \u001b[0mrequests\u001b[0m\u001b[0;34m.\u001b[0m\u001b[0mexceptions\u001b[0m\u001b[0;34m.\u001b[0m\u001b[0mConnectionError\u001b[0m\u001b[0;34m:\u001b[0m\u001b[0;34m\u001b[0m\u001b[0;34m\u001b[0m\u001b[0m\n",
      "\u001b[0;32m~/anaconda3/envs/yelp/lib/python3.7/site-packages/vocabulary/vocabulary.py\u001b[0m in \u001b[0;36m__return_json\u001b[0;34m(url)\u001b[0m\n\u001b[1;32m     88\u001b[0m         \u001b[0;32mwith\u001b[0m \u001b[0mtry_URL\u001b[0m\u001b[0;34m(\u001b[0m\u001b[0;34m)\u001b[0m\u001b[0;34m:\u001b[0m\u001b[0;34m\u001b[0m\u001b[0;34m\u001b[0m\u001b[0m\n\u001b[0;32m---> 89\u001b[0;31m             \u001b[0mresponse\u001b[0m \u001b[0;34m=\u001b[0m \u001b[0mrequests\u001b[0m\u001b[0;34m.\u001b[0m\u001b[0mget\u001b[0m\u001b[0;34m(\u001b[0m\u001b[0murl\u001b[0m\u001b[0;34m)\u001b[0m\u001b[0;34m\u001b[0m\u001b[0;34m\u001b[0m\u001b[0m\n\u001b[0m\u001b[1;32m     90\u001b[0m             \u001b[0;32mif\u001b[0m \u001b[0mresponse\u001b[0m\u001b[0;34m.\u001b[0m\u001b[0mstatus_code\u001b[0m \u001b[0;34m==\u001b[0m \u001b[0;36m200\u001b[0m\u001b[0;34m:\u001b[0m\u001b[0;34m\u001b[0m\u001b[0;34m\u001b[0m\u001b[0m\n",
      "\u001b[0;32m~/anaconda3/envs/yelp/lib/python3.7/site-packages/requests/api.py\u001b[0m in \u001b[0;36mget\u001b[0;34m(url, params, **kwargs)\u001b[0m\n\u001b[1;32m     69\u001b[0m     \u001b[0mkwargs\u001b[0m\u001b[0;34m.\u001b[0m\u001b[0msetdefault\u001b[0m\u001b[0;34m(\u001b[0m\u001b[0;34m'allow_redirects'\u001b[0m\u001b[0;34m,\u001b[0m \u001b[0;32mTrue\u001b[0m\u001b[0;34m)\u001b[0m\u001b[0;34m\u001b[0m\u001b[0;34m\u001b[0m\u001b[0m\n\u001b[0;32m---> 70\u001b[0;31m     \u001b[0;32mreturn\u001b[0m \u001b[0mrequest\u001b[0m\u001b[0;34m(\u001b[0m\u001b[0;34m'get'\u001b[0m\u001b[0;34m,\u001b[0m \u001b[0murl\u001b[0m\u001b[0;34m,\u001b[0m \u001b[0mparams\u001b[0m\u001b[0;34m=\u001b[0m\u001b[0mparams\u001b[0m\u001b[0;34m,\u001b[0m \u001b[0;34m**\u001b[0m\u001b[0mkwargs\u001b[0m\u001b[0;34m)\u001b[0m\u001b[0;34m\u001b[0m\u001b[0;34m\u001b[0m\u001b[0m\n\u001b[0m\u001b[1;32m     71\u001b[0m \u001b[0;34m\u001b[0m\u001b[0m\n",
      "\u001b[0;32m~/anaconda3/envs/yelp/lib/python3.7/site-packages/requests/api.py\u001b[0m in \u001b[0;36mrequest\u001b[0;34m(method, url, **kwargs)\u001b[0m\n\u001b[1;32m     54\u001b[0m     \u001b[0;31m# cases, and look like a memory leak in others.\u001b[0m\u001b[0;34m\u001b[0m\u001b[0;34m\u001b[0m\u001b[0;34m\u001b[0m\u001b[0m\n\u001b[0;32m---> 55\u001b[0;31m     \u001b[0;32mwith\u001b[0m \u001b[0msessions\u001b[0m\u001b[0;34m.\u001b[0m\u001b[0mSession\u001b[0m\u001b[0;34m(\u001b[0m\u001b[0;34m)\u001b[0m \u001b[0;32mas\u001b[0m \u001b[0msession\u001b[0m\u001b[0;34m:\u001b[0m\u001b[0;34m\u001b[0m\u001b[0;34m\u001b[0m\u001b[0m\n\u001b[0m\u001b[1;32m     56\u001b[0m         \u001b[0;32mreturn\u001b[0m \u001b[0msession\u001b[0m\u001b[0;34m.\u001b[0m\u001b[0mrequest\u001b[0m\u001b[0;34m(\u001b[0m\u001b[0mmethod\u001b[0m\u001b[0;34m=\u001b[0m\u001b[0mmethod\u001b[0m\u001b[0;34m,\u001b[0m \u001b[0murl\u001b[0m\u001b[0;34m=\u001b[0m\u001b[0murl\u001b[0m\u001b[0;34m,\u001b[0m \u001b[0;34m**\u001b[0m\u001b[0mkwargs\u001b[0m\u001b[0;34m)\u001b[0m\u001b[0;34m\u001b[0m\u001b[0;34m\u001b[0m\u001b[0m\n",
      "\u001b[0;32m~/anaconda3/envs/yelp/lib/python3.7/site-packages/requests/sessions.py\u001b[0m in \u001b[0;36m__init__\u001b[0;34m(self)\u001b[0m\n\u001b[1;32m    358\u001b[0m         \u001b[0mself\u001b[0m\u001b[0;34m.\u001b[0m\u001b[0madapters\u001b[0m \u001b[0;34m=\u001b[0m \u001b[0mOrderedDict\u001b[0m\u001b[0;34m(\u001b[0m\u001b[0;34m)\u001b[0m\u001b[0;34m\u001b[0m\u001b[0;34m\u001b[0m\u001b[0m\n\u001b[0;32m--> 359\u001b[0;31m         \u001b[0mself\u001b[0m\u001b[0;34m.\u001b[0m\u001b[0mmount\u001b[0m\u001b[0;34m(\u001b[0m\u001b[0;34m'https://'\u001b[0m\u001b[0;34m,\u001b[0m \u001b[0mHTTPAdapter\u001b[0m\u001b[0;34m(\u001b[0m\u001b[0;34m)\u001b[0m\u001b[0;34m)\u001b[0m\u001b[0;34m\u001b[0m\u001b[0;34m\u001b[0m\u001b[0m\n\u001b[0m\u001b[1;32m    360\u001b[0m         \u001b[0mself\u001b[0m\u001b[0;34m.\u001b[0m\u001b[0mmount\u001b[0m\u001b[0;34m(\u001b[0m\u001b[0;34m'http://'\u001b[0m\u001b[0;34m,\u001b[0m \u001b[0mHTTPAdapter\u001b[0m\u001b[0;34m(\u001b[0m\u001b[0;34m)\u001b[0m\u001b[0;34m)\u001b[0m\u001b[0;34m\u001b[0m\u001b[0;34m\u001b[0m\u001b[0m\n",
      "\u001b[0;32m~/anaconda3/envs/yelp/lib/python3.7/site-packages/requests/adapters.py\u001b[0m in \u001b[0;36m__init__\u001b[0;34m(self, pool_connections, pool_maxsize, max_retries, pool_block)\u001b[0m\n\u001b[1;32m    116\u001b[0m \u001b[0;34m\u001b[0m\u001b[0m\n\u001b[0;32m--> 117\u001b[0;31m         \u001b[0msuper\u001b[0m\u001b[0;34m(\u001b[0m\u001b[0mHTTPAdapter\u001b[0m\u001b[0;34m,\u001b[0m \u001b[0mself\u001b[0m\u001b[0;34m)\u001b[0m\u001b[0;34m.\u001b[0m\u001b[0m__init__\u001b[0m\u001b[0;34m(\u001b[0m\u001b[0;34m)\u001b[0m\u001b[0;34m\u001b[0m\u001b[0;34m\u001b[0m\u001b[0m\n\u001b[0m\u001b[1;32m    118\u001b[0m \u001b[0;34m\u001b[0m\u001b[0m\n",
      "\u001b[0;31mTypeError\u001b[0m: super(type, obj): obj must be an instance or subtype of type",
      "\nDuring handling of the above exception, another exception occurred:\n",
      "\u001b[0;31mAttributeError\u001b[0m                            Traceback (most recent call last)",
      "\u001b[0;32m<ipython-input-160-19a4023223a4>\u001b[0m in \u001b[0;36m<module>\u001b[0;34m\u001b[0m\n\u001b[1;32m      5\u001b[0m \u001b[0;31m# stop =\u001b[0m\u001b[0;34m\u001b[0m\u001b[0;34m\u001b[0m\u001b[0;34m\u001b[0m\u001b[0m\n\u001b[1;32m      6\u001b[0m \u001b[0;34m\u001b[0m\u001b[0m\n\u001b[0;32m----> 7\u001b[0;31m \u001b[0mvb\u001b[0m\u001b[0;34m.\u001b[0m\u001b[0mmeaning\u001b[0m\u001b[0;34m(\u001b[0m\u001b[0;34m'word'\u001b[0m\u001b[0;34m)\u001b[0m\u001b[0;34m\u001b[0m\u001b[0;34m\u001b[0m\u001b[0m\n\u001b[0m\u001b[1;32m      8\u001b[0m \u001b[0;32mfor\u001b[0m \u001b[0midx\u001b[0m\u001b[0;34m,\u001b[0m \u001b[0mword\u001b[0m \u001b[0;32min\u001b[0m \u001b[0mtext_df\u001b[0m\u001b[0;34m.\u001b[0m\u001b[0miterrows\u001b[0m\u001b[0;34m(\u001b[0m\u001b[0;34m)\u001b[0m\u001b[0;34m:\u001b[0m\u001b[0;34m\u001b[0m\u001b[0;34m\u001b[0m\u001b[0m\n\u001b[1;32m      9\u001b[0m     \u001b[0mmeaning\u001b[0m \u001b[0;34m=\u001b[0m \u001b[0mdictionary\u001b[0m\u001b[0;34m.\u001b[0m\u001b[0mmeaning\u001b[0m\u001b[0;34m(\u001b[0m\u001b[0mword\u001b[0m\u001b[0;34m[\u001b[0m\u001b[0;36m0\u001b[0m\u001b[0;34m]\u001b[0m\u001b[0;34m,\u001b[0m \u001b[0;34m)\u001b[0m\u001b[0;34m\u001b[0m\u001b[0;34m\u001b[0m\u001b[0m\n",
      "\u001b[0;32m~/anaconda3/envs/yelp/lib/python3.7/site-packages/vocabulary/vocabulary.py\u001b[0m in \u001b[0;36mmeaning\u001b[0;34m(phrase, source_lang, dest_lang, format)\u001b[0m\n\u001b[1;32m    171\u001b[0m         \u001b[0mbase_url\u001b[0m \u001b[0;34m=\u001b[0m \u001b[0mVocabulary\u001b[0m\u001b[0;34m.\u001b[0m\u001b[0m__get_api_link\u001b[0m\u001b[0;34m(\u001b[0m\u001b[0;34m\"glosbe\"\u001b[0m\u001b[0;34m)\u001b[0m\u001b[0;34m\u001b[0m\u001b[0;34m\u001b[0m\u001b[0m\n\u001b[1;32m    172\u001b[0m         \u001b[0murl\u001b[0m \u001b[0;34m=\u001b[0m \u001b[0mbase_url\u001b[0m\u001b[0;34m.\u001b[0m\u001b[0mformat\u001b[0m\u001b[0;34m(\u001b[0m\u001b[0mword\u001b[0m\u001b[0;34m=\u001b[0m\u001b[0mphrase\u001b[0m\u001b[0;34m,\u001b[0m \u001b[0msource_lang\u001b[0m\u001b[0;34m=\u001b[0m\u001b[0msource_lang\u001b[0m\u001b[0;34m,\u001b[0m \u001b[0mdest_lang\u001b[0m\u001b[0;34m=\u001b[0m\u001b[0mdest_lang\u001b[0m\u001b[0;34m)\u001b[0m\u001b[0;34m\u001b[0m\u001b[0;34m\u001b[0m\u001b[0m\n\u001b[0;32m--> 173\u001b[0;31m         \u001b[0mjson_obj\u001b[0m \u001b[0;34m=\u001b[0m \u001b[0mVocabulary\u001b[0m\u001b[0;34m.\u001b[0m\u001b[0m__return_json\u001b[0m\u001b[0;34m(\u001b[0m\u001b[0murl\u001b[0m\u001b[0;34m)\u001b[0m\u001b[0;34m\u001b[0m\u001b[0;34m\u001b[0m\u001b[0m\n\u001b[0m\u001b[1;32m    174\u001b[0m \u001b[0;34m\u001b[0m\u001b[0m\n\u001b[1;32m    175\u001b[0m         \u001b[0;32mif\u001b[0m \u001b[0mjson_obj\u001b[0m\u001b[0;34m:\u001b[0m\u001b[0;34m\u001b[0m\u001b[0;34m\u001b[0m\u001b[0m\n",
      "\u001b[0;32m~/anaconda3/envs/yelp/lib/python3.7/site-packages/vocabulary/vocabulary.py\u001b[0m in \u001b[0;36m__return_json\u001b[0;34m(url)\u001b[0m\n\u001b[1;32m     91\u001b[0m                 \u001b[0;32mreturn\u001b[0m \u001b[0mresponse\u001b[0m\u001b[0;34m.\u001b[0m\u001b[0mjson\u001b[0m\u001b[0;34m(\u001b[0m\u001b[0;34m)\u001b[0m\u001b[0;34m\u001b[0m\u001b[0;34m\u001b[0m\u001b[0m\n\u001b[1;32m     92\u001b[0m             \u001b[0;32melse\u001b[0m\u001b[0;34m:\u001b[0m\u001b[0;34m\u001b[0m\u001b[0;34m\u001b[0m\u001b[0m\n\u001b[0;32m---> 93\u001b[0;31m                 \u001b[0;32mreturn\u001b[0m \u001b[0;32mFalse\u001b[0m\u001b[0;34m\u001b[0m\u001b[0;34m\u001b[0m\u001b[0m\n\u001b[0m\u001b[1;32m     94\u001b[0m \u001b[0;34m\u001b[0m\u001b[0m\n\u001b[1;32m     95\u001b[0m     \u001b[0;34m@\u001b[0m\u001b[0mstaticmethod\u001b[0m\u001b[0;34m\u001b[0m\u001b[0;34m\u001b[0m\u001b[0m\n",
      "\u001b[0;32m~/anaconda3/envs/yelp/lib/python3.7/contextlib.py\u001b[0m in \u001b[0;36m__exit__\u001b[0;34m(self, type, value, traceback)\u001b[0m\n\u001b[1;32m    128\u001b[0m                 \u001b[0mvalue\u001b[0m \u001b[0;34m=\u001b[0m \u001b[0mtype\u001b[0m\u001b[0;34m(\u001b[0m\u001b[0;34m)\u001b[0m\u001b[0;34m\u001b[0m\u001b[0;34m\u001b[0m\u001b[0m\n\u001b[1;32m    129\u001b[0m             \u001b[0;32mtry\u001b[0m\u001b[0;34m:\u001b[0m\u001b[0;34m\u001b[0m\u001b[0;34m\u001b[0m\u001b[0m\n\u001b[0;32m--> 130\u001b[0;31m                 \u001b[0mself\u001b[0m\u001b[0;34m.\u001b[0m\u001b[0mgen\u001b[0m\u001b[0;34m.\u001b[0m\u001b[0mthrow\u001b[0m\u001b[0;34m(\u001b[0m\u001b[0mtype\u001b[0m\u001b[0;34m,\u001b[0m \u001b[0mvalue\u001b[0m\u001b[0;34m,\u001b[0m \u001b[0mtraceback\u001b[0m\u001b[0;34m)\u001b[0m\u001b[0;34m\u001b[0m\u001b[0;34m\u001b[0m\u001b[0m\n\u001b[0m\u001b[1;32m    131\u001b[0m             \u001b[0;32mexcept\u001b[0m \u001b[0mStopIteration\u001b[0m \u001b[0;32mas\u001b[0m \u001b[0mexc\u001b[0m\u001b[0;34m:\u001b[0m\u001b[0;34m\u001b[0m\u001b[0;34m\u001b[0m\u001b[0m\n\u001b[1;32m    132\u001b[0m                 \u001b[0;31m# Suppress StopIteration *unless* it's the same exception that\u001b[0m\u001b[0;34m\u001b[0m\u001b[0;34m\u001b[0m\u001b[0;34m\u001b[0m\u001b[0m\n",
      "\u001b[0;32m~/anaconda3/envs/yelp/lib/python3.7/site-packages/vocabulary/vocabulary.py\u001b[0m in \u001b[0;36mtry_URL\u001b[0;34m(message)\u001b[0m\n\u001b[1;32m     36\u001b[0m     \u001b[0;32mtry\u001b[0m\u001b[0;34m:\u001b[0m\u001b[0;34m\u001b[0m\u001b[0;34m\u001b[0m\u001b[0m\n\u001b[1;32m     37\u001b[0m         \u001b[0;32myield\u001b[0m\u001b[0;34m\u001b[0m\u001b[0;34m\u001b[0m\u001b[0m\n\u001b[0;32m---> 38\u001b[0;31m     \u001b[0;32mexcept\u001b[0m \u001b[0mrequests\u001b[0m\u001b[0;34m.\u001b[0m\u001b[0mexceptions\u001b[0m\u001b[0;34m.\u001b[0m\u001b[0mConnectionError\u001b[0m\u001b[0;34m:\u001b[0m\u001b[0;34m\u001b[0m\u001b[0;34m\u001b[0m\u001b[0m\n\u001b[0m\u001b[1;32m     39\u001b[0m         \u001b[0mprint\u001b[0m\u001b[0;34m(\u001b[0m\u001b[0mmessage\u001b[0m\u001b[0;34m)\u001b[0m\u001b[0;34m\u001b[0m\u001b[0;34m\u001b[0m\u001b[0m\n\u001b[1;32m     40\u001b[0m \u001b[0;34m\u001b[0m\u001b[0m\n",
      "\u001b[0;31mAttributeError\u001b[0m: module 'requests' has no attribute 'exceptions'"
     ]
    }
   ],
   "source": [
    "dictionary = PyDictionary()\n",
    "in_dict = []\n",
    "record_frequency = 10\n",
    "# start = 500\n",
    "# stop = \n",
    "\n",
    "for idx, word in text_df.iterrows():\n",
    "    meaning = dictionary.meaning(word[0], )\n",
    "    if meaning is None:\n",
    "        in_dict.append(0)\n",
    "    else:\n",
    "        in_dict.append(1)\n",
    "    if (idx+1) % record_frequency == 0:\n",
    "        print(f'Completed {idx} out of {len(text_df)} records. Saving results to file...')\n",
    "        now = int(time.time())\n",
    "        in_dict = pd.DataFrame({'in_dict':in_dict})\n",
    "        in_dict.to_csv(f'./data/in_dict_{now}.csv')\n",
    "#     if idx == 10:\n",
    "#         break"
   ]
  },
  {
   "cell_type": "code",
   "execution_count": 158,
   "metadata": {},
   "outputs": [
    {
     "name": "stdout",
     "output_type": "stream",
     "text": [
      "Error: The Following Error occured: list index out of range\n"
     ]
    },
    {
     "name": "stderr",
     "output_type": "stream",
     "text": [
      "/Users/Tyler/anaconda3/envs/yelp/lib/python3.7/site-packages/PyDictionary/utils.py:5: UserWarning: No parser was explicitly specified, so I'm using the best available HTML parser for this system (\"html.parser\"). This usually isn't a problem, but if you run this code on another system, or in a different virtual environment, it may use a different parser and behave differently.\n",
      "\n",
      "The code that caused this warning is on line 5 of the file /Users/Tyler/anaconda3/envs/yelp/lib/python3.7/site-packages/PyDictionary/utils.py. To get rid of this warning, pass the additional argument 'features=\"html.parser\"' to the BeautifulSoup constructor.\n",
      "\n",
      "  return BeautifulSoup(requests.get(url).text)\n"
     ]
    }
   ],
   "source": [
    "dictionary.meaning('asdf')"
   ]
  },
  {
   "cell_type": "code",
   "execution_count": 106,
   "metadata": {},
   "outputs": [
    {
     "data": {
      "text/plain": [
       "[{'word': 'butterfingered',\n",
       "  'def': 'when a guy fingers',\n",
       "  'example': 'me girlfriend',\n",
       "  'category': 'unknown'}]"
      ]
     },
     "execution_count": 106,
     "metadata": {},
     "output_type": "execute_result"
    }
   ],
   "source": [
    "urbandict.define('butterfingered')"
   ]
  },
  {
   "cell_type": "code",
   "execution_count": 140,
   "metadata": {},
   "outputs": [
    {
     "ename": "TypeError",
     "evalue": "descriptor 'time' of 'datetime.datetime' object needs an argument",
     "output_type": "error",
     "traceback": [
      "\u001b[0;31m---------------------------------------------------------------------------\u001b[0m",
      "\u001b[0;31mTypeError\u001b[0m                                 Traceback (most recent call last)",
      "\u001b[0;32m<ipython-input-140-1a794641b2e4>\u001b[0m in \u001b[0;36m<module>\u001b[0;34m\u001b[0m\n\u001b[0;32m----> 1\u001b[0;31m \u001b[0mdatetime\u001b[0m\u001b[0;34m.\u001b[0m\u001b[0mtime\u001b[0m\u001b[0;34m(\u001b[0m\u001b[0;34m)\u001b[0m\u001b[0;34m\u001b[0m\u001b[0;34m\u001b[0m\u001b[0m\n\u001b[0m",
      "\u001b[0;31mTypeError\u001b[0m: descriptor 'time' of 'datetime.datetime' object needs an argument"
     ]
    }
   ],
   "source": [
    "datetime.time()"
   ]
  },
  {
   "cell_type": "code",
   "execution_count": null,
   "metadata": {},
   "outputs": [],
   "source": []
  },
  {
   "cell_type": "code",
   "execution_count": null,
   "metadata": {},
   "outputs": [],
   "source": []
  },
  {
   "cell_type": "code",
   "execution_count": null,
   "metadata": {},
   "outputs": [],
   "source": []
  },
  {
   "cell_type": "code",
   "execution_count": null,
   "metadata": {},
   "outputs": [],
   "source": []
  },
  {
   "cell_type": "code",
   "execution_count": null,
   "metadata": {},
   "outputs": [],
   "source": []
  },
  {
   "cell_type": "code",
   "execution_count": null,
   "metadata": {},
   "outputs": [],
   "source": []
  },
  {
   "cell_type": "code",
   "execution_count": null,
   "metadata": {},
   "outputs": [],
   "source": [
    "# lda = LatentDirichletAllocation(n_components=5, random_state = 0)\n",
    "# lda.fit(X)\n",
    "# lda.transform(X[-2:])"
   ]
  },
  {
   "cell_type": "code",
   "execution_count": null,
   "metadata": {},
   "outputs": [],
   "source": []
  },
  {
   "cell_type": "code",
   "execution_count": null,
   "metadata": {},
   "outputs": [],
   "source": []
  },
  {
   "cell_type": "markdown",
   "metadata": {},
   "source": [
    "# Time to Model"
   ]
  },
  {
   "cell_type": "code",
   "execution_count": 177,
   "metadata": {},
   "outputs": [],
   "source": [
    "# For picking up a restarted notebook, you can load up a previously prepared df here\n",
    "pipe.bus_review_df = pd.read_json('data/processed_df.json', orient = 'records')"
   ]
  },
  {
   "cell_type": "code",
   "execution_count": 180,
   "metadata": {},
   "outputs": [],
   "source": [
    "df = pipe.bus_review_df[['uid', 'iid', 'review_stars']]"
   ]
  },
  {
   "cell_type": "code",
   "execution_count": 181,
   "metadata": {},
   "outputs": [],
   "source": [
    "# And wipe the pipe to save memory\n",
    "pipe.bus_review_df = None\n",
    "pipe.review_df = None\n",
    "pipe.business_df = None"
   ]
  },
  {
   "cell_type": "code",
   "execution_count": 182,
   "metadata": {},
   "outputs": [],
   "source": [
    "# A reader is needed but only the rating_scale param is required.\n",
    "reader = Reader(rating_scale=(1, 5))\n",
    "data = Dataset.load_from_df(df, reader)\n",
    "trainset, testset = train_test_split(data, test_size = .05, random_state = 2)"
   ]
  },
  {
   "cell_type": "code",
   "execution_count": null,
   "metadata": {},
   "outputs": [
    {
     "name": "stdout",
     "output_type": "stream",
     "text": [
      "Estimating biases using als...\n"
     ]
    }
   ],
   "source": [
    "algs = [\n",
    "        SVD(), \n",
    "        surprise.SlopeOne(), \n",
    "        surprise.NMF(),\n",
    "        surprise.NormalPredictor(), \n",
    "        surprise.KNNBaseline(),\n",
    "        surprise.KNNBasic(), \n",
    "        surprise.KNNWithMeans(),\n",
    "        surprise.KNNWithZScore(), \n",
    "        surprise.BaselineOnly(),\n",
    "        surprise.CoClustering()\n",
    "        ]\n",
    "\n",
    "# Iterate over all algorithms\n",
    "for alg in algs:\n",
    "    \n",
    "    # Take a look at cross validation results to compare model types\n",
    "    print(cross_validate(alg, data, measures=['RMSE'], cv=5, verbose=True))\n"
   ]
  },
  {
   "cell_type": "markdown",
   "metadata": {},
   "source": [
    "NormalPredictor\n",
    "\n",
    "* Mean RMSE on 5 splits: 1.827"
   ]
  },
  {
   "cell_type": "code",
   "execution_count": 24,
   "metadata": {},
   "outputs": [],
   "source": [
    "naive_score = 1.827"
   ]
  },
  {
   "cell_type": "code",
   "execution_count": 159,
   "metadata": {},
   "outputs": [],
   "source": [
    "KNN_model = pickle.load(open('models/top_grid_KNNBaseline_model.pkl', 'rb'))"
   ]
  },
  {
   "cell_type": "code",
   "execution_count": null,
   "metadata": {},
   "outputs": [],
   "source": []
  },
  {
   "cell_type": "code",
   "execution_count": 161,
   "metadata": {},
   "outputs": [
    {
     "data": {
      "text/plain": [
       "{'k': 100,\n",
       " 'min_k': 4,\n",
       " 'bsl_options': {'method': 'als', 'reg': 1},\n",
       " 'sim_options': {'name': 'cosine',\n",
       "  'min_support': 1,\n",
       "  'user_based': False,\n",
       "  'shrinkage': 50},\n",
       " 'random_state': 2}"
      ]
     },
     "execution_count": 161,
     "metadata": {},
     "output_type": "execute_result"
    }
   ],
   "source": [
    "KNN_params = pickle.load(open('model_results/top_grid_KNNBaseline_params.pkl', 'rb'))\n",
    "KNN_params"
   ]
  },
  {
   "cell_type": "code",
   "execution_count": 25,
   "metadata": {},
   "outputs": [
    {
     "data": {
      "text/plain": [
       "1.1728866595837093"
      ]
     },
     "execution_count": 25,
     "metadata": {},
     "output_type": "execute_result"
    }
   ],
   "source": [
    "KNN_score = pickle.load(open('model_results/top_grid_KNNBaseline_score.pkl', 'rb'))\n",
    "KNN_score"
   ]
  },
  {
   "cell_type": "code",
   "execution_count": 26,
   "metadata": {},
   "outputs": [
    {
     "data": {
      "text/plain": [
       "1.1570598159339343"
      ]
     },
     "execution_count": 26,
     "metadata": {},
     "output_type": "execute_result"
    }
   ],
   "source": [
    "SVD_score = pickle.load(open('model_results/top_grid_SVD_score2.pkl', 'rb'))\n",
    "SVD_score"
   ]
  },
  {
   "cell_type": "markdown",
   "metadata": {},
   "source": [
    "# Now we've determined a model that we prefer, let's get the similarity matrix from it"
   ]
  },
  {
   "cell_type": "code",
   "execution_count": 163,
   "metadata": {},
   "outputs": [
    {
     "ename": "NameError",
     "evalue": "name 'trainset' is not defined",
     "output_type": "error",
     "traceback": [
      "\u001b[0;31m---------------------------------------------------------------------------\u001b[0m",
      "\u001b[0;31mNameError\u001b[0m                                 Traceback (most recent call last)",
      "\u001b[0;32m<ipython-input-163-eb38c95e37d4>\u001b[0m in \u001b[0;36m<module>\u001b[0;34m\u001b[0m\n\u001b[1;32m      1\u001b[0m \u001b[0malg\u001b[0m \u001b[0;34m=\u001b[0m \u001b[0msurprise\u001b[0m\u001b[0;34m.\u001b[0m\u001b[0mKNNBaseline\u001b[0m\u001b[0;34m(\u001b[0m\u001b[0mKNN_params\u001b[0m\u001b[0;34m)\u001b[0m\u001b[0;34m\u001b[0m\u001b[0;34m\u001b[0m\u001b[0m\n\u001b[1;32m      2\u001b[0m \u001b[0;34m\u001b[0m\u001b[0m\n\u001b[0;32m----> 3\u001b[0;31m \u001b[0malg\u001b[0m\u001b[0;34m.\u001b[0m\u001b[0mfit\u001b[0m\u001b[0;34m(\u001b[0m\u001b[0mtrainset\u001b[0m\u001b[0;34m)\u001b[0m\u001b[0;34m\u001b[0m\u001b[0;34m\u001b[0m\u001b[0m\n\u001b[0m",
      "\u001b[0;31mNameError\u001b[0m: name 'trainset' is not defined"
     ]
    }
   ],
   "source": [
    "alg = surprise.KNNBaseline(KNN_params)\n",
    "\n",
    "alg.fit(trainset)"
   ]
  },
  {
   "cell_type": "code",
   "execution_count": null,
   "metadata": {},
   "outputs": [],
   "source": [
    "similarity_matrix = alg.compute_similarities()"
   ]
  },
  {
   "cell_type": "code",
   "execution_count": null,
   "metadata": {},
   "outputs": [],
   "source": [
    "version = input('Please provide a distinguishing feature for this version:\\n')\n",
    "with open('data/similarity_matrix{}.pkl'.format(version), 'wb') as file:\n",
    "    pickle.dump(similarity_matrix, file)"
   ]
  },
  {
   "cell_type": "code",
   "execution_count": 27,
   "metadata": {},
   "outputs": [
    {
     "data": {
      "text/plain": [
       "Text(0.5, 1.0, 'Model Performance Evaluation')"
      ]
     },
     "execution_count": 27,
     "metadata": {},
     "output_type": "execute_result"
    },
    {
     "data": {
      "image/png": "[encoded data removed]",
      "text/plain": [
       "<Figure size 720x432 with 1 Axes>"
      ]
     },
     "metadata": {
      "needs_background": "light"
     },
     "output_type": "display_data"
    }
   ],
   "source": [
    "fig, ax = plt.subplots(figsize = (10, 6))\n",
    "ax.bar(['Naive Learner', 'KNNBaseline', 'SVD'], [naive_score, KNN_score, SVD_score])\n",
    "ax.set_ylabel('Mean RMSE of Cross Validation')\n",
    "ax.set_title('Model Performance Evaluation')"
   ]
  },
  {
   "cell_type": "code",
   "execution_count": null,
   "metadata": {},
   "outputs": [],
   "source": [
    "# y = df['review_stars']\n",
    "# X = df.drop('review_stars', axis=1)\n",
    "\n",
    "# X_train, X_test, y_train, y_test = train_test_split(X, y, test_size=0.2)\n",
    "\n",
    "# identifier_df_train = X_train[['user_id', 'business_id']]\n",
    "# identifier_df_test = X_test[['user_id', 'business_id']]\n",
    "\n",
    "#     # fit the model\n",
    "#     alg_name = str(algorithm)[str(algorithm).find('ization')+8 : str(algorithm).find('obj')-1]\n",
    "#     print('Fitting algorithm {}'.format(alg_name))\n",
    "#     algorithm.fit(train_set)\n",
    "\n",
    "#     # run predictions over\n",
    "#     print('Predicting algorithm {}'.format(alg_name))\n",
    "#     model_predictions = []\n",
    "#     model_ratings = []\n",
    "#     for idx, row in X_test.iterrows():\n",
    "#         prediction = algorithm.predict(row[0], row[1])\n",
    "#         model_predictions.append(prediction)\n",
    "#         model_ratings.append(prediction[3])\n",
    "\n",
    "#     # Pickle the models\n",
    "#     pred_pkl_file = alg_name + '_predictions.pkl'\n",
    "#     ratings_pkl_file = alg_name + '_ratings.pkl'\n",
    "#     pickle.dump(model_predictions, open(pred_pkl_file, 'wb'))\n",
    "#     pickle.dump(model_ratings, open(ratings_pkl_file, 'wb'))\n"
   ]
  },
  {
   "cell_type": "markdown",
   "metadata": {},
   "source": [
    "# Make Recommendations"
   ]
  },
  {
   "cell_type": "markdown",
   "metadata": {},
   "source": [
    "We are able to use simply the item-item similarity matrix to generate recommendations. Presently we are selecting the 3 restaurants with that are most similar to 4 restaurants of choice specified by the user."
   ]
  },
  {
   "cell_type": "code",
   "execution_count": null,
   "metadata": {},
   "outputs": [],
   "source": [
    "# Load similarities, bus_review_df, and item map to use for recommending\n",
    "with open('website/models/item_map.pkl', 'rb') as file:\n",
    "    item_map = pickle.load(file)\n",
    "\n",
    "with open('website/models/KNNBaseline_similarities.pkl', 'rb') as file:\n",
    "    similarities = pickle.load(file)\n",
    "\n",
    "df = pd.read_json('data/processed_df.json', orient='records')\n",
    "    \n",
    "selection = ['In-N-Out Burger', \"Chick-fil-A\", 'The Stand', 'ATL Wings']\n",
    "selection = ['The Stand', 'The Stand', 'The Stand', 'The Stand']\n",
    "selection = [\"Hungry Howie's Pizza\", \"In-N-Out Burger\", \"Chick-fil-A\", \"Chick-fil-A\"]"
   ]
  },
  {
   "cell_type": "code",
   "execution_count": null,
   "metadata": {},
   "outputs": [],
   "source": [
    "recommendations = get_recs(similarities, df, item_map, 3, selection)\n",
    "recommendations"
   ]
  },
  {
   "cell_type": "code",
   "execution_count": 113,
   "metadata": {},
   "outputs": [
    {
     "data": {
      "text/html": [
       "<div>\n",
       "<style scoped>\n",
       "    .dataframe tbody tr th:only-of-type {\n",
       "        vertical-align: middle;\n",
       "    }\n",
       "\n",
       "    .dataframe tbody tr th {\n",
       "        vertical-align: top;\n",
       "    }\n",
       "\n",
       "    .dataframe thead th {\n",
       "        text-align: right;\n",
       "    }\n",
       "</style>\n",
       "<table border=\"1\" class=\"dataframe\">\n",
       "  <thead>\n",
       "    <tr style=\"text-align: right;\">\n",
       "      <th></th>\n",
       "      <th>business_id</th>\n",
       "      <th>is_open</th>\n",
       "      <th>name</th>\n",
       "      <th>review_id</th>\n",
       "      <th>review_stars</th>\n",
       "      <th>state</th>\n",
       "      <th>iid</th>\n",
       "      <th>uid</th>\n",
       "    </tr>\n",
       "  </thead>\n",
       "  <tbody>\n",
       "    <tr>\n",
       "      <th>123818</th>\n",
       "      <td>13KW8P5n1jAxxHB7Bl_obg</td>\n",
       "      <td>1</td>\n",
       "      <td>Beaver Choice</td>\n",
       "      <td>g1jg_DKzxZlCFjph14c5hg</td>\n",
       "      <td>5</td>\n",
       "      <td>AZ</td>\n",
       "      <td>709</td>\n",
       "      <td>7303</td>\n",
       "    </tr>\n",
       "    <tr>\n",
       "      <th>123820</th>\n",
       "      <td>13KW8P5n1jAxxHB7Bl_obg</td>\n",
       "      <td>1</td>\n",
       "      <td>Beaver Choice</td>\n",
       "      <td>X6sGqmNX2COiSbeL6jUP5Q</td>\n",
       "      <td>1</td>\n",
       "      <td>AZ</td>\n",
       "      <td>709</td>\n",
       "      <td>27863</td>\n",
       "    </tr>\n",
       "    <tr>\n",
       "      <th>123821</th>\n",
       "      <td>13KW8P5n1jAxxHB7Bl_obg</td>\n",
       "      <td>1</td>\n",
       "      <td>Beaver Choice</td>\n",
       "      <td>TaMsbo-MkCy7upr66cpvPg</td>\n",
       "      <td>5</td>\n",
       "      <td>AZ</td>\n",
       "      <td>709</td>\n",
       "      <td>20729</td>\n",
       "    </tr>\n",
       "    <tr>\n",
       "      <th>123822</th>\n",
       "      <td>13KW8P5n1jAxxHB7Bl_obg</td>\n",
       "      <td>1</td>\n",
       "      <td>Beaver Choice</td>\n",
       "      <td>FgD549Q2jrmG8cwty31aEw</td>\n",
       "      <td>5</td>\n",
       "      <td>AZ</td>\n",
       "      <td>709</td>\n",
       "      <td>27864</td>\n",
       "    </tr>\n",
       "    <tr>\n",
       "      <th>123825</th>\n",
       "      <td>13KW8P5n1jAxxHB7Bl_obg</td>\n",
       "      <td>1</td>\n",
       "      <td>Beaver Choice</td>\n",
       "      <td>xSf8g6JSvHwPNzAV-3TspA</td>\n",
       "      <td>5</td>\n",
       "      <td>AZ</td>\n",
       "      <td>709</td>\n",
       "      <td>27865</td>\n",
       "    </tr>\n",
       "    <tr>\n",
       "      <th>123826</th>\n",
       "      <td>13KW8P5n1jAxxHB7Bl_obg</td>\n",
       "      <td>1</td>\n",
       "      <td>Beaver Choice</td>\n",
       "      <td>HspPm_JC--aKoF4kCEZmAA</td>\n",
       "      <td>5</td>\n",
       "      <td>AZ</td>\n",
       "      <td>709</td>\n",
       "      <td>20984</td>\n",
       "    </tr>\n",
       "    <tr>\n",
       "      <th>123827</th>\n",
       "      <td>13KW8P5n1jAxxHB7Bl_obg</td>\n",
       "      <td>1</td>\n",
       "      <td>Beaver Choice</td>\n",
       "      <td>RTXpbliOwZny7gwdcURqvg</td>\n",
       "      <td>5</td>\n",
       "      <td>AZ</td>\n",
       "      <td>709</td>\n",
       "      <td>2041</td>\n",
       "    </tr>\n",
       "    <tr>\n",
       "      <th>123828</th>\n",
       "      <td>13KW8P5n1jAxxHB7Bl_obg</td>\n",
       "      <td>1</td>\n",
       "      <td>Beaver Choice</td>\n",
       "      <td>gNNpZV5kng-uhN4hZagKXQ</td>\n",
       "      <td>2</td>\n",
       "      <td>AZ</td>\n",
       "      <td>709</td>\n",
       "      <td>1523</td>\n",
       "    </tr>\n",
       "    <tr>\n",
       "      <th>123829</th>\n",
       "      <td>13KW8P5n1jAxxHB7Bl_obg</td>\n",
       "      <td>1</td>\n",
       "      <td>Beaver Choice</td>\n",
       "      <td>f4geLGpPyBPdOmKRnPgwlw</td>\n",
       "      <td>5</td>\n",
       "      <td>AZ</td>\n",
       "      <td>709</td>\n",
       "      <td>14744</td>\n",
       "    </tr>\n",
       "    <tr>\n",
       "      <th>123830</th>\n",
       "      <td>13KW8P5n1jAxxHB7Bl_obg</td>\n",
       "      <td>1</td>\n",
       "      <td>Beaver Choice</td>\n",
       "      <td>wFEhhGhbTRD2Pav0ImF9Lg</td>\n",
       "      <td>4</td>\n",
       "      <td>AZ</td>\n",
       "      <td>709</td>\n",
       "      <td>2172</td>\n",
       "    </tr>\n",
       "    <tr>\n",
       "      <th>123833</th>\n",
       "      <td>13KW8P5n1jAxxHB7Bl_obg</td>\n",
       "      <td>1</td>\n",
       "      <td>Beaver Choice</td>\n",
       "      <td>uH4T08CMpWLR1h3l4e-28A</td>\n",
       "      <td>1</td>\n",
       "      <td>AZ</td>\n",
       "      <td>709</td>\n",
       "      <td>27866</td>\n",
       "    </tr>\n",
       "    <tr>\n",
       "      <th>123834</th>\n",
       "      <td>13KW8P5n1jAxxHB7Bl_obg</td>\n",
       "      <td>1</td>\n",
       "      <td>Beaver Choice</td>\n",
       "      <td>zXVjpxatAcHEiaXCPO2SfA</td>\n",
       "      <td>4</td>\n",
       "      <td>AZ</td>\n",
       "      <td>709</td>\n",
       "      <td>598</td>\n",
       "    </tr>\n",
       "    <tr>\n",
       "      <th>123835</th>\n",
       "      <td>13KW8P5n1jAxxHB7Bl_obg</td>\n",
       "      <td>1</td>\n",
       "      <td>Beaver Choice</td>\n",
       "      <td>qyUGPLoN6kLZutOFfeACkQ</td>\n",
       "      <td>1</td>\n",
       "      <td>AZ</td>\n",
       "      <td>709</td>\n",
       "      <td>27867</td>\n",
       "    </tr>\n",
       "    <tr>\n",
       "      <th>123836</th>\n",
       "      <td>13KW8P5n1jAxxHB7Bl_obg</td>\n",
       "      <td>1</td>\n",
       "      <td>Beaver Choice</td>\n",
       "      <td>HvbdysnRM62whH1fiyw4bw</td>\n",
       "      <td>5</td>\n",
       "      <td>AZ</td>\n",
       "      <td>709</td>\n",
       "      <td>24610</td>\n",
       "    </tr>\n",
       "    <tr>\n",
       "      <th>123837</th>\n",
       "      <td>13KW8P5n1jAxxHB7Bl_obg</td>\n",
       "      <td>1</td>\n",
       "      <td>Beaver Choice</td>\n",
       "      <td>EV3g_iDSsa5xI2t4SCnlKA</td>\n",
       "      <td>3</td>\n",
       "      <td>AZ</td>\n",
       "      <td>709</td>\n",
       "      <td>1595</td>\n",
       "    </tr>\n",
       "    <tr>\n",
       "      <th>123838</th>\n",
       "      <td>13KW8P5n1jAxxHB7Bl_obg</td>\n",
       "      <td>1</td>\n",
       "      <td>Beaver Choice</td>\n",
       "      <td>NN4zBafxHJWyJjJFvp4Zqw</td>\n",
       "      <td>5</td>\n",
       "      <td>AZ</td>\n",
       "      <td>709</td>\n",
       "      <td>5816</td>\n",
       "    </tr>\n",
       "    <tr>\n",
       "      <th>123841</th>\n",
       "      <td>13KW8P5n1jAxxHB7Bl_obg</td>\n",
       "      <td>1</td>\n",
       "      <td>Beaver Choice</td>\n",
       "      <td>OQ4925j5GANU2sLjmhaMug</td>\n",
       "      <td>5</td>\n",
       "      <td>AZ</td>\n",
       "      <td>709</td>\n",
       "      <td>688</td>\n",
       "    </tr>\n",
       "    <tr>\n",
       "      <th>123842</th>\n",
       "      <td>13KW8P5n1jAxxHB7Bl_obg</td>\n",
       "      <td>1</td>\n",
       "      <td>Beaver Choice</td>\n",
       "      <td>1RVz-zshPy415ic4x5Cvpg</td>\n",
       "      <td>5</td>\n",
       "      <td>AZ</td>\n",
       "      <td>709</td>\n",
       "      <td>8838</td>\n",
       "    </tr>\n",
       "    <tr>\n",
       "      <th>123843</th>\n",
       "      <td>13KW8P5n1jAxxHB7Bl_obg</td>\n",
       "      <td>1</td>\n",
       "      <td>Beaver Choice</td>\n",
       "      <td>rX67fbX6OrOgopRVc8LOAQ</td>\n",
       "      <td>4</td>\n",
       "      <td>AZ</td>\n",
       "      <td>709</td>\n",
       "      <td>27868</td>\n",
       "    </tr>\n",
       "    <tr>\n",
       "      <th>123845</th>\n",
       "      <td>13KW8P5n1jAxxHB7Bl_obg</td>\n",
       "      <td>1</td>\n",
       "      <td>Beaver Choice</td>\n",
       "      <td>e2BjinRL-Abf2W1yxe4uYg</td>\n",
       "      <td>2</td>\n",
       "      <td>AZ</td>\n",
       "      <td>709</td>\n",
       "      <td>27869</td>\n",
       "    </tr>\n",
       "    <tr>\n",
       "      <th>123846</th>\n",
       "      <td>13KW8P5n1jAxxHB7Bl_obg</td>\n",
       "      <td>1</td>\n",
       "      <td>Beaver Choice</td>\n",
       "      <td>e5eSbyi9QaCAsKWWOkz52A</td>\n",
       "      <td>5</td>\n",
       "      <td>AZ</td>\n",
       "      <td>709</td>\n",
       "      <td>7468</td>\n",
       "    </tr>\n",
       "    <tr>\n",
       "      <th>123847</th>\n",
       "      <td>13KW8P5n1jAxxHB7Bl_obg</td>\n",
       "      <td>1</td>\n",
       "      <td>Beaver Choice</td>\n",
       "      <td>ysR5Edn4XBF-TOLYQNtnxg</td>\n",
       "      <td>5</td>\n",
       "      <td>AZ</td>\n",
       "      <td>709</td>\n",
       "      <td>26128</td>\n",
       "    </tr>\n",
       "    <tr>\n",
       "      <th>123848</th>\n",
       "      <td>13KW8P5n1jAxxHB7Bl_obg</td>\n",
       "      <td>1</td>\n",
       "      <td>Beaver Choice</td>\n",
       "      <td>mRl50-RidcNoO0W8edbjkg</td>\n",
       "      <td>4</td>\n",
       "      <td>AZ</td>\n",
       "      <td>709</td>\n",
       "      <td>8215</td>\n",
       "    </tr>\n",
       "    <tr>\n",
       "      <th>123849</th>\n",
       "      <td>13KW8P5n1jAxxHB7Bl_obg</td>\n",
       "      <td>1</td>\n",
       "      <td>Beaver Choice</td>\n",
       "      <td>tfnQjSUC2-HLLx85PA2oOg</td>\n",
       "      <td>4</td>\n",
       "      <td>AZ</td>\n",
       "      <td>709</td>\n",
       "      <td>996</td>\n",
       "    </tr>\n",
       "    <tr>\n",
       "      <th>123850</th>\n",
       "      <td>13KW8P5n1jAxxHB7Bl_obg</td>\n",
       "      <td>1</td>\n",
       "      <td>Beaver Choice</td>\n",
       "      <td>ITozNiZSZ0alTyUMSL_6rA</td>\n",
       "      <td>3</td>\n",
       "      <td>AZ</td>\n",
       "      <td>709</td>\n",
       "      <td>5188</td>\n",
       "    </tr>\n",
       "    <tr>\n",
       "      <th>123851</th>\n",
       "      <td>13KW8P5n1jAxxHB7Bl_obg</td>\n",
       "      <td>1</td>\n",
       "      <td>Beaver Choice</td>\n",
       "      <td>pEssRADVtPslaMEeRmLWZA</td>\n",
       "      <td>5</td>\n",
       "      <td>AZ</td>\n",
       "      <td>709</td>\n",
       "      <td>2417</td>\n",
       "    </tr>\n",
       "    <tr>\n",
       "      <th>123852</th>\n",
       "      <td>13KW8P5n1jAxxHB7Bl_obg</td>\n",
       "      <td>1</td>\n",
       "      <td>Beaver Choice</td>\n",
       "      <td>Yfbxgjxvr9Yx3h-VqSpovw</td>\n",
       "      <td>5</td>\n",
       "      <td>AZ</td>\n",
       "      <td>709</td>\n",
       "      <td>27870</td>\n",
       "    </tr>\n",
       "    <tr>\n",
       "      <th>123853</th>\n",
       "      <td>13KW8P5n1jAxxHB7Bl_obg</td>\n",
       "      <td>1</td>\n",
       "      <td>Beaver Choice</td>\n",
       "      <td>9cgW4EXXqEmPWrKKo4kiJQ</td>\n",
       "      <td>5</td>\n",
       "      <td>AZ</td>\n",
       "      <td>709</td>\n",
       "      <td>27871</td>\n",
       "    </tr>\n",
       "    <tr>\n",
       "      <th>137840</th>\n",
       "      <td>13KW8P5n1jAxxHB7Bl_obg</td>\n",
       "      <td>1</td>\n",
       "      <td>Beaver Choice</td>\n",
       "      <td>AlR53hxqlqKGcSE751e5ww</td>\n",
       "      <td>5</td>\n",
       "      <td>AZ</td>\n",
       "      <td>709</td>\n",
       "      <td>3289</td>\n",
       "    </tr>\n",
       "    <tr>\n",
       "      <th>137841</th>\n",
       "      <td>13KW8P5n1jAxxHB7Bl_obg</td>\n",
       "      <td>1</td>\n",
       "      <td>Beaver Choice</td>\n",
       "      <td>She0OoeGQzXi4AERIEVgCw</td>\n",
       "      <td>3</td>\n",
       "      <td>AZ</td>\n",
       "      <td>709</td>\n",
       "      <td>6044</td>\n",
       "    </tr>\n",
       "    <tr>\n",
       "      <th>...</th>\n",
       "      <td>...</td>\n",
       "      <td>...</td>\n",
       "      <td>...</td>\n",
       "      <td>...</td>\n",
       "      <td>...</td>\n",
       "      <td>...</td>\n",
       "      <td>...</td>\n",
       "      <td>...</td>\n",
       "    </tr>\n",
       "    <tr>\n",
       "      <th>230248</th>\n",
       "      <td>13KW8P5n1jAxxHB7Bl_obg</td>\n",
       "      <td>1</td>\n",
       "      <td>Beaver Choice</td>\n",
       "      <td>g42GoHqt9Gx9FYUkru3xOw</td>\n",
       "      <td>5</td>\n",
       "      <td>AZ</td>\n",
       "      <td>709</td>\n",
       "      <td>13964</td>\n",
       "    </tr>\n",
       "    <tr>\n",
       "      <th>230249</th>\n",
       "      <td>13KW8P5n1jAxxHB7Bl_obg</td>\n",
       "      <td>1</td>\n",
       "      <td>Beaver Choice</td>\n",
       "      <td>u-wIyIb--o7zfZJ7Lx30HQ</td>\n",
       "      <td>4</td>\n",
       "      <td>AZ</td>\n",
       "      <td>709</td>\n",
       "      <td>18909</td>\n",
       "    </tr>\n",
       "    <tr>\n",
       "      <th>230250</th>\n",
       "      <td>13KW8P5n1jAxxHB7Bl_obg</td>\n",
       "      <td>1</td>\n",
       "      <td>Beaver Choice</td>\n",
       "      <td>u3O-b3K9EhdyQXdB_VJ7Yg</td>\n",
       "      <td>5</td>\n",
       "      <td>AZ</td>\n",
       "      <td>709</td>\n",
       "      <td>11915</td>\n",
       "    </tr>\n",
       "    <tr>\n",
       "      <th>230253</th>\n",
       "      <td>13KW8P5n1jAxxHB7Bl_obg</td>\n",
       "      <td>1</td>\n",
       "      <td>Beaver Choice</td>\n",
       "      <td>y3xFjOcYtqQ4klpnBK0Yaw</td>\n",
       "      <td>5</td>\n",
       "      <td>AZ</td>\n",
       "      <td>709</td>\n",
       "      <td>38356</td>\n",
       "    </tr>\n",
       "    <tr>\n",
       "      <th>230254</th>\n",
       "      <td>13KW8P5n1jAxxHB7Bl_obg</td>\n",
       "      <td>1</td>\n",
       "      <td>Beaver Choice</td>\n",
       "      <td>B8xZIRBG2lUYseHiSJmneQ</td>\n",
       "      <td>4</td>\n",
       "      <td>AZ</td>\n",
       "      <td>709</td>\n",
       "      <td>21181</td>\n",
       "    </tr>\n",
       "    <tr>\n",
       "      <th>230259</th>\n",
       "      <td>13KW8P5n1jAxxHB7Bl_obg</td>\n",
       "      <td>1</td>\n",
       "      <td>Beaver Choice</td>\n",
       "      <td>wSnUijHKDZjjt7yc6Ix16w</td>\n",
       "      <td>4</td>\n",
       "      <td>AZ</td>\n",
       "      <td>709</td>\n",
       "      <td>7453</td>\n",
       "    </tr>\n",
       "    <tr>\n",
       "      <th>230261</th>\n",
       "      <td>13KW8P5n1jAxxHB7Bl_obg</td>\n",
       "      <td>1</td>\n",
       "      <td>Beaver Choice</td>\n",
       "      <td>1FFEAQDtZG7jkLxSF_8uFA</td>\n",
       "      <td>4</td>\n",
       "      <td>AZ</td>\n",
       "      <td>709</td>\n",
       "      <td>3825</td>\n",
       "    </tr>\n",
       "    <tr>\n",
       "      <th>230262</th>\n",
       "      <td>13KW8P5n1jAxxHB7Bl_obg</td>\n",
       "      <td>1</td>\n",
       "      <td>Beaver Choice</td>\n",
       "      <td>BbTo-Dms3jkI0kW-xf1-4Q</td>\n",
       "      <td>4</td>\n",
       "      <td>AZ</td>\n",
       "      <td>709</td>\n",
       "      <td>8406</td>\n",
       "    </tr>\n",
       "    <tr>\n",
       "      <th>230267</th>\n",
       "      <td>13KW8P5n1jAxxHB7Bl_obg</td>\n",
       "      <td>1</td>\n",
       "      <td>Beaver Choice</td>\n",
       "      <td>NAPHxDEMyWz_JEDN7R1Gng</td>\n",
       "      <td>4</td>\n",
       "      <td>AZ</td>\n",
       "      <td>709</td>\n",
       "      <td>6297</td>\n",
       "    </tr>\n",
       "    <tr>\n",
       "      <th>230268</th>\n",
       "      <td>13KW8P5n1jAxxHB7Bl_obg</td>\n",
       "      <td>1</td>\n",
       "      <td>Beaver Choice</td>\n",
       "      <td>lY8_orJyH6QWHNda6gAShA</td>\n",
       "      <td>1</td>\n",
       "      <td>AZ</td>\n",
       "      <td>709</td>\n",
       "      <td>2181</td>\n",
       "    </tr>\n",
       "    <tr>\n",
       "      <th>230269</th>\n",
       "      <td>13KW8P5n1jAxxHB7Bl_obg</td>\n",
       "      <td>1</td>\n",
       "      <td>Beaver Choice</td>\n",
       "      <td>2JcTjL04x6KAstWvOkIUYA</td>\n",
       "      <td>3</td>\n",
       "      <td>AZ</td>\n",
       "      <td>709</td>\n",
       "      <td>26560</td>\n",
       "    </tr>\n",
       "    <tr>\n",
       "      <th>230270</th>\n",
       "      <td>13KW8P5n1jAxxHB7Bl_obg</td>\n",
       "      <td>1</td>\n",
       "      <td>Beaver Choice</td>\n",
       "      <td>L5FjJHGBZfzPTkLkmQjbmQ</td>\n",
       "      <td>4</td>\n",
       "      <td>AZ</td>\n",
       "      <td>709</td>\n",
       "      <td>6385</td>\n",
       "    </tr>\n",
       "    <tr>\n",
       "      <th>230272</th>\n",
       "      <td>13KW8P5n1jAxxHB7Bl_obg</td>\n",
       "      <td>1</td>\n",
       "      <td>Beaver Choice</td>\n",
       "      <td>A046OfGfImxOWzobHWQlQw</td>\n",
       "      <td>3</td>\n",
       "      <td>AZ</td>\n",
       "      <td>709</td>\n",
       "      <td>8838</td>\n",
       "    </tr>\n",
       "    <tr>\n",
       "      <th>230273</th>\n",
       "      <td>13KW8P5n1jAxxHB7Bl_obg</td>\n",
       "      <td>1</td>\n",
       "      <td>Beaver Choice</td>\n",
       "      <td>friHe8An0d3BvEPBfjjy0A</td>\n",
       "      <td>4</td>\n",
       "      <td>AZ</td>\n",
       "      <td>709</td>\n",
       "      <td>10727</td>\n",
       "    </tr>\n",
       "    <tr>\n",
       "      <th>230274</th>\n",
       "      <td>13KW8P5n1jAxxHB7Bl_obg</td>\n",
       "      <td>1</td>\n",
       "      <td>Beaver Choice</td>\n",
       "      <td>wi2HNfPtWgJ-xL3yw8GS0Q</td>\n",
       "      <td>5</td>\n",
       "      <td>AZ</td>\n",
       "      <td>709</td>\n",
       "      <td>24602</td>\n",
       "    </tr>\n",
       "    <tr>\n",
       "      <th>230275</th>\n",
       "      <td>13KW8P5n1jAxxHB7Bl_obg</td>\n",
       "      <td>1</td>\n",
       "      <td>Beaver Choice</td>\n",
       "      <td>WZVjkNspqD4UyBIl0qv1nQ</td>\n",
       "      <td>5</td>\n",
       "      <td>AZ</td>\n",
       "      <td>709</td>\n",
       "      <td>10305</td>\n",
       "    </tr>\n",
       "    <tr>\n",
       "      <th>230276</th>\n",
       "      <td>13KW8P5n1jAxxHB7Bl_obg</td>\n",
       "      <td>1</td>\n",
       "      <td>Beaver Choice</td>\n",
       "      <td>w_olNAsRm4BZXK4nu7kCsA</td>\n",
       "      <td>5</td>\n",
       "      <td>AZ</td>\n",
       "      <td>709</td>\n",
       "      <td>35282</td>\n",
       "    </tr>\n",
       "    <tr>\n",
       "      <th>230278</th>\n",
       "      <td>13KW8P5n1jAxxHB7Bl_obg</td>\n",
       "      <td>1</td>\n",
       "      <td>Beaver Choice</td>\n",
       "      <td>xqEcjJeWomN78NyJru5Uaw</td>\n",
       "      <td>5</td>\n",
       "      <td>AZ</td>\n",
       "      <td>709</td>\n",
       "      <td>23620</td>\n",
       "    </tr>\n",
       "    <tr>\n",
       "      <th>230279</th>\n",
       "      <td>13KW8P5n1jAxxHB7Bl_obg</td>\n",
       "      <td>1</td>\n",
       "      <td>Beaver Choice</td>\n",
       "      <td>J3fy2qxcUvFZ_I0BEYJEEQ</td>\n",
       "      <td>5</td>\n",
       "      <td>AZ</td>\n",
       "      <td>709</td>\n",
       "      <td>23577</td>\n",
       "    </tr>\n",
       "    <tr>\n",
       "      <th>230280</th>\n",
       "      <td>13KW8P5n1jAxxHB7Bl_obg</td>\n",
       "      <td>1</td>\n",
       "      <td>Beaver Choice</td>\n",
       "      <td>te3pa5VzRwr631iIkThCzQ</td>\n",
       "      <td>5</td>\n",
       "      <td>AZ</td>\n",
       "      <td>709</td>\n",
       "      <td>5380</td>\n",
       "    </tr>\n",
       "    <tr>\n",
       "      <th>230282</th>\n",
       "      <td>13KW8P5n1jAxxHB7Bl_obg</td>\n",
       "      <td>1</td>\n",
       "      <td>Beaver Choice</td>\n",
       "      <td>Na9Ebmd_SOAyLn-hblCpCw</td>\n",
       "      <td>5</td>\n",
       "      <td>AZ</td>\n",
       "      <td>709</td>\n",
       "      <td>220</td>\n",
       "    </tr>\n",
       "    <tr>\n",
       "      <th>230283</th>\n",
       "      <td>13KW8P5n1jAxxHB7Bl_obg</td>\n",
       "      <td>1</td>\n",
       "      <td>Beaver Choice</td>\n",
       "      <td>DUeDkk1v6H7eefbte-3xZg</td>\n",
       "      <td>1</td>\n",
       "      <td>AZ</td>\n",
       "      <td>709</td>\n",
       "      <td>38357</td>\n",
       "    </tr>\n",
       "    <tr>\n",
       "      <th>230284</th>\n",
       "      <td>13KW8P5n1jAxxHB7Bl_obg</td>\n",
       "      <td>1</td>\n",
       "      <td>Beaver Choice</td>\n",
       "      <td>-zMu1ByDFCb4DTTI6O9rkA</td>\n",
       "      <td>5</td>\n",
       "      <td>AZ</td>\n",
       "      <td>709</td>\n",
       "      <td>23343</td>\n",
       "    </tr>\n",
       "    <tr>\n",
       "      <th>230285</th>\n",
       "      <td>13KW8P5n1jAxxHB7Bl_obg</td>\n",
       "      <td>1</td>\n",
       "      <td>Beaver Choice</td>\n",
       "      <td>CQRqJpt6MtnhG5GvXasdGw</td>\n",
       "      <td>2</td>\n",
       "      <td>AZ</td>\n",
       "      <td>709</td>\n",
       "      <td>36875</td>\n",
       "    </tr>\n",
       "    <tr>\n",
       "      <th>230286</th>\n",
       "      <td>13KW8P5n1jAxxHB7Bl_obg</td>\n",
       "      <td>1</td>\n",
       "      <td>Beaver Choice</td>\n",
       "      <td>6EhMX2PPE0Xn7JHgCApVqA</td>\n",
       "      <td>5</td>\n",
       "      <td>AZ</td>\n",
       "      <td>709</td>\n",
       "      <td>35423</td>\n",
       "    </tr>\n",
       "    <tr>\n",
       "      <th>241966</th>\n",
       "      <td>13KW8P5n1jAxxHB7Bl_obg</td>\n",
       "      <td>1</td>\n",
       "      <td>Beaver Choice</td>\n",
       "      <td>oycBVDlgDHbYuH6e3JuQKw</td>\n",
       "      <td>1</td>\n",
       "      <td>AZ</td>\n",
       "      <td>709</td>\n",
       "      <td>4564</td>\n",
       "    </tr>\n",
       "    <tr>\n",
       "      <th>241968</th>\n",
       "      <td>13KW8P5n1jAxxHB7Bl_obg</td>\n",
       "      <td>1</td>\n",
       "      <td>Beaver Choice</td>\n",
       "      <td>Or7tOLdgaMknwpkNMTPOhg</td>\n",
       "      <td>5</td>\n",
       "      <td>AZ</td>\n",
       "      <td>709</td>\n",
       "      <td>3471</td>\n",
       "    </tr>\n",
       "    <tr>\n",
       "      <th>241969</th>\n",
       "      <td>13KW8P5n1jAxxHB7Bl_obg</td>\n",
       "      <td>1</td>\n",
       "      <td>Beaver Choice</td>\n",
       "      <td>RI7-p8bypzFrUfKKDyiT-g</td>\n",
       "      <td>3</td>\n",
       "      <td>AZ</td>\n",
       "      <td>709</td>\n",
       "      <td>22410</td>\n",
       "    </tr>\n",
       "    <tr>\n",
       "      <th>241970</th>\n",
       "      <td>13KW8P5n1jAxxHB7Bl_obg</td>\n",
       "      <td>1</td>\n",
       "      <td>Beaver Choice</td>\n",
       "      <td>J_AolTBhotJBODRfb6Ap8w</td>\n",
       "      <td>4</td>\n",
       "      <td>AZ</td>\n",
       "      <td>709</td>\n",
       "      <td>31767</td>\n",
       "    </tr>\n",
       "    <tr>\n",
       "      <th>241971</th>\n",
       "      <td>13KW8P5n1jAxxHB7Bl_obg</td>\n",
       "      <td>1</td>\n",
       "      <td>Beaver Choice</td>\n",
       "      <td>Gg8nm-MjdEIpHzB_RcAmCA</td>\n",
       "      <td>4</td>\n",
       "      <td>AZ</td>\n",
       "      <td>709</td>\n",
       "      <td>4674</td>\n",
       "    </tr>\n",
       "  </tbody>\n",
       "</table>\n",
       "<p>251 rows × 8 columns</p>\n",
       "</div>"
      ],
      "text/plain": [
       "                   business_id  is_open           name  \\\n",
       "123818  13KW8P5n1jAxxHB7Bl_obg        1  Beaver Choice   \n",
       "123820  13KW8P5n1jAxxHB7Bl_obg        1  Beaver Choice   \n",
       "123821  13KW8P5n1jAxxHB7Bl_obg        1  Beaver Choice   \n",
       "123822  13KW8P5n1jAxxHB7Bl_obg        1  Beaver Choice   \n",
       "123825  13KW8P5n1jAxxHB7Bl_obg        1  Beaver Choice   \n",
       "123826  13KW8P5n1jAxxHB7Bl_obg        1  Beaver Choice   \n",
       "123827  13KW8P5n1jAxxHB7Bl_obg        1  Beaver Choice   \n",
       "123828  13KW8P5n1jAxxHB7Bl_obg        1  Beaver Choice   \n",
       "123829  13KW8P5n1jAxxHB7Bl_obg        1  Beaver Choice   \n",
       "123830  13KW8P5n1jAxxHB7Bl_obg        1  Beaver Choice   \n",
       "123833  13KW8P5n1jAxxHB7Bl_obg        1  Beaver Choice   \n",
       "123834  13KW8P5n1jAxxHB7Bl_obg        1  Beaver Choice   \n",
       "123835  13KW8P5n1jAxxHB7Bl_obg        1  Beaver Choice   \n",
       "123836  13KW8P5n1jAxxHB7Bl_obg        1  Beaver Choice   \n",
       "123837  13KW8P5n1jAxxHB7Bl_obg        1  Beaver Choice   \n",
       "123838  13KW8P5n1jAxxHB7Bl_obg        1  Beaver Choice   \n",
       "123841  13KW8P5n1jAxxHB7Bl_obg        1  Beaver Choice   \n",
       "123842  13KW8P5n1jAxxHB7Bl_obg        1  Beaver Choice   \n",
       "123843  13KW8P5n1jAxxHB7Bl_obg        1  Beaver Choice   \n",
       "123845  13KW8P5n1jAxxHB7Bl_obg        1  Beaver Choice   \n",
       "123846  13KW8P5n1jAxxHB7Bl_obg        1  Beaver Choice   \n",
       "123847  13KW8P5n1jAxxHB7Bl_obg        1  Beaver Choice   \n",
       "123848  13KW8P5n1jAxxHB7Bl_obg        1  Beaver Choice   \n",
       "123849  13KW8P5n1jAxxHB7Bl_obg        1  Beaver Choice   \n",
       "123850  13KW8P5n1jAxxHB7Bl_obg        1  Beaver Choice   \n",
       "123851  13KW8P5n1jAxxHB7Bl_obg        1  Beaver Choice   \n",
       "123852  13KW8P5n1jAxxHB7Bl_obg        1  Beaver Choice   \n",
       "123853  13KW8P5n1jAxxHB7Bl_obg        1  Beaver Choice   \n",
       "137840  13KW8P5n1jAxxHB7Bl_obg        1  Beaver Choice   \n",
       "137841  13KW8P5n1jAxxHB7Bl_obg        1  Beaver Choice   \n",
       "...                        ...      ...            ...   \n",
       "230248  13KW8P5n1jAxxHB7Bl_obg        1  Beaver Choice   \n",
       "230249  13KW8P5n1jAxxHB7Bl_obg        1  Beaver Choice   \n",
       "230250  13KW8P5n1jAxxHB7Bl_obg        1  Beaver Choice   \n",
       "230253  13KW8P5n1jAxxHB7Bl_obg        1  Beaver Choice   \n",
       "230254  13KW8P5n1jAxxHB7Bl_obg        1  Beaver Choice   \n",
       "230259  13KW8P5n1jAxxHB7Bl_obg        1  Beaver Choice   \n",
       "230261  13KW8P5n1jAxxHB7Bl_obg        1  Beaver Choice   \n",
       "230262  13KW8P5n1jAxxHB7Bl_obg        1  Beaver Choice   \n",
       "230267  13KW8P5n1jAxxHB7Bl_obg        1  Beaver Choice   \n",
       "230268  13KW8P5n1jAxxHB7Bl_obg        1  Beaver Choice   \n",
       "230269  13KW8P5n1jAxxHB7Bl_obg        1  Beaver Choice   \n",
       "230270  13KW8P5n1jAxxHB7Bl_obg        1  Beaver Choice   \n",
       "230272  13KW8P5n1jAxxHB7Bl_obg        1  Beaver Choice   \n",
       "230273  13KW8P5n1jAxxHB7Bl_obg        1  Beaver Choice   \n",
       "230274  13KW8P5n1jAxxHB7Bl_obg        1  Beaver Choice   \n",
       "230275  13KW8P5n1jAxxHB7Bl_obg        1  Beaver Choice   \n",
       "230276  13KW8P5n1jAxxHB7Bl_obg        1  Beaver Choice   \n",
       "230278  13KW8P5n1jAxxHB7Bl_obg        1  Beaver Choice   \n",
       "230279  13KW8P5n1jAxxHB7Bl_obg        1  Beaver Choice   \n",
       "230280  13KW8P5n1jAxxHB7Bl_obg        1  Beaver Choice   \n",
       "230282  13KW8P5n1jAxxHB7Bl_obg        1  Beaver Choice   \n",
       "230283  13KW8P5n1jAxxHB7Bl_obg        1  Beaver Choice   \n",
       "230284  13KW8P5n1jAxxHB7Bl_obg        1  Beaver Choice   \n",
       "230285  13KW8P5n1jAxxHB7Bl_obg        1  Beaver Choice   \n",
       "230286  13KW8P5n1jAxxHB7Bl_obg        1  Beaver Choice   \n",
       "241966  13KW8P5n1jAxxHB7Bl_obg        1  Beaver Choice   \n",
       "241968  13KW8P5n1jAxxHB7Bl_obg        1  Beaver Choice   \n",
       "241969  13KW8P5n1jAxxHB7Bl_obg        1  Beaver Choice   \n",
       "241970  13KW8P5n1jAxxHB7Bl_obg        1  Beaver Choice   \n",
       "241971  13KW8P5n1jAxxHB7Bl_obg        1  Beaver Choice   \n",
       "\n",
       "                     review_id  review_stars state  iid    uid  \n",
       "123818  g1jg_DKzxZlCFjph14c5hg             5    AZ  709   7303  \n",
       "123820  X6sGqmNX2COiSbeL6jUP5Q             1    AZ  709  27863  \n",
       "123821  TaMsbo-MkCy7upr66cpvPg             5    AZ  709  20729  \n",
       "123822  FgD549Q2jrmG8cwty31aEw             5    AZ  709  27864  \n",
       "123825  xSf8g6JSvHwPNzAV-3TspA             5    AZ  709  27865  \n",
       "123826  HspPm_JC--aKoF4kCEZmAA             5    AZ  709  20984  \n",
       "123827  RTXpbliOwZny7gwdcURqvg             5    AZ  709   2041  \n",
       "123828  gNNpZV5kng-uhN4hZagKXQ             2    AZ  709   1523  \n",
       "123829  f4geLGpPyBPdOmKRnPgwlw             5    AZ  709  14744  \n",
       "123830  wFEhhGhbTRD2Pav0ImF9Lg             4    AZ  709   2172  \n",
       "123833  uH4T08CMpWLR1h3l4e-28A             1    AZ  709  27866  \n",
       "123834  zXVjpxatAcHEiaXCPO2SfA             4    AZ  709    598  \n",
       "123835  qyUGPLoN6kLZutOFfeACkQ             1    AZ  709  27867  \n",
       "123836  HvbdysnRM62whH1fiyw4bw             5    AZ  709  24610  \n",
       "123837  EV3g_iDSsa5xI2t4SCnlKA             3    AZ  709   1595  \n",
       "123838  NN4zBafxHJWyJjJFvp4Zqw             5    AZ  709   5816  \n",
       "123841  OQ4925j5GANU2sLjmhaMug             5    AZ  709    688  \n",
       "123842  1RVz-zshPy415ic4x5Cvpg             5    AZ  709   8838  \n",
       "123843  rX67fbX6OrOgopRVc8LOAQ             4    AZ  709  27868  \n",
       "123845  e2BjinRL-Abf2W1yxe4uYg             2    AZ  709  27869  \n",
       "123846  e5eSbyi9QaCAsKWWOkz52A             5    AZ  709   7468  \n",
       "123847  ysR5Edn4XBF-TOLYQNtnxg             5    AZ  709  26128  \n",
       "123848  mRl50-RidcNoO0W8edbjkg             4    AZ  709   8215  \n",
       "123849  tfnQjSUC2-HLLx85PA2oOg             4    AZ  709    996  \n",
       "123850  ITozNiZSZ0alTyUMSL_6rA             3    AZ  709   5188  \n",
       "123851  pEssRADVtPslaMEeRmLWZA             5    AZ  709   2417  \n",
       "123852  Yfbxgjxvr9Yx3h-VqSpovw             5    AZ  709  27870  \n",
       "123853  9cgW4EXXqEmPWrKKo4kiJQ             5    AZ  709  27871  \n",
       "137840  AlR53hxqlqKGcSE751e5ww             5    AZ  709   3289  \n",
       "137841  She0OoeGQzXi4AERIEVgCw             3    AZ  709   6044  \n",
       "...                        ...           ...   ...  ...    ...  \n",
       "230248  g42GoHqt9Gx9FYUkru3xOw             5    AZ  709  13964  \n",
       "230249  u-wIyIb--o7zfZJ7Lx30HQ             4    AZ  709  18909  \n",
       "230250  u3O-b3K9EhdyQXdB_VJ7Yg             5    AZ  709  11915  \n",
       "230253  y3xFjOcYtqQ4klpnBK0Yaw             5    AZ  709  38356  \n",
       "230254  B8xZIRBG2lUYseHiSJmneQ             4    AZ  709  21181  \n",
       "230259  wSnUijHKDZjjt7yc6Ix16w             4    AZ  709   7453  \n",
       "230261  1FFEAQDtZG7jkLxSF_8uFA             4    AZ  709   3825  \n",
       "230262  BbTo-Dms3jkI0kW-xf1-4Q             4    AZ  709   8406  \n",
       "230267  NAPHxDEMyWz_JEDN7R1Gng             4    AZ  709   6297  \n",
       "230268  lY8_orJyH6QWHNda6gAShA             1    AZ  709   2181  \n",
       "230269  2JcTjL04x6KAstWvOkIUYA             3    AZ  709  26560  \n",
       "230270  L5FjJHGBZfzPTkLkmQjbmQ             4    AZ  709   6385  \n",
       "230272  A046OfGfImxOWzobHWQlQw             3    AZ  709   8838  \n",
       "230273  friHe8An0d3BvEPBfjjy0A             4    AZ  709  10727  \n",
       "230274  wi2HNfPtWgJ-xL3yw8GS0Q             5    AZ  709  24602  \n",
       "230275  WZVjkNspqD4UyBIl0qv1nQ             5    AZ  709  10305  \n",
       "230276  w_olNAsRm4BZXK4nu7kCsA             5    AZ  709  35282  \n",
       "230278  xqEcjJeWomN78NyJru5Uaw             5    AZ  709  23620  \n",
       "230279  J3fy2qxcUvFZ_I0BEYJEEQ             5    AZ  709  23577  \n",
       "230280  te3pa5VzRwr631iIkThCzQ             5    AZ  709   5380  \n",
       "230282  Na9Ebmd_SOAyLn-hblCpCw             5    AZ  709    220  \n",
       "230283  DUeDkk1v6H7eefbte-3xZg             1    AZ  709  38357  \n",
       "230284  -zMu1ByDFCb4DTTI6O9rkA             5    AZ  709  23343  \n",
       "230285  CQRqJpt6MtnhG5GvXasdGw             2    AZ  709  36875  \n",
       "230286  6EhMX2PPE0Xn7JHgCApVqA             5    AZ  709  35423  \n",
       "241966  oycBVDlgDHbYuH6e3JuQKw             1    AZ  709   4564  \n",
       "241968  Or7tOLdgaMknwpkNMTPOhg             5    AZ  709   3471  \n",
       "241969  RI7-p8bypzFrUfKKDyiT-g             3    AZ  709  22410  \n",
       "241970  J_AolTBhotJBODRfb6Ap8w             4    AZ  709  31767  \n",
       "241971  Gg8nm-MjdEIpHzB_RcAmCA             4    AZ  709   4674  \n",
       "\n",
       "[251 rows x 8 columns]"
      ]
     },
     "execution_count": 113,
     "metadata": {},
     "output_type": "execute_result"
    }
   ],
   "source": [
    "pipe.bus_review_df[pipe.bus_review_df.name == 'Beaver Choice']"
   ]
  },
  {
   "cell_type": "code",
   "execution_count": null,
   "metadata": {},
   "outputs": [],
   "source": []
  },
  {
   "cell_type": "code",
   "execution_count": null,
   "metadata": {},
   "outputs": [],
   "source": []
  },
  {
   "cell_type": "code",
   "execution_count": null,
   "metadata": {},
   "outputs": [],
   "source": []
  }
 ],
 "metadata": {
  "kernelspec": {
   "display_name": "Python 3",
   "language": "python",
   "name": "python3"
  },
  "language_info": {
   "codemirror_mode": {
    "name": "ipython",
    "version": 3
   },
   "file_extension": ".py",
   "mimetype": "text/x-python",
   "name": "python",
   "nbconvert_exporter": "python",
   "pygments_lexer": "ipython3",
   "version": "3.8.2"
  }
 },
 "nbformat": 4,
 "nbformat_minor": 2
}
