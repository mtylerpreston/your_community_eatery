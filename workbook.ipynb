{
 "cells": [
  {
   "cell_type": "code",
   "execution_count": null,
   "metadata": {},
   "outputs": [],
   "source": [
    "# Project specific modules\n",
    "from src.pipeline import YourCommunityEatery\n",
    "from src.functions import build_item_map\n",
    "\n",
    "# The basics\n",
    "import pandas as pd\n",
    "import numpy as np\n",
    "import matplotlib.pyplot as plt\n",
    "\n",
    "# Spark library and functions\n",
    "import pyspark as ps\n",
    "import pyspark.sql.types as types\n",
    "from pyspark.sql.functions import col, countDistinct\n",
    "from pyspark.sql.functions import to_timestamp\n",
    "\n",
    "# Sklearn Modeling\n",
    "from sklearn.model_selection import train_test_split\n",
    "\n",
    "\n",
    "# Surprise modeling\n",
    "from surprise import SVD\n",
    "import surprise\n",
    "from surprise import Dataset, Reader\n",
    "from surprise.model_selection import cross_validate\n",
    "\n",
    "# Persistance\n",
    "import pickle\n",
    "\n",
    "# Housekeeping\n",
    "from io import StringIO"
   ]
  },
  {
   "cell_type": "markdown",
   "metadata": {},
   "source": [
    "# Spark Based Initial EDA"
   ]
  },
  {
   "cell_type": "code",
   "execution_count": null,
   "metadata": {},
   "outputs": [],
   "source": [
    "spark = (ps.sql.SparkSession\n",
    "         .builder\n",
    "         .master('local[4]')\n",
    "         .appName('lecture')\n",
    "         .getOrCreate()\n",
    "        )\n",
    "# sc = spark.sparkContext\n",
    "\n",
    "review_df = spark.read.json(\"data/review.json\")\n",
    "# checkin_df = spark.read.json(\"data/checkin.json\")\n",
    "# tip_df = spark.read.json(\"data/tip.json\")\n",
    "# user_df = spark.read.json(\"data/user.json\")\n",
    "business_df = spark.read.json(\"data/business.json\")"
   ]
  },
  {
   "cell_type": "code",
   "execution_count": 12,
   "metadata": {},
   "outputs": [
    {
     "name": "stdout",
     "output_type": "stream",
     "text": [
      "+-------+----------+-----------+----------+----+-----+-------+--------+---------+------+-----------+------------+-----+-----+\n",
      "|address|attributes|business_id|categories|city|hours|is_open|latitude|longitude|  name|postal_code|review_count|stars|state|\n",
      "+-------+----------+-----------+----------+----+-----+-------+--------+---------+------+-----------+------------+-----+-----+\n",
      "| 151977|     67875|     192609|     93385|1204|51566|      2|  155162|   150404|145046|      17541|        1184|    9|   36|\n",
      "+-------+----------+-----------+----------+----+-----+-------+--------+---------+------+-----------+------------+-----+-----+\n",
      "\n"
     ]
    }
   ],
   "source": [
    "this = business_df.agg(*(countDistinct(col(c)).alias(c) for c in business_df.columns))\n",
    "this.show(1)"
   ]
  },
  {
   "cell_type": "code",
   "execution_count": 14,
   "metadata": {},
   "outputs": [
    {
     "name": "stdout",
     "output_type": "stream",
     "text": [
      "+-----------+----+-------+-----+---------+-----+-------+------+-------+\n",
      "|business_id|cool|   date|funny|review_id|stars|   text|useful|user_id|\n",
      "+-----------+----+-------+-----+---------+-----+-------+------+-------+\n",
      "|     192606| 201|6552820|  231|  6685900|    5|6668738|   289|1637138|\n",
      "+-----------+----+-------+-----+---------+-----+-------+------+-------+\n",
      "\n"
     ]
    }
   ],
   "source": [
    "this = review_df.agg(*(countDistinct(col(c)).alias(c) for c in review_df.columns))\n",
    "this.show(1)"
   ]
  },
  {
   "cell_type": "code",
   "execution_count": null,
   "metadata": {},
   "outputs": [],
   "source": [
    "bsubset_df = business_df.filter((business_df.categories.like('%Restaurants%')) &\n",
    "                                (business_df.state == 'AZ')                               \n",
    "                               )\n",
    "print('There are {} Arizona restaurants in the dataset.'.format(bsubset_df.count()))"
   ]
  },
  {
   "cell_type": "code",
   "execution_count": null,
   "metadata": {},
   "outputs": [],
   "source": [
    "# Join business and review df's\n",
    "bus_review_df = review_df.join(business_df, review_df.business_id_r == business_df.business_id,\n",
    "                                how='left')"
   ]
  },
  {
   "cell_type": "markdown",
   "metadata": {},
   "source": [
    "### Which region should we select for proceeding with this study? \n",
    "\n",
    "Let's look at the densities to decide:"
   ]
  },
  {
   "cell_type": "code",
   "execution_count": null,
   "metadata": {},
   "outputs": [],
   "source": [
    "def calculate_region_density(state, businesses, bus_reviews):\n",
    "    num_businesses = businesses.filter((businesses.categories.like('%Restaurants%')) &\n",
    "                                (business_df.state == state)).count()\n",
    "    num_reviews = bus_reviews.filter((bus_reviews.categories.like('%Restaurants%')) &\n",
    "                                (bus_reviews.state == state)).count()\n",
    "    return num_reviews/num_businesses\n",
    "\n",
    "def compare_region_densities(regions, businesses, bus_reviews):\n",
    "    max_density = 0\n",
    "    density_dict = {}\n",
    "    for region in regions:\n",
    "        density = calculate_region_density(region, businesses, bus_reviews)\n",
    "        density_dict[region] = density\n",
    "        if density > max_density:\n",
    "            max_density = density\n",
    "            max_region = region\n",
    "\n",
    "    print('Best Region: {}\\nBest Density: {}'.format(max_region, max_density))\n",
    "    return density_dict"
   ]
  },
  {
   "cell_type": "code",
   "execution_count": null,
   "metadata": {},
   "outputs": [],
   "source": [
    "regions = ['AZ', 'ON', 'NC', 'AB', 'NV', 'OH', 'PA', 'IL', 'SC', 'QC']\n",
    "\n",
    "density_dict = compare_region_densities(regions, business_df, bus_review_df)\n",
    "\n",
    "pd.DataFrame.from_dict(density_dict, orient = 'index').sort_values(0, ascending = False).plot.bar(legend = False, figsize = (10, 6))\n",
    "plt.ylabel('Review Density')\n",
    "plt.xlabel('Region')\n",
    "plt.title('Review Density by Region')"
   ]
  },
  {
   "cell_type": "markdown",
   "metadata": {},
   "source": [
    "## Major Metros in Dataset\n",
    "#### Las Vegas\n",
    "* Henderson\n",
    "#### Toronto\n",
    "* Missassauga\n",
    "* Markham\n",
    "* North York\n",
    "#### Phoenix - 56,686\n",
    "* Mesa\n",
    "* Tempe\n",
    "* Scottsdale\n",
    "* Chandler\n",
    "* Glendale\n",
    "* Gilbert\n",
    "* Peoria\n",
    "* Surprise\n",
    "#### Calgary\n",
    "#### Pittsburgh\n",
    "#### Montreal\n",
    "#### Cleveland\n",
    "#### Madison, WI\n",
    "#### Champaign, IL"
   ]
  },
  {
   "cell_type": "markdown",
   "metadata": {},
   "source": [
    "## The winner: Arizona\n",
    "\n",
    "We are proceeding with Arizona based businesses for this case study. Although Nevada has a greater density of reviews/restaurant, this data scientist considers it to be an anomaly in the restaurant space as well as user space given the impact tourism would have on restaurant visits/reviews. Arizona has the next highest density, would be expected to include a healthy mix of resident and non-resident reviews, most reviews are concentrated around Phoenix, and we would expect Phoenix to have a diverse group of users."
   ]
  },
  {
   "cell_type": "markdown",
   "metadata": {},
   "source": [
    "# Further EDA"
   ]
  },
  {
   "cell_type": "markdown",
   "metadata": {},
   "source": [
    "Let's go ahead and pare the data down to reviews for restaurants in our area of interest so we can work in Pandas. To deal with the issue of running out of memory loading the entire dataset, the code below uses a project-specific class to read the data in chunks, identify the rows of interest, and then join the pertinent parts of all chunks together."
   ]
  },
  {
   "cell_type": "code",
   "execution_count": null,
   "metadata": {},
   "outputs": [],
   "source": [
    "# Load the data without spark but still accounting for low memory\n",
    "pipe = CleanYelpData(use_spark=False, low_memory = True)\n",
    "pipe.read_data()\n",
    "bus_review_df = pipe.concatenate_chunks()"
   ]
  },
  {
   "cell_type": "markdown",
   "metadata": {},
   "source": [
    "Alternatively, we can just load the data from a file created by the above process"
   ]
  },
  {
   "cell_type": "code",
   "execution_count": 147,
   "metadata": {},
   "outputs": [],
   "source": [
    "bus_review_df = pd.read_pickle('data/bus_review_df.pkl')"
   ]
  },
  {
   "cell_type": "markdown",
   "metadata": {},
   "source": [
    "### Let's dive deeper into the data. What is the distribution of users per restaurant? \n",
    "\n",
    "Keeping in mind this is log-scaled on the y axis, this data appears to be exponentially distributed."
   ]
  },
  {
   "cell_type": "code",
   "execution_count": 277,
   "metadata": {},
   "outputs": [
    {
     "data": {
      "text/plain": [
       "Text(0, 0.5, 'Number of Restaurants (Log-scaled)')"
      ]
     },
     "execution_count": 277,
     "metadata": {},
     "output_type": "execute_result"
    },
    {
     "data": {
      "image/png": "[encoded data removed]",
      "text/plain": [
       "<Figure size 720x432 with 1 Axes>"
      ]
     },
     "metadata": {
      "needs_background": "light"
     },
     "output_type": "display_data"
    }
   ],
   "source": [
    "groups = bus_review_df.groupby('business_id')\n",
    "ax = groups.user_id.nunique().hist(bins = 100, figsize = (10, 6))\n",
    "ax.set_yscale('log')\n",
    "ax.set_xlabel('Number of Users with Available Reviews')\n",
    "ax.set_ylabel('Number of Restaurants (Log-scaled)')\n",
    "# The number of users who reviewed each restaurant restaurant is exponentially distributed throughout\n",
    "# the restaurants in AZ."
   ]
  },
  {
   "cell_type": "markdown",
   "metadata": {},
   "source": [
    "What is the distribution of ratings per user?\n",
    "\n",
    "From the graph below, we are able to see that this is exponentially distributed. There are several users who have made significant numbers of reviews. Normally this might be cause for concern that their reviews are not legitimate; however, this dataset consists only of reviews that Yelp has validated and \"recommended\", so they are likely just very passionate about food."
   ]
  },
  {
   "cell_type": "code",
   "execution_count": 296,
   "metadata": {},
   "outputs": [
    {
     "data": {
      "text/plain": [
       "Text(0, 0.5, 'Number of Users (Log-scaled)')"
      ]
     },
     "execution_count": 296,
     "metadata": {},
     "output_type": "execute_result"
    },
    {
     "data": {
      "image/png": "[encoded data removed]",
      "text/plain": [
       "<Figure size 720x432 with 1 Axes>"
      ]
     },
     "metadata": {
      "needs_background": "light"
     },
     "output_type": "display_data"
    }
   ],
   "source": [
    "groups = bus_review_df.groupby('user_id')\n",
    "ax = groups.review_id.nunique().hist(bins = 100, figsize = (10, 6))\n",
    "ax.set_yscale('log')\n",
    "ax.set_xlabel('Number of Reviews from A User')\n",
    "ax.set_ylabel('Number of Users (Log-scaled)')"
   ]
  },
  {
   "cell_type": "markdown",
   "metadata": {},
   "source": [
    "Let's verify the text of the highest volume user to be sure they are not a bot. As shown below, only one user exceeded 1000 reviews and their id is 'ELcQDlf69kb-ihJfxZyL0A'."
   ]
  },
  {
   "cell_type": "code",
   "execution_count": 265,
   "metadata": {},
   "outputs": [
    {
     "data": {
      "text/plain": [
       "user_id\n",
       "ELcQDlf69kb-ihJfxZyL0A    1278\n",
       "Name: review_id, dtype: int64"
      ]
     },
     "execution_count": 265,
     "metadata": {},
     "output_type": "execute_result"
    }
   ],
   "source": [
    "groups = bus_review_df.groupby('user_id')\n",
    "groups.review_id.nunique()[groups.review_id.nunique()>1000]"
   ]
  },
  {
   "cell_type": "markdown",
   "metadata": {},
   "source": [
    "As we see below, they appear to be legitimate. We may be curious as to why someone would write so many reviews, but that is outside the scope of this project."
   ]
  },
  {
   "cell_type": "code",
   "execution_count": 168,
   "metadata": {},
   "outputs": [
    {
     "ename": "NameError",
     "evalue": "name 'bus_review_df' is not defined",
     "output_type": "error",
     "traceback": [
      "\u001b[0;31m---------------------------------------------------------------------------\u001b[0m",
      "\u001b[0;31mNameError\u001b[0m                                 Traceback (most recent call last)",
      "\u001b[0;32m<ipython-input-168-c82c200c6239>\u001b[0m in \u001b[0;36m<module>\u001b[0;34m\u001b[0m\n\u001b[0;32m----> 1\u001b[0;31m \u001b[0mbus_review_df\u001b[0m\u001b[0;34m[\u001b[0m\u001b[0mbus_review_df\u001b[0m\u001b[0;34m.\u001b[0m\u001b[0muser_id\u001b[0m \u001b[0;34m==\u001b[0m \u001b[0;34m'ELcQDlf69kb-ihJfxZyL0A'\u001b[0m\u001b[0;34m]\u001b[0m\u001b[0;34m.\u001b[0m\u001b[0mtext\u001b[0m\u001b[0;34m.\u001b[0m\u001b[0miloc\u001b[0m\u001b[0;34m[\u001b[0m\u001b[0;36m356\u001b[0m\u001b[0;34m]\u001b[0m\u001b[0;34m\u001b[0m\u001b[0;34m\u001b[0m\u001b[0m\n\u001b[0m",
      "\u001b[0;31mNameError\u001b[0m: name 'bus_review_df' is not defined"
     ]
    }
   ],
   "source": [
    "bus_review_df[bus_review_df.user_id == 'ELcQDlf69kb-ihJfxZyL0A'].text.iloc[356]"
   ]
  },
  {
   "cell_type": "code",
   "execution_count": 273,
   "metadata": {},
   "outputs": [
    {
     "data": {
      "text/plain": [
       "'Not too impressed with the prices or quality of this semi new ice cream place. The lone asian women behind the counter was nice, but this shop immediately reminded me of one of those asian donut shops you see in every city. The donuts in those places are not usually good and the ice cream here was less than memorable as well. First off, make the size of the sundae bigger or lower the $6.50 price of that sundae. It\\'s not even a sundae technically because it has no syrup. You get two small scoops of bad ice cream (i needed to try 5 flavors to find decent one), two stale macaroons and that \"famous\" toasted marshmallow. One person with me had a bad aftertaste for at least an hour after the nutella. My flavor was cinnamon toast crunch, which like many flavors, are just vanilla with cereal tossed inside. If your gonna overpay for ice cream, go to creamistry. BTW , If you go non sundae, prices are normal.'"
      ]
     },
     "execution_count": 273,
     "metadata": {},
     "output_type": "execute_result"
    }
   ],
   "source": [
    "bus_review_df[bus_review_df.user_id == 'ELcQDlf69kb-ihJfxZyL0A'].text.iloc[763]"
   ]
  },
  {
   "cell_type": "markdown",
   "metadata": {},
   "source": [
    "### Although we have seen some serious outliers on the high volume end, given that we believe these to be genuine reviews, we are going to graciously accept their contributions to our density.\n",
    "\n",
    "### Let's continue to quantify some more metrics about our data: \n",
    "\n",
    "What is the average number of unique users who reviewed each restaurant?"
   ]
  },
  {
   "cell_type": "code",
   "execution_count": 289,
   "metadata": {},
   "outputs": [
    {
     "name": "stdout",
     "output_type": "stream",
     "text": [
      "On average, each restaurant has been reviewed by 100.11 users.\n"
     ]
    }
   ],
   "source": [
    "groups = bus_review_df.groupby('business_id')\n",
    "mean = groups.user_id.nunique().mean()\n",
    "print('On average, each restaurant has been reviewed by {:.2f} users.'.format(mean))"
   ]
  },
  {
   "cell_type": "markdown",
   "metadata": {},
   "source": [
    "What about for reviews?"
   ]
  },
  {
   "cell_type": "code",
   "execution_count": 288,
   "metadata": {},
   "outputs": [
    {
     "name": "stdout",
     "output_type": "stream",
     "text": [
      "The average number of reviews per restaurant is 103.94\n"
     ]
    }
   ],
   "source": [
    "groups = bus_review_df.groupby('business_id')\n",
    "mean = groups.review_id.nunique().mean()\n",
    "print('The average number of reviews per restaurant is {:.2f}'.format(mean))"
   ]
  },
  {
   "cell_type": "markdown",
   "metadata": {},
   "source": [
    "The fact that the average number for reviews is higher than that of users demonstrates that there are cases where the same users have left multiple reviews for the same restaurant."
   ]
  },
  {
   "cell_type": "code",
   "execution_count": 303,
   "metadata": {},
   "outputs": [
    {
     "name": "stdout",
     "output_type": "stream",
     "text": [
      "There are 9293 restaurants with 10 or more reviews.\n",
      "This makes up 81.1% of the total restaurants in our scope.\n"
     ]
    }
   ],
   "source": [
    "groups = bus_review_df.groupby('business_id')\n",
    "user_threshold = 10\n",
    "num_restaurants = len(groups.groups)\n",
    "rest_over_10_users = groups.user_id.nunique()[groups.user_id.nunique()>=user_threshold].count()\n",
    "\n",
    "print('There are {} restaurants with {} or more reviews.'.format(rest_over_10_users, user_threshold))\n",
    "print('This makes up {:.1f}% of the total restaurants in our scope.'.format(100*rest_over_10_users/num_restaurants))\n",
    "\n",
    "# Out of 11,465 restaurants in AZ\n",
    "# 3345 have been reviewed by 100 or more users (not nearly enough)\n",
    "# 7610 have been reviewed by 20 or more users (close but could be better)\n",
    "# 9293 have been reviewed by 10 or more users (81% of restaurants, this works)"
   ]
  },
  {
   "cell_type": "markdown",
   "metadata": {},
   "source": [
    "## For model training, let's consider trimming down our dataset to increase density\n",
    "\n",
    "We have done some preliminary modeling with rough results (essentially the same as taking the average). It is expected that the restaurants and users with low counts of reviews are making our user-restaurant matrix too sparse. Let's cut off those density killers and re-evaluate some of these metrics."
   ]
  },
  {
   "cell_type": "code",
   "execution_count": 413,
   "metadata": {},
   "outputs": [
    {
     "name": "stdout",
     "output_type": "stream",
     "text": [
      "Removing users with less than 2 reviews leaves us with 85.38% of the original amount of reviews.\n",
      "Removing users with less than 3 reviews leaves us with 76.13% of the original amount of reviews.\n",
      "Removing users with less than 4 reviews leaves us with 69.32% of the original amount of reviews.\n",
      "Removing users with less than 5 reviews leaves us with 63.92% of the original amount of reviews.\n",
      "Removing users with less than 6 reviews leaves us with 59.53% of the original amount of reviews.\n",
      "Removing users with less than 7 reviews leaves us with 55.79% of the original amount of reviews.\n"
     ]
    }
   ],
   "source": [
    "user_thresholds = [2, 3, 4, 5, 6, 7]\n",
    "\n",
    "for thresh in user_thresholds:\n",
    "    groups = bus_review_df.groupby('user_id')\n",
    "    user_selection = groups.review_id.nunique()>=thresh\n",
    "    user_selection = user_selection[user_selection]\n",
    "    trimmed_df = bus_review_df[bus_review_df.user_id.isin(user_selection.index)]\n",
    "\n",
    "    full = len(bus_review_df)\n",
    "    trimmed = len(trimmed_df)\n",
    "    print('Removing users with less than {} reviews leaves us with {:.2f}% of the original amount of reviews.'.format(thresh, 100*(trimmed)/full))"
   ]
  },
  {
   "cell_type": "code",
   "execution_count": 414,
   "metadata": {},
   "outputs": [
    {
     "name": "stdout",
     "output_type": "stream",
     "text": [
      "Removing businesses reviewed by less than 5 users leaves us with 99.75% of the original amount of reviews.\n",
      "Removing businesses reviewed by less than 10 users leaves us with 98.95% of the original amount of reviews.\n",
      "Removing businesses reviewed by less than 20 users leaves us with 96.90% of the original amount of reviews.\n",
      "Removing businesses reviewed by less than 30 users leaves us with 94.58% of the original amount of reviews.\n",
      "Removing businesses reviewed by less than 40 users leaves us with 92.45% of the original amount of reviews.\n",
      "Removing businesses reviewed by less than 50 users leaves us with 90.23% of the original amount of reviews.\n"
     ]
    }
   ],
   "source": [
    "business_thresholds = [5, 10, 20, 30, 40, 50]\n",
    "\n",
    "for thresh in business_thresholds:\n",
    "    groups = bus_review_df.groupby('business_id')\n",
    "    business_selection = groups.user_id.nunique()>=thresh\n",
    "    business_selection = business_selection[business_selection]\n",
    "    trimmed_df = bus_review_df[bus_review_df.business_id.isin(business_selection.index)]\n",
    "\n",
    "    full = len(bus_review_df)\n",
    "    trimmed = len(trimmed_df)\n",
    "    print('Removing businesses reviewed by less than {} users leaves us with {:.2f}% of the original amount of reviews.'.format(thresh, 100*(trimmed)/full))"
   ]
  },
  {
   "cell_type": "markdown",
   "metadata": {},
   "source": [
    "### Based on these results, we are selecting based on the following:\n",
    "* Only including reviews for businesses that have been reviewed by at least 50 users\n",
    "* Only including reviews for users that have reviewed at least 4 restaurants"
   ]
  },
  {
   "cell_type": "code",
   "execution_count": 420,
   "metadata": {},
   "outputs": [],
   "source": [
    "# Time to trim the data set based on minimum thresholds as defined above\n",
    "groups = bus_review_df.groupby('user_id')\n",
    "user_selection = groups.review_id.nunique()>=4\n",
    "user_selection = user_selection[user_selection]\n",
    "trimmed_df = bus_review_df[bus_review_df.user_id.isin(user_selection.index)]\n",
    "\n",
    "groups = trimmed_df.groupby('business_id')\n",
    "business_selection = groups.user_id.nunique()>=50\n",
    "business_selection = business_selection[business_selection]\n",
    "trimmed_df = trimmed_df[trimmed_df.business_id.isin(business_selection.index)]"
   ]
  },
  {
   "cell_type": "code",
   "execution_count": 424,
   "metadata": {
    "scrolled": false
   },
   "outputs": [],
   "source": [
    "# And let's persist it for testing models in our module on AWS\n",
    "trimmed_df.to_json('data/trimmed_df.json', orient = 'records')"
   ]
  },
  {
   "cell_type": "code",
   "execution_count": null,
   "metadata": {},
   "outputs": [],
   "source": []
  },
  {
   "cell_type": "code",
   "execution_count": null,
   "metadata": {},
   "outputs": [],
   "source": []
  },
  {
   "cell_type": "code",
   "execution_count": null,
   "metadata": {},
   "outputs": [],
   "source": []
  },
  {
   "cell_type": "code",
   "execution_count": null,
   "metadata": {},
   "outputs": [],
   "source": []
  },
  {
   "cell_type": "code",
   "execution_count": null,
   "metadata": {},
   "outputs": [],
   "source": []
  },
  {
   "cell_type": "code",
   "execution_count": null,
   "metadata": {},
   "outputs": [],
   "source": []
  },
  {
   "cell_type": "code",
   "execution_count": null,
   "metadata": {},
   "outputs": [],
   "source": []
  },
  {
   "cell_type": "code",
   "execution_count": null,
   "metadata": {},
   "outputs": [],
   "source": []
  },
  {
   "cell_type": "code",
   "execution_count": null,
   "metadata": {},
   "outputs": [],
   "source": []
  },
  {
   "cell_type": "code",
   "execution_count": null,
   "metadata": {},
   "outputs": [],
   "source": []
  },
  {
   "cell_type": "code",
   "execution_count": null,
   "metadata": {},
   "outputs": [],
   "source": []
  },
  {
   "cell_type": "code",
   "execution_count": 40,
   "metadata": {},
   "outputs": [],
   "source": [
    "\n"
   ]
  },
  {
   "cell_type": "markdown",
   "metadata": {},
   "source": [
    "# Explore modeling"
   ]
  },
  {
   "cell_type": "code",
   "execution_count": null,
   "metadata": {},
   "outputs": [],
   "source": [
    "def get_similarity_matrix(fitted_model):\n",
    "    '''\n",
    "    Compute similarity matrix from a fitted model and convert it to a \n",
    "    Pandas Dataframe. This won't use any additional memory, but lends more\n",
    "    functionality.\n",
    "    '''\n",
    "    similarity_matrix = fitted_model.compute_similarities()\n",
    "    return pd.DataFrame(similarity_matrix)\n",
    "\n",
    "def recommend(similarity_matrix, data_df, item_map, n, selections = ['In-N-Out Burger', 'Chick-fil-A', 'The Stand', 'Whataburger']):\n",
    "    '''\n",
    "    Use the similarity matrix to find most similar restaurants to the four\n",
    "    that the user specified in their selections. \n",
    "    \n",
    "    Params:\n",
    "    ~~~~~~~~~~~~\n",
    "    similarity_matrix: type - Pandas Dataframe\n",
    "    Similarity matrix from our fitted production model\n",
    "    \n",
    "    data_df: type - Pandas Dataframe\n",
    "    Dataframe that has all of the pertinent data so that we can ensure we don't \n",
    "    the same chain of restaurants to someone just because they had a different\n",
    "    location.\n",
    "    \n",
    "    item_map: type - Dict\n",
    "    Dictionary that maps the business_id, name, and i_business_id (for surprise), with\n",
    "    business_id as keys, and tupes of name and i_business_id as values.\n",
    "    \n",
    "    n: type - in\n",
    "    Number of recommendations to provide\n",
    "    \n",
    "    selections: type - list of strings\n",
    "    Names of restaurants that user selected for recommendations.\n",
    "    '''\n",
    "    # Create new dataframe for holding the vectors of similarities for\n",
    "    # the user's selections\n",
    "    item_vectors = pd.DataFrame()\n",
    "    for key, val in item_map.items():\n",
    "        if val[0] in selections:\n",
    "            item_vectors[val[1]] = similarity_matrix.iloc[:, val[1]]\n",
    "            \n",
    "    # Take mean similarity across columns and sort by it to \n",
    "    # raise the best picks to the top\n",
    "    item_vectors['mean_similarity'] = item_vectors.mean(axis = 1)\n",
    "    item_vectors.sort_values(by = 'mean_similarity', ascending = False, inplace = True)\n",
    "    \n",
    "    # Make sure that the picks don't have the same exact name\n",
    "    name_mask = data_df.name.isin(selections)\n",
    "    picks = item_vectors[~name_mask].index.unique()[:n]\n",
    "    print(picks)\n",
    "    \n",
    "# #     picks = item_vectors[~name_mask].iloc[:n, :].index\n",
    "    recs = data_df[['business_id', 'name', 'i_business_id']].drop_duplicates(['i_business_id'])\n",
    "    recs = recs[recs.i_business_id.isin(picks)]\n",
    "        \n",
    "    return recs\n",
    "    \n"
   ]
  },
  {
   "cell_type": "code",
   "execution_count": null,
   "metadata": {},
   "outputs": [],
   "source": [
    "# Read in dataset\n",
    "df = pd.read_json('data/test_df.json', orient='records')\n",
    "\n",
    "# Take the necessary data from the df in the order that we need to pass to surprise\n",
    "# Also map user and business ids to integers that we can use for Surprise\n",
    "train_df = pd.DataFrame()\n",
    "train_df['uid'] = pd.factorize(df.uid)[0]\n",
    "train_df['iid'] = pd.factorize(df.iid)[0]\n",
    "train_df['rating'] = df.review_stars\n",
    "df = None\n",
    "\n",
    "# Create a dictionary mapping business ids, integer bus ids, and names for future reference\n",
    "item_dict = build_item_map(train_df)"
   ]
  },
  {
   "cell_type": "code",
   "execution_count": 97,
   "metadata": {},
   "outputs": [],
   "source": [
    "# Load the df as a dataset in surprise\n",
    "reader = Reader(rating_scale=(1, 5))\n",
    "data = Dataset.load_from_df(train_df, reader)\n",
    "trainset = data.build_full_trainset()"
   ]
  },
  {
   "cell_type": "code",
   "execution_count": 98,
   "metadata": {},
   "outputs": [],
   "source": [
    "# Read in a model\n",
    "model = pickle.load(open('models/top_grid_KNNBaseline_model_trial.pkl', 'rb'))"
   ]
  },
  {
   "cell_type": "code",
   "execution_count": 99,
   "metadata": {},
   "outputs": [
    {
     "name": "stdout",
     "output_type": "stream",
     "text": [
      "Estimating biases using als...\n",
      "Computing the cosine similarity matrix...\n",
      "Done computing similarity matrix.\n"
     ]
    },
    {
     "data": {
      "text/plain": [
       "<surprise.prediction_algorithms.knns.KNNBaseline at 0x1b1fec78d0>"
      ]
     },
     "execution_count": 99,
     "metadata": {},
     "output_type": "execute_result"
    }
   ],
   "source": [
    "# Fit the model to the trainset\n",
    "model.fit(trainset)"
   ]
  },
  {
   "cell_type": "code",
   "execution_count": 30,
   "metadata": {},
   "outputs": [
    {
     "name": "stdout",
     "output_type": "stream",
     "text": [
      "Computing the cosine similarity matrix...\n",
      "Done computing similarity matrix.\n"
     ]
    }
   ],
   "source": [
    "similarity_matrix = get_similarity_matrix(model)"
   ]
  },
  {
   "cell_type": "code",
   "execution_count": null,
   "metadata": {},
   "outputs": [],
   "source": [
    "# Persist the item_dict and similarity matrix for use in website\n",
    "with open('website/data/item_map.pkl', 'wb') as file:\n",
    "    pickle.dump(item_dict, file)\n",
    "with open('website/data/similarities.pkl', 'wb') as file:\n",
    "    pickle.dump(similarity_matrix, file)"
   ]
  },
  {
   "cell_type": "code",
   "execution_count": 170,
   "metadata": {},
   "outputs": [
    {
     "name": "stderr",
     "output_type": "stream",
     "text": [
      "/Users/tylerpreston/anaconda3/lib/python3.7/site-packages/ipykernel_launcher.py:49: UserWarning: Boolean Series key will be reindexed to match DataFrame index.\n"
     ]
    },
    {
     "name": "stdout",
     "output_type": "stream",
     "text": [
      "Int64Index([461, 2777, 760, 286, 4079], dtype='int64')\n"
     ]
    },
    {
     "data": {
      "text/html": [
       "<div>\n",
       "<style scoped>\n",
       "    .dataframe tbody tr th:only-of-type {\n",
       "        vertical-align: middle;\n",
       "    }\n",
       "\n",
       "    .dataframe tbody tr th {\n",
       "        vertical-align: top;\n",
       "    }\n",
       "\n",
       "    .dataframe thead th {\n",
       "        text-align: right;\n",
       "    }\n",
       "</style>\n",
       "<table border=\"1\" class=\"dataframe\">\n",
       "  <thead>\n",
       "    <tr style=\"text-align: right;\">\n",
       "      <th></th>\n",
       "      <th>business_id</th>\n",
       "      <th>name</th>\n",
       "      <th>i_business_id</th>\n",
       "    </tr>\n",
       "  </thead>\n",
       "  <tbody>\n",
       "    <tr>\n",
       "      <th>6048</th>\n",
       "      <td>2JV0xGXsszojof2BuEt_hw</td>\n",
       "      <td>Gallagher's</td>\n",
       "      <td>286</td>\n",
       "    </tr>\n",
       "    <tr>\n",
       "      <th>11611</th>\n",
       "      <td>m033cgabLMDyB6r-5RGQPg</td>\n",
       "      <td>McDonald's</td>\n",
       "      <td>461</td>\n",
       "    </tr>\n",
       "    <tr>\n",
       "      <th>18523</th>\n",
       "      <td>ZO3ihx5FOObI_uCgin4x8w</td>\n",
       "      <td>On The Border Mexican Grill &amp; Cantina</td>\n",
       "      <td>760</td>\n",
       "    </tr>\n",
       "    <tr>\n",
       "      <th>66726</th>\n",
       "      <td>zwmps5SXn30g-f5wqg_r9A</td>\n",
       "      <td>Garcia's Mexican Restaurants</td>\n",
       "      <td>2777</td>\n",
       "    </tr>\n",
       "    <tr>\n",
       "      <th>201593</th>\n",
       "      <td>6RSbdKeccFWbCOIQHKbK7A</td>\n",
       "      <td>Takamatsu's</td>\n",
       "      <td>4079</td>\n",
       "    </tr>\n",
       "  </tbody>\n",
       "</table>\n",
       "</div>"
      ],
      "text/plain": [
       "                   business_id                                   name  \\\n",
       "6048    2JV0xGXsszojof2BuEt_hw                            Gallagher's   \n",
       "11611   m033cgabLMDyB6r-5RGQPg                             McDonald's   \n",
       "18523   ZO3ihx5FOObI_uCgin4x8w  On The Border Mexican Grill & Cantina   \n",
       "66726   zwmps5SXn30g-f5wqg_r9A           Garcia's Mexican Restaurants   \n",
       "201593  6RSbdKeccFWbCOIQHKbK7A                            Takamatsu's   \n",
       "\n",
       "        i_business_id  \n",
       "6048              286  \n",
       "11611             461  \n",
       "18523             760  \n",
       "66726            2777  \n",
       "201593           4079  "
      ]
     },
     "execution_count": 170,
     "metadata": {},
     "output_type": "execute_result"
    }
   ],
   "source": [
    "selections = ['In-N-Out Burger', 'Chick-Fil-A', 'The Stand', 'Whataburger']\n",
    "recommend(similarity_matrix, df, item_dict, 5, selections = selections)"
   ]
  },
  {
   "cell_type": "code",
   "execution_count": 171,
   "metadata": {},
   "outputs": [
    {
     "name": "stderr",
     "output_type": "stream",
     "text": [
      "/Users/tylerpreston/anaconda3/lib/python3.7/site-packages/ipykernel_launcher.py:49: UserWarning: Boolean Series key will be reindexed to match DataFrame index.\n"
     ]
    },
    {
     "name": "stdout",
     "output_type": "stream",
     "text": [
      "Int64Index([0, 3012, 1495, 1608, 1624], dtype='int64')\n"
     ]
    },
    {
     "data": {
      "text/html": [
       "<div>\n",
       "<style scoped>\n",
       "    .dataframe tbody tr th:only-of-type {\n",
       "        vertical-align: middle;\n",
       "    }\n",
       "\n",
       "    .dataframe tbody tr th {\n",
       "        vertical-align: top;\n",
       "    }\n",
       "\n",
       "    .dataframe thead th {\n",
       "        text-align: right;\n",
       "    }\n",
       "</style>\n",
       "<table border=\"1\" class=\"dataframe\">\n",
       "  <thead>\n",
       "    <tr style=\"text-align: right;\">\n",
       "      <th></th>\n",
       "      <th>business_id</th>\n",
       "      <th>name</th>\n",
       "      <th>i_business_id</th>\n",
       "    </tr>\n",
       "  </thead>\n",
       "  <tbody>\n",
       "    <tr>\n",
       "      <th>0</th>\n",
       "      <td>_eKvk2GoGKb3CoYolHgRlg</td>\n",
       "      <td>Fresko A Mediterranean Kitchen</td>\n",
       "      <td>0</td>\n",
       "    </tr>\n",
       "    <tr>\n",
       "      <th>32301</th>\n",
       "      <td>5euk5_UKqnAWcrbOPNYt0g</td>\n",
       "      <td>Chanpen Thai Cuisine</td>\n",
       "      <td>1495</td>\n",
       "    </tr>\n",
       "    <tr>\n",
       "      <th>35131</th>\n",
       "      <td>vU8-ATy2-MASm-bQXdhRaw</td>\n",
       "      <td>Pei Wei</td>\n",
       "      <td>1608</td>\n",
       "    </tr>\n",
       "    <tr>\n",
       "      <th>35442</th>\n",
       "      <td>yAXWKWRTs4wNy-zrJgoeXQ</td>\n",
       "      <td>Café Tranquilo</td>\n",
       "      <td>1624</td>\n",
       "    </tr>\n",
       "    <tr>\n",
       "      <th>152664</th>\n",
       "      <td>1dX0u7zsjizDvatHEutHdQ</td>\n",
       "      <td>Lenny's Burger</td>\n",
       "      <td>3012</td>\n",
       "    </tr>\n",
       "  </tbody>\n",
       "</table>\n",
       "</div>"
      ],
      "text/plain": [
       "                   business_id                            name  i_business_id\n",
       "0       _eKvk2GoGKb3CoYolHgRlg  Fresko A Mediterranean Kitchen              0\n",
       "32301   5euk5_UKqnAWcrbOPNYt0g            Chanpen Thai Cuisine           1495\n",
       "35131   vU8-ATy2-MASm-bQXdhRaw                         Pei Wei           1608\n",
       "35442   yAXWKWRTs4wNy-zrJgoeXQ                  Café Tranquilo           1624\n",
       "152664  1dX0u7zsjizDvatHEutHdQ                  Lenny's Burger           3012"
      ]
     },
     "execution_count": 171,
     "metadata": {},
     "output_type": "execute_result"
    }
   ],
   "source": [
    "selections = ['Sel', \"Brinkley's Restaurant\", 'Bourbon Steak', \"Mastro's City Hall\"]\n",
    "recommend(similarity_matrix, df, item_dict, 5, selections = selections)"
   ]
  },
  {
   "cell_type": "code",
   "execution_count": null,
   "metadata": {},
   "outputs": [],
   "source": []
  },
  {
   "cell_type": "code",
   "execution_count": 15,
   "metadata": {},
   "outputs": [],
   "source": []
  },
  {
   "cell_type": "code",
   "execution_count": null,
   "metadata": {},
   "outputs": [],
   "source": []
  },
  {
   "cell_type": "code",
   "execution_count": 97,
   "metadata": {},
   "outputs": [],
   "source": []
  },
  {
   "cell_type": "code",
   "execution_count": null,
   "metadata": {},
   "outputs": [],
   "source": []
  },
  {
   "cell_type": "code",
   "execution_count": 73,
   "metadata": {},
   "outputs": [],
   "source": [
    "df = bus_review_df[['user_id', 'business_id', 'review_stars']]\n",
    "\n",
    "y = df['review_stars']\n",
    "X = df.drop('review_stars', axis=1)\n",
    "\n",
    "X_train, X_test, y_train, y_test = train_test_split(X, y, test_size=0.2)\n",
    "\n",
    "identifier_df_train = X_train[['user_id', 'business_id']]\n",
    "identifier_df_test = X_test[['user_id', 'business_id']]"
   ]
  },
  {
   "cell_type": "code",
   "execution_count": 142,
   "metadata": {},
   "outputs": [],
   "source": []
  },
  {
   "cell_type": "code",
   "execution_count": null,
   "metadata": {},
   "outputs": [],
   "source": []
  },
  {
   "cell_type": "code",
   "execution_count": null,
   "metadata": {},
   "outputs": [],
   "source": []
  },
  {
   "cell_type": "code",
   "execution_count": 2,
   "metadata": {},
   "outputs": [],
   "source": [
    "# A reader is needed but only the rating_scale param is requiered.\n",
    "reader = Reader(rating_scale=(1, 5))\n",
    "data = Dataset.load_from_df(df, reader)\n",
    "\n",
    "all_predictions = []\n",
    "all_ratings = []\n",
    "\n",
    "algs = [SVD(), surprise.SlopeOne(), surprise.NMF(),\n",
    "                  surprise.NormalPredictor(), surprise.KNNBaseline(),\n",
    "                  # surprise.KNNBasic(), surprise.KNNWithMeans(),\n",
    "                  # surprise.KNNWithZScore(), surprise.BaselineOnly(),\n",
    "                  surprise.CoClustering()]\n",
    "\n",
    "# Iterate over all algorithms\n",
    "for algorithm in algs:\n",
    "    \n",
    "    # Take a look at cross validation results to compare model types\n",
    "    cross_validate(algorithm, data, measures=['RMSE', 'MAE'], cv=5, verbose=True)\n",
    "\n",
    "    \n",
    "#     # fit the model\n",
    "#     alg_name = str(algorithm)[str(algorithm).find('ization')+8 : str(algorithm).find('obj')-1]\n",
    "#     print('Fitting algorithm {}'.format(alg_name))\n",
    "#     algorithm.fit(train_set)\n",
    "\n",
    "#     # run predictions over\n",
    "#     print('Predicting algorithm {}'.format(alg_name))\n",
    "#     model_predictions = []\n",
    "#     model_ratings = []\n",
    "#     for idx, row in X_test.iterrows():\n",
    "#         prediction = algorithm.predict(row[0], row[1])\n",
    "#         model_predictions.append(prediction)\n",
    "#         model_ratings.append(prediction[3])\n",
    "\n",
    "#     # Pickle the models\n",
    "#     pred_pkl_file = alg_name + '_predictions.pkl'\n",
    "#     ratings_pkl_file = alg_name + '_ratings.pkl'\n",
    "#     pickle.dump(model_predictions, open(pred_pkl_file, 'wb'))\n",
    "#     pickle.dump(model_ratings, open(ratings_pkl_file, 'wb'))\n"
   ]
  },
  {
   "cell_type": "code",
   "execution_count": null,
   "metadata": {},
   "outputs": [],
   "source": []
  }
 ],
 "metadata": {
  "kernelspec": {
   "display_name": "Python 3",
   "language": "python",
   "name": "python3"
  },
  "language_info": {
   "codemirror_mode": {
    "name": "ipython",
    "version": 3
   },
   "file_extension": ".py",
   "mimetype": "text/x-python",
   "name": "python",
   "nbconvert_exporter": "python",
   "pygments_lexer": "ipython3",
   "version": "3.7.3"
  }
 },
 "nbformat": 4,
 "nbformat_minor": 2
}
