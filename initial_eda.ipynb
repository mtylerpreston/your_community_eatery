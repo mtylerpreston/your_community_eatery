{
 "cells": [
  {
   "cell_type": "code",
   "execution_count": 2,
   "metadata": {},
   "outputs": [],
   "source": [
    "import pandas as pd\n",
    "import numpy as np\n",
    "import matplotlib.pyplot as plt\n",
    "import pyspark as ps\n",
    "import pyspark.sql.types as types\n",
    "from pyspark.sql.functions import col, countDistinct\n",
    "from pyspark.sql.functions import to_timestamp\n",
    "\n",
    "# Check into a recommender library called \"surprise\""
   ]
  },
  {
   "cell_type": "code",
   "execution_count": 3,
   "metadata": {},
   "outputs": [],
   "source": [
    "# review_df = pd.read_json('review.json')"
   ]
  },
  {
   "cell_type": "code",
   "execution_count": 4,
   "metadata": {},
   "outputs": [],
   "source": [
    "spark = (ps.sql.SparkSession\n",
    "         .builder\n",
    "         .master('local[4]')\n",
    "         .appName('lecture')\n",
    "         .getOrCreate()\n",
    "        )\n",
    "sc = spark.sparkContext\n",
    "\n",
    "review_df = spark.read.json(\"data/review.json\")\n",
    "# checkin_df = spark.read.json(\"data/checkin.json\")\n",
    "# tip_df = spark.read.json(\"data/tip.json\")\n",
    "user_df = spark.read.json(\"data/user.json\")\n",
    "business_df = spark.read.json(\"data/business.json\")"
   ]
  },
  {
   "cell_type": "code",
   "execution_count": 5,
   "metadata": {},
   "outputs": [],
   "source": [
    "# Displays the content of the DataFrame to stdout\n",
    "# review_df.columns"
   ]
  },
  {
   "cell_type": "code",
   "execution_count": 6,
   "metadata": {},
   "outputs": [],
   "source": [
    "# checkin_df.head()"
   ]
  },
  {
   "cell_type": "code",
   "execution_count": 7,
   "metadata": {},
   "outputs": [],
   "source": [
    "# tip_df.head()"
   ]
  },
  {
   "cell_type": "code",
   "execution_count": 8,
   "metadata": {},
   "outputs": [],
   "source": [
    "# photo_df.head()"
   ]
  },
  {
   "cell_type": "code",
   "execution_count": 9,
   "metadata": {},
   "outputs": [],
   "source": [
    "# business_df.take(2)"
   ]
  },
  {
   "cell_type": "code",
   "execution_count": 10,
   "metadata": {},
   "outputs": [],
   "source": [
    "# user_df.columns"
   ]
  },
  {
   "cell_type": "markdown",
   "metadata": {},
   "source": [
    "# Basic Cleaning"
   ]
  },
  {
   "cell_type": "code",
   "execution_count": null,
   "metadata": {},
   "outputs": [],
   "source": [
    "# # Check for null values\n",
    "# frames = [business_df, review_df, user_df]\n",
    "\n",
    "# for df in frames:\n",
    "#     for c in df.columns:\n",
    "#         null_value_count = df.where(df[c] == None).count()\n",
    "#         print('Column: {}\\nNull count: {}\\n\\n'.format(c, str(null_value_count)))\n",
    "    \n",
    "# # This is not showing any null values for the moment, remain skeptical, possible misuse of spark"
   ]
  },
  {
   "cell_type": "code",
   "execution_count": null,
   "metadata": {},
   "outputs": [],
   "source": []
  },
  {
   "cell_type": "code",
   "execution_count": null,
   "metadata": {},
   "outputs": [],
   "source": []
  },
  {
   "cell_type": "markdown",
   "metadata": {},
   "source": [
    "# Basic EDA"
   ]
  },
  {
   "cell_type": "code",
   "execution_count": null,
   "metadata": {},
   "outputs": [],
   "source": [
    "# Count of distinct values for all fields in review_df:\n",
    "this = business_df.agg(*(countDistinct(col(c)).alias(c) for c in business_df.columns))\n",
    "this.show(1)"
   ]
  },
  {
   "cell_type": "code",
   "execution_count": null,
   "metadata": {},
   "outputs": [],
   "source": [
    "bsubset_df = business_df.filter((business_df.categories.like('%Restaurants%')) &\n",
    "                                (business_df.state == 'AZ')                               \n",
    "                               )\n",
    "print('There are {} Arizona restaurants in the dataset.'.format(bsubset_df.count()))"
   ]
  },
  {
   "cell_type": "markdown",
   "metadata": {},
   "source": [
    "## Major Metros in Dataset\n",
    "#### Las Vegas\n",
    "* Henderson\n",
    "#### Toronto\n",
    "* Missassauga\n",
    "* Markham\n",
    "* North York\n",
    "#### Phoenix - 56,686\n",
    "* Mesa\n",
    "* Tempe\n",
    "* Scottsdale\n",
    "* Chandler\n",
    "* Glendale\n",
    "* Gilbert\n",
    "* Peoria\n",
    "* Surprise\n",
    "#### Calgary\n",
    "#### Pittsburgh\n",
    "#### Montreal\n",
    "#### Cleveland\n",
    "#### Madison, WI\n",
    "#### Champaign, IL"
   ]
  },
  {
   "cell_type": "markdown",
   "metadata": {},
   "source": [
    "### Which region should we select for proceeding with this study? \n",
    "\n",
    "Let's look at the densities to decide:"
   ]
  },
  {
   "cell_type": "code",
   "execution_count": null,
   "metadata": {},
   "outputs": [],
   "source": [
    "def calculate_region_density(state, businesses, bus_reviews):\n",
    "    num_businesses = businesses.filter((businesses.categories.like('%Restaurants%')) &\n",
    "                                (business_df.state == state)).count()\n",
    "    num_reviews = bus_reviews.filter((bus_reviews.categories.like('%Restaurants%')) &\n",
    "                                (bus_reviews.state == state)).count()\n",
    "    return num_reviews/num_businesses\n",
    "\n",
    "def compare_region_densities(regions, businesses, bus_reviews):\n",
    "    max_density = 0\n",
    "    density_dict = {}\n",
    "    for region in regions:\n",
    "        density = calculate_region_density(region, businesses, bus_reviews)\n",
    "        density_dict[region] = density\n",
    "        if density > max_density:\n",
    "            max_density = density\n",
    "            max_region = region\n",
    "\n",
    "    print('Best Region: {}\\nBest Density: {}'.format(max_region, max_density))\n",
    "    return density_dict"
   ]
  },
  {
   "cell_type": "code",
   "execution_count": null,
   "metadata": {},
   "outputs": [],
   "source": [
    "regions = ['AZ', 'ON', 'NC', 'AB', 'NV', 'OH', 'PA', 'IL', 'SC', 'QC']\n",
    "\n",
    "density_dict = compare_region_densities(regions, business_df, bus_review_df)\n",
    "\n",
    "pd.DataFrame.from_dict(density_dict, orient = 'index').sort_values(0, ascending = False).plot.bar(legend = False, figsize = (10, 6))\n",
    "plt.ylabel('Review Density')\n",
    "plt.xlabel('Region')\n",
    "plt.title('Review Density by Region')"
   ]
  },
  {
   "cell_type": "markdown",
   "metadata": {},
   "source": [
    "## The winner: Arizona\n",
    "\n",
    "We are proceeding with Arizona based businesses for this case study. Although Nevada has a greater density of reviews/restaurant, this data scientist considers it to be an anomaly in the restaurant space as well as user space given the impact tourism would have on restaurant visits/reviews. Arizona has the next highest density, would be expected to include a healthy mix of resident and non-resident reviews, most reviews are concentrated around Phoenix, and we would expect Phoenix to have a diverse group of users."
   ]
  },
  {
   "cell_type": "code",
   "execution_count": null,
   "metadata": {},
   "outputs": [],
   "source": []
  },
  {
   "cell_type": "code",
   "execution_count": null,
   "metadata": {},
   "outputs": [],
   "source": []
  },
  {
   "cell_type": "code",
   "execution_count": null,
   "metadata": {},
   "outputs": [],
   "source": []
  },
  {
   "cell_type": "code",
   "execution_count": null,
   "metadata": {},
   "outputs": [],
   "source": []
  },
  {
   "cell_type": "code",
   "execution_count": null,
   "metadata": {},
   "outputs": [],
   "source": []
  },
  {
   "cell_type": "code",
   "execution_count": null,
   "metadata": {},
   "outputs": [],
   "source": []
  },
  {
   "cell_type": "code",
   "execution_count": null,
   "metadata": {},
   "outputs": [],
   "source": []
  },
  {
   "cell_type": "code",
   "execution_count": null,
   "metadata": {},
   "outputs": [],
   "source": []
  },
  {
   "cell_type": "markdown",
   "metadata": {},
   "source": [
    "# Query for reviews of restaurants in Arizona and then convert to Pandas"
   ]
  },
  {
   "cell_type": "code",
   "execution_count": 11,
   "metadata": {},
   "outputs": [],
   "source": [
    "# Make \"star\" columns unique on business_df and review_df to avoid confusion\n",
    "business_df = business_df.withColumnRenamed(\"stars\",\"avg_stars\")\n",
    "review_df = review_df.withColumnRenamed(\"stars\",\"review_stars\")"
   ]
  },
  {
   "cell_type": "code",
   "execution_count": 12,
   "metadata": {},
   "outputs": [],
   "source": [
    "# Filter business_df down to only businesses in Arizona\n",
    "business_df = business_df.filter((business_df.state == 'AZ') &\n",
    "                                (business_df.categories.like('%Restaurants%'))\n",
    "                                )"
   ]
  },
  {
   "cell_type": "code",
   "execution_count": 13,
   "metadata": {},
   "outputs": [],
   "source": [
    "# Join business and review df's \n",
    "bus_review_df = review_df.join(business_df, review_df.business_id == business_df.business_id, how='left')"
   ]
  },
  {
   "cell_type": "code",
   "execution_count": 1,
   "metadata": {},
   "outputs": [],
   "source": [
    "# # Convert to pandas to make it easier to work\n",
    "# bus_review_df = bus_review_df.select(\"*\").toPandas()\n",
    "\n",
    "# # Not Currently working on my machine, getting EC2 instance ready"
   ]
  },
  {
   "cell_type": "markdown",
   "metadata": {},
   "source": [
    "# Further EDA"
   ]
  },
  {
   "cell_type": "code",
   "execution_count": null,
   "metadata": {},
   "outputs": [],
   "source": [
    "# What is the distribution of ratings per restaurant and ratings per user?\n",
    "ratings_per_restaurant = bus_review_df.groupBy()\n"
   ]
  },
  {
   "cell_type": "code",
   "execution_count": null,
   "metadata": {},
   "outputs": [],
   "source": []
  },
  {
   "cell_type": "code",
   "execution_count": null,
   "metadata": {},
   "outputs": [],
   "source": []
  },
  {
   "cell_type": "code",
   "execution_count": null,
   "metadata": {},
   "outputs": [],
   "source": []
  },
  {
   "cell_type": "code",
   "execution_count": null,
   "metadata": {},
   "outputs": [],
   "source": []
  },
  {
   "cell_type": "code",
   "execution_count": null,
   "metadata": {},
   "outputs": [],
   "source": []
  },
  {
   "cell_type": "code",
   "execution_count": null,
   "metadata": {},
   "outputs": [],
   "source": []
  },
  {
   "cell_type": "code",
   "execution_count": null,
   "metadata": {},
   "outputs": [],
   "source": []
  },
  {
   "cell_type": "code",
   "execution_count": null,
   "metadata": {},
   "outputs": [],
   "source": []
  },
  {
   "cell_type": "code",
   "execution_count": null,
   "metadata": {},
   "outputs": [],
   "source": []
  },
  {
   "cell_type": "code",
   "execution_count": null,
   "metadata": {},
   "outputs": [],
   "source": []
  }
 ],
 "metadata": {
  "kernelspec": {
   "display_name": "Python 3",
   "language": "python",
   "name": "python3"
  },
  "language_info": {
   "codemirror_mode": {
    "name": "ipython",
    "version": 3
   },
   "file_extension": ".py",
   "mimetype": "text/x-python",
   "name": "python",
   "nbconvert_exporter": "python",
   "pygments_lexer": "ipython3",
   "version": "3.7.3"
  }
 },
 "nbformat": 4,
 "nbformat_minor": 2
}
