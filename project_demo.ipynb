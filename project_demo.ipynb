{
 "cells": [
  {
   "cell_type": "markdown",
   "metadata": {},
   "source": [
    "# Your Community Eatery\n",
    "\n",
    "## Welcome to your local (if you're in Phoenix) restaurant recommender! \n",
    "\n",
    "We are going to take a walk through the process of creating a recommender based on collaborative filtering of Yelp review data. Follow along here for the full story..."
   ]
  },
  {
   "cell_type": "code",
   "execution_count": 3,
   "metadata": {},
   "outputs": [],
   "source": [
    "# Project specific modules\n",
    "from src.pipeline import YourCommunityEatery\n",
    "from website.src.functions import build_item_map, get_recs\n",
    "\n",
    "# Avoid restarting Kernal each time we update modules\n",
    "%load_ext autoreload\n",
    "%autoreload 2\n",
    "\n",
    "# The basics\n",
    "import pandas as pd\n",
    "import numpy as np\n",
    "import matplotlib.pyplot as plt\n",
    "\n",
    "# Spark library and functions\n",
    "import pyspark as ps\n",
    "import pyspark.sql.types as types\n",
    "from pyspark.sql.functions import col, countDistinct\n",
    "from pyspark.sql.functions import to_timestamp\n",
    "\n",
    "# Sklearn Modeling\n",
    "# from sklearn.model_selection import train_test_split\n",
    "\n",
    "\n",
    "# Surprise modeling\n",
    "from surprise import SVD\n",
    "import surprise\n",
    "from surprise import Dataset, Reader\n",
    "from surprise.model_selection import cross_validate, train_test_split\n",
    "\n",
    "# Persistance\n",
    "import pickle\n",
    "\n",
    "# Housekeeping\n",
    "from io import StringIO\n",
    "from datetime import datetime"
   ]
  },
  {
   "cell_type": "markdown",
   "metadata": {},
   "source": [
    "# Initial EDA\n",
    "\n",
    "This dataset is actually too big to simply load into a Pandas dataframe (at least on my machine - 8 GB memory). Although I know people with 16 GB machines have loaded it successfully, so far I get memory errors when trying to load it onto a 16 GB AWS EC2 instance (and I'm still searching for an answer/solution on that). Regardless, we can do some initial EDA to just see what we have by using Spark!"
   ]
  },
  {
   "cell_type": "code",
   "execution_count": 35,
   "metadata": {},
   "outputs": [],
   "source": [
    "spark = (ps.sql.SparkSession\n",
    "         .builder\n",
    "         .master('local[4]')\n",
    "         .appName('lecture')\n",
    "         .getOrCreate()\n",
    "        )\n",
    "\n",
    "review_df = spark.read.json(\"data/review.json\")\n",
    "# checkin_df = spark.read.json(\"data/checkin.json\")\n",
    "# tip_df = spark.read.json(\"data/tip.json\")\n",
    "# user_df = spark.read.json(\"data/user.json\")\n",
    "business_df = spark.read.json(\"data/business.json\")"
   ]
  },
  {
   "cell_type": "markdown",
   "metadata": {},
   "source": [
    "We plan to work with the review and business datasets. So let's see how many distinct values for all fields we have on those."
   ]
  },
  {
   "cell_type": "code",
   "execution_count": 61,
   "metadata": {},
   "outputs": [
    {
     "name": "stdout",
     "output_type": "stream",
     "text": [
      "Number of states covered in the data: 36\n",
      "Number of cities covered in the data: 1204\n"
     ]
    },
    {
     "data": {
      "image/png": "[encoded data removed]",
      "text/plain": [
       "<Figure size 720x432 with 1 Axes>"
      ]
     },
     "metadata": {
      "needs_background": "light"
     },
     "output_type": "display_data"
    }
   ],
   "source": [
    "this = business_df.agg(*(countDistinct(col(c)).alias(c) for c in business_df.columns))\n",
    "this = this.take(1)[0].asDict()\n",
    "\n",
    "print('Number of states covered in the data: {}'.format(this['state']))\n",
    "print('Number of cities covered in the data: {}'.format(this['city']))\n",
    "\n",
    "drop_list = ['city', 'state', 'address', 'hours', 'is_open', \n",
    "             'latitude', 'longitude', 'name', 'postal_code', \n",
    "             'review_count', 'stars']\n",
    "for _ in drop_list:\n",
    "    this.pop(_)\n",
    "\n",
    "fig, ax = plt.subplots(figsize = (10, 6))\n",
    "ax.bar(range(len(this)), list(this.values()), align='center')\n",
    "ax.set_title('Count of Unique Values from Business Dataset')\n",
    "ax.set_ylabel('Count')\n",
    "_ = plt.xticks(range(len(this)), list(this.keys()))"
   ]
  },
  {
   "cell_type": "code",
   "execution_count": 68,
   "metadata": {},
   "outputs": [
    {
     "name": "stdout",
     "output_type": "stream",
     "text": [
      "Number of businesses covered in the review data: 192606\n"
     ]
    },
    {
     "data": {
      "image/png": "[encoded data removed]",
      "text/plain": [
       "<Figure size 432x288 with 1 Axes>"
      ]
     },
     "metadata": {
      "needs_background": "light"
     },
     "output_type": "display_data"
    }
   ],
   "source": [
    "this = review_df.agg(*(countDistinct(col(c)).alias(c) for c in review_df.columns))\n",
    "this = this.take(1)[0].asDict()\n",
    "\n",
    "print('Number of businesses covered in the review data: {}'.format(this['business_id']))\n",
    "\n",
    "drop_list = ['cool', 'funny', 'useful', 'text', 'stars', 'date', 'business_id']\n",
    "for _ in drop_list:\n",
    "    this.pop(_)\n",
    "\n",
    "plt.bar(range(len(this)), list(this.values()), align='center')\n",
    "_ = plt.xticks(range(len(this)), list(this.keys()))"
   ]
  },
  {
   "cell_type": "markdown",
   "metadata": {},
   "source": [
    "## We would like to develop a restaurant recommender for one metropolitan area\n",
    "\n",
    "Given that we are developing a similarity/collaborative-filtering based recommender, we are going to limit this project to one geographic area since there wouldn't be much if any signal on one geo for another. Also, given the demands of this dataset, it will be much more manageable to filter it down to one city so we can simply work with Pandas. But which region to pick?\n",
    "\n",
    "Let's look at some density metrics to decide..."
   ]
  },
  {
   "cell_type": "code",
   "execution_count": 63,
   "metadata": {},
   "outputs": [],
   "source": [
    "def calculate_region_density(state, businesses, bus_reviews):\n",
    "    num_businesses = businesses.filter((businesses.categories.like('%Restaurants%')) &\n",
    "                                (business_df.state == state)).count()\n",
    "    num_reviews = bus_reviews.filter((bus_reviews.categories.like('%Restaurants%')) &\n",
    "                                (bus_reviews.state == state)).count()\n",
    "    return num_reviews/num_businesses\n",
    "\n",
    "def compare_region_densities(regions, businesses, bus_reviews):\n",
    "    max_density = 0\n",
    "    density_dict = {}\n",
    "    for region in regions:\n",
    "        density = calculate_region_density(region, businesses, bus_reviews)\n",
    "        density_dict[region] = density\n",
    "        if density > max_density:\n",
    "            max_density = density\n",
    "            max_region = region\n",
    "\n",
    "    print('Best Region: {}\\nBest Density: {}'.format(max_region, max_density))\n",
    "    return density_dict"
   ]
  },
  {
   "cell_type": "code",
   "execution_count": 66,
   "metadata": {},
   "outputs": [],
   "source": [
    "# Join business and review df's so that we can really look at this\n",
    "bus_review_df = review_df.join(business_df, \n",
    "                               review_df.business_id == business_df.business_id,\n",
    "                                how='left')"
   ]
  },
  {
   "cell_type": "code",
   "execution_count": 67,
   "metadata": {},
   "outputs": [
    {
     "name": "stdout",
     "output_type": "stream",
     "text": [
      "Best Region: NV\n",
      "Best Density: 178.80932802261339\n"
     ]
    },
    {
     "data": {
      "text/plain": [
       "Text(0.5, 1.0, 'Review Density by Region')"
      ]
     },
     "execution_count": 67,
     "metadata": {},
     "output_type": "execute_result"
    },
    {
     "data": {
      "image/png": "[encoded data removed]",
      "text/plain": [
       "<Figure size 720x432 with 1 Axes>"
      ]
     },
     "metadata": {
      "needs_background": "light"
     },
     "output_type": "display_data"
    }
   ],
   "source": [
    "regions = ['AZ', 'ON', 'NC', 'AB', 'NV', 'OH', 'PA', 'IL', 'SC', 'QC']\n",
    "\n",
    "density_dict = compare_region_densities(regions, business_df, bus_review_df)\n",
    "\n",
    "pd.DataFrame.from_dict(density_dict, orient = 'index').sort_values(0, ascending = False).plot.bar(legend = False, figsize = (10, 6))\n",
    "plt.ylabel('Review Density')\n",
    "plt.xlabel('Region')\n",
    "plt.title('Review Density by Region')"
   ]
  },
  {
   "cell_type": "markdown",
   "metadata": {},
   "source": [
    "## The winner: Arizona\n",
    "\n",
    "We are proceeding with Arizona based businesses for this case study. Although Nevada has a greater density of reviews/restaurant, this data scientist considers it to be an anomaly in the restaurant space as well as user space given the impact tourism would have on restaurant visits/reviews. Arizona has the next highest density, would be expected to include a healthy mix of resident and non-resident reviews, most reviews are concentrated around Phoenix, and we would expect Phoenix to have a diverse group of users. Note that it was specified by Yelp that their dataset focuses on 8 metropolitan areas, and we have validated (though not shown here) that the Arizona locations are in/around Phoenix.\n",
    "\n",
    "Now that we have a region in mind, we will be able to fit the subject piece of the dataset into memory in Pandas.\n",
    "\n",
    "But don't forget to close Spark!"
   ]
  },
  {
   "cell_type": "code",
   "execution_count": 70,
   "metadata": {},
   "outputs": [],
   "source": [
    "spark.stop()"
   ]
  },
  {
   "cell_type": "markdown",
   "metadata": {},
   "source": [
    "# Loading Data into Pandas - Pipeline Demo\n",
    "\n",
    "Now that we have a few criteria on which to select a limited volume of the data (Restaurants and Arizona), our subject dataset will be much more manageable and will easily fit in memory. We've developed a pipeline just for handling this!"
   ]
  },
  {
   "cell_type": "code",
   "execution_count": 4,
   "metadata": {},
   "outputs": [],
   "source": [
    "# Instantiate object specifying that we don't have the memory to handle the full dataset\n",
    "pipe = YourCommunityEatery(save_memory=True)"
   ]
  },
  {
   "cell_type": "code",
   "execution_count": 40,
   "metadata": {},
   "outputs": [
    {
     "name": "stdout",
     "output_type": "stream",
     "text": [
      "Reading business data...\n",
      "Reading review data...\n"
     ]
    }
   ],
   "source": [
    "# Read data in from files \n",
    "# There is quite a bit of data to load and it has to be filtered \n",
    "# based on some conditions to fit in memory, so this takes a while\n",
    "pipe.read_data(data_dir_path='data/')"
   ]
  },
  {
   "cell_type": "code",
   "execution_count": 12,
   "metadata": {},
   "outputs": [],
   "source": [
    "# Alternatively, we saved the results from above so that\n",
    "# you can just load it from a file!\n",
    "# This isn't super fast, but much better than the above.\n",
    "pipe.bus_review_df = pd.read_json('data/bus_review_df.json', orient = 'records')"
   ]
  },
  {
   "cell_type": "markdown",
   "metadata": {},
   "source": [
    "# Now that we have our data, let's delve into some additional EDA\n",
    "#### At this point our data is saved in 'bus_review_df' which is an attribute of our pipe object\n",
    "\n",
    "What time frame do these reviews span?"
   ]
  },
  {
   "cell_type": "code",
   "execution_count": 161,
   "metadata": {},
   "outputs": [
    {
     "name": "stdout",
     "output_type": "stream",
     "text": [
      "These ratings range from 2005 to 2018.\n"
     ]
    }
   ],
   "source": [
    "begin = pipe.bus_review_df.date.min()\n",
    "end = pipe.bus_review_df.date.max()\n",
    "print('These ratings range from {} to {}.'.format(begin.year, end.year))"
   ]
  },
  {
   "cell_type": "markdown",
   "metadata": {},
   "source": [
    "Long span of data, nice! And what kind of distribution of reviews over time might we see for that duration?"
   ]
  },
  {
   "cell_type": "code",
   "execution_count": 162,
   "metadata": {},
   "outputs": [
    {
     "data": {
      "image/png": "[encoded data removed]",
      "text/plain": [
       "<Figure size 720x432 with 1 Axes>"
      ]
     },
     "metadata": {
      "needs_background": "light"
     },
     "output_type": "display_data"
    }
   ],
   "source": [
    "ax = pipe.bus_review_df.date.hist(bins = 100, figsize = (10, 6))\n",
    "ax.grid(False)\n",
    "ax.set_title('Distribution of Reviews over Time')\n",
    "ax.set_xlabel('Year')\n",
    "_ = ax.set_ylabel('Number of Reviews')"
   ]
  },
  {
   "cell_type": "markdown",
   "metadata": {},
   "source": [
    "Look at that growth! Good for you, Yelp. Interesting trends after 2015, seasonality for reviews? Interesting...but out of our scope.\n",
    "\n",
    "What is the distribution of number of users to have reviewed each restaurant? \n"
   ]
  },
  {
   "cell_type": "code",
   "execution_count": 163,
   "metadata": {},
   "outputs": [
    {
     "data": {
      "image/png": "[encoded data removed]",
      "text/plain": [
       "<Figure size 720x432 with 1 Axes>"
      ]
     },
     "metadata": {
      "needs_background": "light"
     },
     "output_type": "display_data"
    }
   ],
   "source": [
    "groups = pipe.bus_review_df.groupby('business_id')\n",
    "ax = groups.user_id.nunique().hist(bins = 30, figsize = (10, 6))\n",
    "ax.grid(False)\n",
    "ax.set_yscale('log')\n",
    "ax.set_xlabel('Number of Users who Reviewed (in this dataset)')\n",
    "ax.set_title('Distribution Users Per Restaurant')\n",
    "_ = ax.set_ylabel('Number of Restaurants Reviewed by Each Userr(Log-scaled)')"
   ]
  },
  {
   "cell_type": "markdown",
   "metadata": {},
   "source": [
    "Keeping in mind this is log-scaled on the y axis, this data appears to be exponentially distributed."
   ]
  },
  {
   "cell_type": "markdown",
   "metadata": {},
   "source": [
    "\n",
    "What is the distribution of reviews per user?\n"
   ]
  },
  {
   "cell_type": "code",
   "execution_count": 81,
   "metadata": {},
   "outputs": [
    {
     "data": {
      "image/png": "[encoded data removed]",
      "text/plain": [
       "<Figure size 720x432 with 1 Axes>"
      ]
     },
     "metadata": {
      "needs_background": "light"
     },
     "output_type": "display_data"
    }
   ],
   "source": [
    "groups = pipe.bus_review_df.groupby('user_id')\n",
    "ax = groups.review_id.nunique().hist(bins = 30, figsize = (10, 6))\n",
    "ax.grid(False)\n",
    "ax.set_yscale('log')\n",
    "ax.set_xlabel('Number of Users to Review Restaurant')\n",
    "ax.set_title('Distribution Reviews Per User')\n",
    "_ = ax.set_ylabel('Number of Users (Log-scaled)')"
   ]
  },
  {
   "cell_type": "markdown",
   "metadata": {},
   "source": [
    "From the graph above, we are able to see that this is exponentially distributed. There are several users who have made significant numbers of reviews. Normally this might be cause for concern that their reviews are not legitimate; however, this dataset consists only of reviews that Yelp has validated and \"recommended\", so they are likely just very passionate about food. But skeptical scientists that we are, we'll not just take their word for it...ok, I admit that I'm mostly just curious to see what kind of stuff a person who writes over 1,200 reviews has to say.\n",
    "\n",
    "Let's verify the text of the highest volume user to be sure they are not a bot. As shown below, only one user exceeded 1000 reviews and their id is 'ELcQDlf69kb-ihJfxZyL0A'. Feel free to adjust the index on the .iloc to see a few different reivews (just put in a number between 0 and 1277)."
   ]
  },
  {
   "cell_type": "code",
   "execution_count": 211,
   "metadata": {},
   "outputs": [
    {
     "data": {
      "text/plain": [
       "'If you dine-in, you will likely be annoyed by some screaming kid and their mommy, but if you can ignore that noise for about ten minutes, you will be rewarded with a delicious waffle experience. I simply had the churro waffle and got my free YELP topping of bananas. The cinnamon sugar waffle was loaded with cinnamon cream and fruit. It was a chewy waffle and stayed hot the entire visit. You will need both knife and fork, but every bite was very tasty and unique as well. All totaled, it was just over 5 bucks, so a good value and fairly filling breakfast.'"
      ]
     },
     "execution_count": 211,
     "metadata": {},
     "output_type": "execute_result"
    }
   ],
   "source": [
    "pipe.bus_review_df[pipe.bus_review_df.user_id == 'ELcQDlf69kb-ihJfxZyL0A'].text.iloc[356]"
   ]
  },
  {
   "cell_type": "markdown",
   "metadata": {},
   "source": [
    "...ok, review for index 356 is pretty shameful. But clearly, this is not a bot...just definitely someone who has a lot of time on their hands. Outlier though they may be, their reviews appear to be genuine, so we will graciously accept their contributions to our density."
   ]
  },
  {
   "cell_type": "markdown",
   "metadata": {},
   "source": [
    "## In  planning for a collaborative-filtering based recommender, we need to take a look at our density of reviews"
   ]
  },
  {
   "cell_type": "code",
   "execution_count": 13,
   "metadata": {},
   "outputs": [
    {
     "name": "stdout",
     "output_type": "stream",
     "text": [
      "The density of our data is 0.000320\n"
     ]
    }
   ],
   "source": [
    "density_pre = pipe.calculate_density()\n",
    "print('The density of our data is {:.6f}'.format(density_pre))"
   ]
  },
  {
   "cell_type": "markdown",
   "metadata": {},
   "source": [
    "Ouch, that is extremely low. Let's take a look at how we might improve that."
   ]
  },
  {
   "cell_type": "markdown",
   "metadata": {},
   "source": [
    "## For model training, let's consider trimming down our dataset to increase density\n",
    "\n",
    "Normally, taking samples of your data to increase density is a non-starter, but we may have some clever ways of taking samples based on what we've learned so far. Let's start with getting later time periods, since we have far more reviews in the later segment of the data. We will use the \"filter_by_review_date\" method to modify our dataframe in place to only include reviews during-or-after a specified year."
   ]
  },
  {
   "cell_type": "code",
   "execution_count": 14,
   "metadata": {},
   "outputs": [],
   "source": [
    "pipe.filter_by_review_date(threshold = 2013)"
   ]
  },
  {
   "cell_type": "code",
   "execution_count": 15,
   "metadata": {},
   "outputs": [
    {
     "name": "stdout",
     "output_type": "stream",
     "text": [
      "The density of our data is 0.000320\n"
     ]
    }
   ],
   "source": [
    "density_time = pipe.calculate_density()\n",
    "print('The density of our data is {:.6f}'.format(density_time))"
   ]
  },
  {
   "cell_type": "markdown",
   "metadata": {},
   "source": [
    "As it turns out, the density is not significantly affected by taking slices for more recent data. We did this for all year thresholds from 2005 through 2017 and found that we were only able to achieve a change of about 10% from the above figure, and it was for the worse. It is not being shown here because the dataframe gets modified in place, and we'd like to spare you from having to reload it to get back to normal. Let's proceed with a threshold of 2013 for the sake of having some value for recency without sacrificing too much data."
   ]
  },
  {
   "cell_type": "markdown",
   "metadata": {},
   "source": [
    "It is expected that the restaurants and users with low counts of reviews are making our user-restaurant matrix too sparse. Let's cut off those density killers and re-evaluate some of these metrics."
   ]
  },
  {
   "cell_type": "code",
   "execution_count": 16,
   "metadata": {},
   "outputs": [
    {
     "name": "stdout",
     "output_type": "stream",
     "text": [
      "Removing users with less than 2 reviews leaves us with 83.37% of the original amount of reviews.\n",
      "Removing users with less than 3 reviews leaves us with 73.01% of the original amount of reviews.\n",
      "Removing users with less than 4 reviews leaves us with 65.44% of the original amount of reviews.\n",
      "Removing users with less than 5 reviews leaves us with 59.54% of the original amount of reviews.\n",
      "Removing users with less than 6 reviews leaves us with 54.73% of the original amount of reviews.\n"
     ]
    }
   ],
   "source": [
    "thresholds = [2, 3, 4, 5, 6]\n",
    "amount_of_data = []\n",
    "for thresh in thresholds:\n",
    "    groups = pipe.bus_review_df.groupby('user_id')\n",
    "    user_selection = groups.review_id.nunique()>=thresh\n",
    "    user_selection = user_selection[user_selection]\n",
    "    trimmed_df = pipe.bus_review_df[pipe.bus_review_df.user_id.isin(user_selection.index)]\n",
    "\n",
    "    full = len(pipe.bus_review_df)\n",
    "    trimmed = len(trimmed_df)\n",
    "    amount_of_data.append(trimmed/full)\n",
    "    print('Removing users with less than {} reviews leaves us with {:.2f}% of the original amount of reviews.'.format(thresh, 100*(trimmed)/full))"
   ]
  },
  {
   "cell_type": "code",
   "execution_count": 17,
   "metadata": {},
   "outputs": [
    {
     "data": {
      "image/png": "[encoded data removed]",
      "text/plain": [
       "<Figure size 720x432 with 1 Axes>"
      ]
     },
     "metadata": {
      "needs_background": "light"
     },
     "output_type": "display_data"
    }
   ],
   "source": [
    "fig, ax = plt.subplots(figsize = (10, 6))\n",
    "plt.bar(thresholds, amount_of_data)\n",
    "ax.set_title('Analyzing Impact of Threshold on Data Volume')\n",
    "ax.set_ylabel('Percent of Original Data')\n",
    "_ = ax.set_xlabel('Minimum Threshold for Reviews per User')"
   ]
  },
  {
   "cell_type": "code",
   "execution_count": 18,
   "metadata": {},
   "outputs": [
    {
     "name": "stdout",
     "output_type": "stream",
     "text": [
      "Removing businesses reviewed by less than 20 users leaves us with 96.91% of the original amount of reviews.\n",
      "Removing businesses reviewed by less than 30 users leaves us with 94.44% of the original amount of reviews.\n",
      "Removing businesses reviewed by less than 40 users leaves us with 91.96% of the original amount of reviews.\n",
      "Removing businesses reviewed by less than 50 users leaves us with 89.42% of the original amount of reviews.\n"
     ]
    }
   ],
   "source": [
    "thresholds = [20, 30, 40, 50]\n",
    "amount_of_data = []\n",
    "for thresh in thresholds:\n",
    "    groups = pipe.bus_review_df.groupby('business_id')\n",
    "    business_selection = groups.user_id.nunique()>=thresh\n",
    "    business_selection = business_selection[business_selection]\n",
    "    trimmed_df = pipe.bus_review_df[pipe.bus_review_df.business_id.isin(business_selection.index)]\n",
    "\n",
    "    full = len(pipe.bus_review_df)\n",
    "    trimmed = len(trimmed_df)\n",
    "    amount_of_data.append(trimmed/full)\n",
    "    print('Removing businesses reviewed by less than {} users leaves us with {:.2f}% of the original amount of reviews.'.format(thresh, 100*(trimmed)/full))"
   ]
  },
  {
   "cell_type": "code",
   "execution_count": 20,
   "metadata": {},
   "outputs": [
    {
     "data": {
      "image/png": "[encoded data removed]",
      "text/plain": [
       "<Figure size 720x432 with 1 Axes>"
      ]
     },
     "metadata": {
      "needs_background": "light"
     },
     "output_type": "display_data"
    }
   ],
   "source": [
    "fig, ax = plt.subplots(figsize = (10, 6))\n",
    "plt.bar([1, 2, 3, 4], amount_of_data, tick_label = thresholds)\n",
    "ax.set_title('Analyzing Impact of Threshold on Data Volume')\n",
    "ax.set_ylabel('Percent of Original Data')\n",
    "_ = ax.set_xlabel('Minimum Threshold for Reviews per Business')"
   ]
  },
  {
   "cell_type": "markdown",
   "metadata": {},
   "source": [
    "### Based on these results, we are selecting based on the following:\n",
    "* Clip users with less than 4 reviews\n",
    "* Clip businesses with less than 40 reviews\n",
    "* Clip users with less than 4 reviews again.\n",
    "\n",
    "We can ue the built-in methods to accomplish this! But note that these operations are performed in series, and each one will affect ther other. That is, if we first filter out users with less than 4 reviews and then filter out restaurants with less than 40 reviews, we end up eliminating some restaurants that were counting as the 4th review for some of those users. \n",
    "\n",
    "Given the low values for user thresholds, we would prefer to ensure that we apply that threshold last (this helps improve end density). After some trial and error, arrived at the process spelled out in the bullets above as giving us good density without clipping too much data. "
   ]
  },
  {
   "cell_type": "code",
   "execution_count": 21,
   "metadata": {},
   "outputs": [],
   "source": [
    "pipe.filter_low_density_users(threshold=4)\n",
    "density_user1 = pipe.calculate_density()\n",
    "pipe.filter_low_density_items(threshold=40)\n",
    "density_item = pipe.calculate_density()\n",
    "pipe.filter_low_density_users(threshold=4)\n",
    "density_final = pipe.calculate_density()"
   ]
  },
  {
   "cell_type": "markdown",
   "metadata": {},
   "source": [
    "And now let's check the resulting distribution of reviews/business to make sure there won't be too many density-killing businesses left in the data."
   ]
  },
  {
   "cell_type": "code",
   "execution_count": 22,
   "metadata": {},
   "outputs": [
    {
     "data": {
      "image/png": "[encoded data removed]",
      "text/plain": [
       "<Figure size 720x432 with 1 Axes>"
      ]
     },
     "metadata": {
      "needs_background": "light"
     },
     "output_type": "display_data"
    }
   ],
   "source": [
    "mask = pipe.bus_review_df.groupby('business_id').count().user_id < 100\n",
    "_ = pipe.bus_review_df.groupby('business_id').count().user_id[mask].hist(bins = 30, figsize=(10, 6))"
   ]
  },
  {
   "cell_type": "markdown",
   "metadata": {},
   "source": [
    "And let's plot the progression of density..."
   ]
  },
  {
   "cell_type": "code",
   "execution_count": 23,
   "metadata": {},
   "outputs": [
    {
     "name": "stdout",
     "output_type": "stream",
     "text": [
      "Final Density is 0.00257\n"
     ]
    },
    {
     "data": {
      "image/png": "[encoded data removed]",
      "text/plain": [
       "<Figure size 720x432 with 1 Axes>"
      ]
     },
     "metadata": {
      "needs_background": "light"
     },
     "output_type": "display_data"
    }
   ],
   "source": [
    "densities = [density_pre, density_time, density_user1, density_item, density_final]\n",
    "fig, ax = plt.subplots(figsize = (10, 6))\n",
    "ax.bar(list(range(len(densities))), densities)\n",
    "ax.set_ylabel('Density')\n",
    "ax.set_title('Density Progression from Clipping\\nReviews / (Users*Restaurants)')\n",
    "ax.set_xlabel('Stage of Clipping')\n",
    "print('Final Density is {:.5f}'.format(density_final))"
   ]
  },
  {
   "cell_type": "code",
   "execution_count": 9,
   "metadata": {},
   "outputs": [],
   "source": [
    "pipe.factorize()"
   ]
  },
  {
   "cell_type": "code",
   "execution_count": 10,
   "metadata": {},
   "outputs": [],
   "source": [
    "# Save only the necessities to json\n",
    "pipe.bus_review_df.drop(columns = ['cool', 'funny', 'text', 'user_id', \n",
    "                                   'latitude', 'longitude', 'date', \n",
    "                                   'categories', 'useful', 'avg_stars', \n",
    "                                   'address', 'city'], inplace = True)"
   ]
  },
  {
   "cell_type": "code",
   "execution_count": 11,
   "metadata": {},
   "outputs": [],
   "source": [
    "pipe.persist_subject_data('website/data/processed_df')\n",
    "pipe.persist_subject_data('data/processed_df')"
   ]
  },
  {
   "cell_type": "code",
   "execution_count": null,
   "metadata": {},
   "outputs": [],
   "source": []
  },
  {
   "cell_type": "markdown",
   "metadata": {},
   "source": [
    "# Time to Model"
   ]
  },
  {
   "cell_type": "code",
   "execution_count": 177,
   "metadata": {},
   "outputs": [],
   "source": [
    "# For picking up a restarted notebook, you can load up a previously prepared df here\n",
    "pipe.bus_review_df = pd.read_json('data/processed_df.json', orient = 'records')"
   ]
  },
  {
   "cell_type": "code",
   "execution_count": 180,
   "metadata": {},
   "outputs": [],
   "source": [
    "df = pipe.bus_review_df[['uid', 'iid', 'review_stars']]"
   ]
  },
  {
   "cell_type": "code",
   "execution_count": 181,
   "metadata": {},
   "outputs": [],
   "source": [
    "# And wipe the pipe to save memory\n",
    "pipe.bus_review_df = None\n",
    "pipe.review_df = None\n",
    "pipe.business_df = None"
   ]
  },
  {
   "cell_type": "code",
   "execution_count": 182,
   "metadata": {},
   "outputs": [],
   "source": [
    "# A reader is needed but only the rating_scale param is required.\n",
    "reader = Reader(rating_scale=(1, 5))\n",
    "data = Dataset.load_from_df(df, reader)\n",
    "trainset, testset = train_test_split(data, test_size = .05, random_state = 2)"
   ]
  },
  {
   "cell_type": "code",
   "execution_count": null,
   "metadata": {},
   "outputs": [
    {
     "name": "stdout",
     "output_type": "stream",
     "text": [
      "Estimating biases using als...\n"
     ]
    }
   ],
   "source": [
    "algs = [\n",
    "        SVD(), \n",
    "        surprise.SlopeOne(), \n",
    "        surprise.NMF(),\n",
    "        surprise.NormalPredictor(), \n",
    "        surprise.KNNBaseline(),\n",
    "        surprise.KNNBasic(), \n",
    "        surprise.KNNWithMeans(),\n",
    "        surprise.KNNWithZScore(), \n",
    "        surprise.BaselineOnly(),\n",
    "        surprise.CoClustering()\n",
    "        ]\n",
    "\n",
    "# Iterate over all algorithms\n",
    "for alg in algs:\n",
    "    \n",
    "    # Take a look at cross validation results to compare model types\n",
    "    print(cross_validate(alg, data, measures=['RMSE'], cv=5, verbose=True))\n"
   ]
  },
  {
   "cell_type": "markdown",
   "metadata": {},
   "source": [
    "NormalPredictor\n",
    "\n",
    "* Mean RMSE on 5 splits: 1.827"
   ]
  },
  {
   "cell_type": "code",
   "execution_count": 24,
   "metadata": {},
   "outputs": [],
   "source": [
    "naive_score = 1.827"
   ]
  },
  {
   "cell_type": "code",
   "execution_count": 159,
   "metadata": {},
   "outputs": [],
   "source": [
    "KNN_model = pickle.load(open('models/top_grid_KNNBaseline_model.pkl', 'rb'))"
   ]
  },
  {
   "cell_type": "code",
   "execution_count": null,
   "metadata": {},
   "outputs": [],
   "source": []
  },
  {
   "cell_type": "code",
   "execution_count": 161,
   "metadata": {},
   "outputs": [
    {
     "data": {
      "text/plain": [
       "{'k': 100,\n",
       " 'min_k': 4,\n",
       " 'bsl_options': {'method': 'als', 'reg': 1},\n",
       " 'sim_options': {'name': 'cosine',\n",
       "  'min_support': 1,\n",
       "  'user_based': False,\n",
       "  'shrinkage': 50},\n",
       " 'random_state': 2}"
      ]
     },
     "execution_count": 161,
     "metadata": {},
     "output_type": "execute_result"
    }
   ],
   "source": [
    "KNN_params = pickle.load(open('model_results/top_grid_KNNBaseline_params.pkl', 'rb'))\n",
    "KNN_params"
   ]
  },
  {
   "cell_type": "code",
   "execution_count": 25,
   "metadata": {},
   "outputs": [
    {
     "data": {
      "text/plain": [
       "1.1728866595837093"
      ]
     },
     "execution_count": 25,
     "metadata": {},
     "output_type": "execute_result"
    }
   ],
   "source": [
    "KNN_score = pickle.load(open('model_results/top_grid_KNNBaseline_score.pkl', 'rb'))\n",
    "KNN_score"
   ]
  },
  {
   "cell_type": "code",
   "execution_count": 26,
   "metadata": {},
   "outputs": [
    {
     "data": {
      "text/plain": [
       "1.1570598159339343"
      ]
     },
     "execution_count": 26,
     "metadata": {},
     "output_type": "execute_result"
    }
   ],
   "source": [
    "SVD_score = pickle.load(open('model_results/top_grid_SVD_score2.pkl', 'rb'))\n",
    "SVD_score"
   ]
  },
  {
   "cell_type": "markdown",
   "metadata": {},
   "source": [
    "# Now we've determined a model that we prefer, let's get the similarity matrix from it"
   ]
  },
  {
   "cell_type": "code",
   "execution_count": 163,
   "metadata": {},
   "outputs": [
    {
     "ename": "NameError",
     "evalue": "name 'trainset' is not defined",
     "output_type": "error",
     "traceback": [
      "\u001b[0;31m---------------------------------------------------------------------------\u001b[0m",
      "\u001b[0;31mNameError\u001b[0m                                 Traceback (most recent call last)",
      "\u001b[0;32m<ipython-input-163-eb38c95e37d4>\u001b[0m in \u001b[0;36m<module>\u001b[0;34m\u001b[0m\n\u001b[1;32m      1\u001b[0m \u001b[0malg\u001b[0m \u001b[0;34m=\u001b[0m \u001b[0msurprise\u001b[0m\u001b[0;34m.\u001b[0m\u001b[0mKNNBaseline\u001b[0m\u001b[0;34m(\u001b[0m\u001b[0mKNN_params\u001b[0m\u001b[0;34m)\u001b[0m\u001b[0;34m\u001b[0m\u001b[0;34m\u001b[0m\u001b[0m\n\u001b[1;32m      2\u001b[0m \u001b[0;34m\u001b[0m\u001b[0m\n\u001b[0;32m----> 3\u001b[0;31m \u001b[0malg\u001b[0m\u001b[0;34m.\u001b[0m\u001b[0mfit\u001b[0m\u001b[0;34m(\u001b[0m\u001b[0mtrainset\u001b[0m\u001b[0;34m)\u001b[0m\u001b[0;34m\u001b[0m\u001b[0;34m\u001b[0m\u001b[0m\n\u001b[0m",
      "\u001b[0;31mNameError\u001b[0m: name 'trainset' is not defined"
     ]
    }
   ],
   "source": [
    "alg = surprise.KNNBaseline(KNN_params)\n",
    "\n",
    "alg.fit(trainset)"
   ]
  },
  {
   "cell_type": "code",
   "execution_count": null,
   "metadata": {},
   "outputs": [],
   "source": [
    "similarity_matrix = alg.compute_similarities()"
   ]
  },
  {
   "cell_type": "code",
   "execution_count": null,
   "metadata": {},
   "outputs": [],
   "source": [
    "version = input('Please provide a distinguishing feature for this version:\\n')\n",
    "with open('data/similarity_matrix{}.pkl'.format(version), 'wb') as file:\n",
    "    pickle.dump(similarity_matrix, file)"
   ]
  },
  {
   "cell_type": "code",
   "execution_count": 27,
   "metadata": {},
   "outputs": [
    {
     "data": {
      "text/plain": [
       "Text(0.5, 1.0, 'Model Performance Evaluation')"
      ]
     },
     "execution_count": 27,
     "metadata": {},
     "output_type": "execute_result"
    },
    {
     "data": {
      "image/png": "[encoded data removed]",
      "text/plain": [
       "<Figure size 720x432 with 1 Axes>"
      ]
     },
     "metadata": {
      "needs_background": "light"
     },
     "output_type": "display_data"
    }
   ],
   "source": [
    "fig, ax = plt.subplots(figsize = (10, 6))\n",
    "ax.bar(['Naive Learner', 'KNNBaseline', 'SVD'], [naive_score, KNN_score, SVD_score])\n",
    "ax.set_ylabel('Mean RMSE of Cross Validation')\n",
    "ax.set_title('Model Performance Evaluation')"
   ]
  },
  {
   "cell_type": "code",
   "execution_count": null,
   "metadata": {},
   "outputs": [],
   "source": [
    "# y = df['review_stars']\n",
    "# X = df.drop('review_stars', axis=1)\n",
    "\n",
    "# X_train, X_test, y_train, y_test = train_test_split(X, y, test_size=0.2)\n",
    "\n",
    "# identifier_df_train = X_train[['user_id', 'business_id']]\n",
    "# identifier_df_test = X_test[['user_id', 'business_id']]\n",
    "\n",
    "#     # fit the model\n",
    "#     alg_name = str(algorithm)[str(algorithm).find('ization')+8 : str(algorithm).find('obj')-1]\n",
    "#     print('Fitting algorithm {}'.format(alg_name))\n",
    "#     algorithm.fit(train_set)\n",
    "\n",
    "#     # run predictions over\n",
    "#     print('Predicting algorithm {}'.format(alg_name))\n",
    "#     model_predictions = []\n",
    "#     model_ratings = []\n",
    "#     for idx, row in X_test.iterrows():\n",
    "#         prediction = algorithm.predict(row[0], row[1])\n",
    "#         model_predictions.append(prediction)\n",
    "#         model_ratings.append(prediction[3])\n",
    "\n",
    "#     # Pickle the models\n",
    "#     pred_pkl_file = alg_name + '_predictions.pkl'\n",
    "#     ratings_pkl_file = alg_name + '_ratings.pkl'\n",
    "#     pickle.dump(model_predictions, open(pred_pkl_file, 'wb'))\n",
    "#     pickle.dump(model_ratings, open(ratings_pkl_file, 'wb'))\n"
   ]
  },
  {
   "cell_type": "markdown",
   "metadata": {},
   "source": [
    "# Make Recommendations"
   ]
  },
  {
   "cell_type": "code",
   "execution_count": null,
   "metadata": {},
   "outputs": [],
   "source": [
    "# Load similarities, bus_review_df, and item map to use for recommending\n",
    "with open('website/models/item_map.pkl', 'rb') as file:\n",
    "    item_map = pickle.load(file)\n",
    "\n",
    "with open('website/models/KNNBaseline_similarities.pkl', 'rb') as file:\n",
    "    similarities = pickle.load(file)\n",
    "\n",
    "df = pd.read_json('data/processed_df.json', orient='records')\n",
    "    \n",
    "selection = ['In-N-Out Burger', \"Chick-fil-A\", 'The Stand', 'ATL Wings']\n",
    "selection = ['The Stand', 'The Stand', 'The Stand', 'The Stand']\n",
    "selection = [\"Hungry Howie's Pizza\", \"In-N-Out Burger\", \"Chick-fil-A\", \"Chick-fil-A\"]"
   ]
  },
  {
   "cell_type": "code",
   "execution_count": null,
   "metadata": {},
   "outputs": [],
   "source": [
    "recommendations = get_recs(similarities, df, item_map, 3, selection)\n",
    "recommendations"
   ]
  },
  {
   "cell_type": "code",
   "execution_count": 113,
   "metadata": {},
   "outputs": [
    {
     "data": {
      "text/html": [
       "<div>\n",
       "<style scoped>\n",
       "    .dataframe tbody tr th:only-of-type {\n",
       "        vertical-align: middle;\n",
       "    }\n",
       "\n",
       "    .dataframe tbody tr th {\n",
       "        vertical-align: top;\n",
       "    }\n",
       "\n",
       "    .dataframe thead th {\n",
       "        text-align: right;\n",
       "    }\n",
       "</style>\n",
       "<table border=\"1\" class=\"dataframe\">\n",
       "  <thead>\n",
       "    <tr style=\"text-align: right;\">\n",
       "      <th></th>\n",
       "      <th>business_id</th>\n",
       "      <th>is_open</th>\n",
       "      <th>name</th>\n",
       "      <th>review_id</th>\n",
       "      <th>review_stars</th>\n",
       "      <th>state</th>\n",
       "      <th>iid</th>\n",
       "      <th>uid</th>\n",
       "    </tr>\n",
       "  </thead>\n",
       "  <tbody>\n",
       "    <tr>\n",
       "      <th>123818</th>\n",
       "      <td>13KW8P5n1jAxxHB7Bl_obg</td>\n",
       "      <td>1</td>\n",
       "      <td>Beaver Choice</td>\n",
       "      <td>g1jg_DKzxZlCFjph14c5hg</td>\n",
       "      <td>5</td>\n",
       "      <td>AZ</td>\n",
       "      <td>709</td>\n",
       "      <td>7303</td>\n",
       "    </tr>\n",
       "    <tr>\n",
       "      <th>123820</th>\n",
       "      <td>13KW8P5n1jAxxHB7Bl_obg</td>\n",
       "      <td>1</td>\n",
       "      <td>Beaver Choice</td>\n",
       "      <td>X6sGqmNX2COiSbeL6jUP5Q</td>\n",
       "      <td>1</td>\n",
       "      <td>AZ</td>\n",
       "      <td>709</td>\n",
       "      <td>27863</td>\n",
       "    </tr>\n",
       "    <tr>\n",
       "      <th>123821</th>\n",
       "      <td>13KW8P5n1jAxxHB7Bl_obg</td>\n",
       "      <td>1</td>\n",
       "      <td>Beaver Choice</td>\n",
       "      <td>TaMsbo-MkCy7upr66cpvPg</td>\n",
       "      <td>5</td>\n",
       "      <td>AZ</td>\n",
       "      <td>709</td>\n",
       "      <td>20729</td>\n",
       "    </tr>\n",
       "    <tr>\n",
       "      <th>123822</th>\n",
       "      <td>13KW8P5n1jAxxHB7Bl_obg</td>\n",
       "      <td>1</td>\n",
       "      <td>Beaver Choice</td>\n",
       "      <td>FgD549Q2jrmG8cwty31aEw</td>\n",
       "      <td>5</td>\n",
       "      <td>AZ</td>\n",
       "      <td>709</td>\n",
       "      <td>27864</td>\n",
       "    </tr>\n",
       "    <tr>\n",
       "      <th>123825</th>\n",
       "      <td>13KW8P5n1jAxxHB7Bl_obg</td>\n",
       "      <td>1</td>\n",
       "      <td>Beaver Choice</td>\n",
       "      <td>xSf8g6JSvHwPNzAV-3TspA</td>\n",
       "      <td>5</td>\n",
       "      <td>AZ</td>\n",
       "      <td>709</td>\n",
       "      <td>27865</td>\n",
       "    </tr>\n",
       "    <tr>\n",
       "      <th>123826</th>\n",
       "      <td>13KW8P5n1jAxxHB7Bl_obg</td>\n",
       "      <td>1</td>\n",
       "      <td>Beaver Choice</td>\n",
       "      <td>HspPm_JC--aKoF4kCEZmAA</td>\n",
       "      <td>5</td>\n",
       "      <td>AZ</td>\n",
       "      <td>709</td>\n",
       "      <td>20984</td>\n",
       "    </tr>\n",
       "    <tr>\n",
       "      <th>123827</th>\n",
       "      <td>13KW8P5n1jAxxHB7Bl_obg</td>\n",
       "      <td>1</td>\n",
       "      <td>Beaver Choice</td>\n",
       "      <td>RTXpbliOwZny7gwdcURqvg</td>\n",
       "      <td>5</td>\n",
       "      <td>AZ</td>\n",
       "      <td>709</td>\n",
       "      <td>2041</td>\n",
       "    </tr>\n",
       "    <tr>\n",
       "      <th>123828</th>\n",
       "      <td>13KW8P5n1jAxxHB7Bl_obg</td>\n",
       "      <td>1</td>\n",
       "      <td>Beaver Choice</td>\n",
       "      <td>gNNpZV5kng-uhN4hZagKXQ</td>\n",
       "      <td>2</td>\n",
       "      <td>AZ</td>\n",
       "      <td>709</td>\n",
       "      <td>1523</td>\n",
       "    </tr>\n",
       "    <tr>\n",
       "      <th>123829</th>\n",
       "      <td>13KW8P5n1jAxxHB7Bl_obg</td>\n",
       "      <td>1</td>\n",
       "      <td>Beaver Choice</td>\n",
       "      <td>f4geLGpPyBPdOmKRnPgwlw</td>\n",
       "      <td>5</td>\n",
       "      <td>AZ</td>\n",
       "      <td>709</td>\n",
       "      <td>14744</td>\n",
       "    </tr>\n",
       "    <tr>\n",
       "      <th>123830</th>\n",
       "      <td>13KW8P5n1jAxxHB7Bl_obg</td>\n",
       "      <td>1</td>\n",
       "      <td>Beaver Choice</td>\n",
       "      <td>wFEhhGhbTRD2Pav0ImF9Lg</td>\n",
       "      <td>4</td>\n",
       "      <td>AZ</td>\n",
       "      <td>709</td>\n",
       "      <td>2172</td>\n",
       "    </tr>\n",
       "    <tr>\n",
       "      <th>123833</th>\n",
       "      <td>13KW8P5n1jAxxHB7Bl_obg</td>\n",
       "      <td>1</td>\n",
       "      <td>Beaver Choice</td>\n",
       "      <td>uH4T08CMpWLR1h3l4e-28A</td>\n",
       "      <td>1</td>\n",
       "      <td>AZ</td>\n",
       "      <td>709</td>\n",
       "      <td>27866</td>\n",
       "    </tr>\n",
       "    <tr>\n",
       "      <th>123834</th>\n",
       "      <td>13KW8P5n1jAxxHB7Bl_obg</td>\n",
       "      <td>1</td>\n",
       "      <td>Beaver Choice</td>\n",
       "      <td>zXVjpxatAcHEiaXCPO2SfA</td>\n",
       "      <td>4</td>\n",
       "      <td>AZ</td>\n",
       "      <td>709</td>\n",
       "      <td>598</td>\n",
       "    </tr>\n",
       "    <tr>\n",
       "      <th>123835</th>\n",
       "      <td>13KW8P5n1jAxxHB7Bl_obg</td>\n",
       "      <td>1</td>\n",
       "      <td>Beaver Choice</td>\n",
       "      <td>qyUGPLoN6kLZutOFfeACkQ</td>\n",
       "      <td>1</td>\n",
       "      <td>AZ</td>\n",
       "      <td>709</td>\n",
       "      <td>27867</td>\n",
       "    </tr>\n",
       "    <tr>\n",
       "      <th>123836</th>\n",
       "      <td>13KW8P5n1jAxxHB7Bl_obg</td>\n",
       "      <td>1</td>\n",
       "      <td>Beaver Choice</td>\n",
       "      <td>HvbdysnRM62whH1fiyw4bw</td>\n",
       "      <td>5</td>\n",
       "      <td>AZ</td>\n",
       "      <td>709</td>\n",
       "      <td>24610</td>\n",
       "    </tr>\n",
       "    <tr>\n",
       "      <th>123837</th>\n",
       "      <td>13KW8P5n1jAxxHB7Bl_obg</td>\n",
       "      <td>1</td>\n",
       "      <td>Beaver Choice</td>\n",
       "      <td>EV3g_iDSsa5xI2t4SCnlKA</td>\n",
       "      <td>3</td>\n",
       "      <td>AZ</td>\n",
       "      <td>709</td>\n",
       "      <td>1595</td>\n",
       "    </tr>\n",
       "    <tr>\n",
       "      <th>123838</th>\n",
       "      <td>13KW8P5n1jAxxHB7Bl_obg</td>\n",
       "      <td>1</td>\n",
       "      <td>Beaver Choice</td>\n",
       "      <td>NN4zBafxHJWyJjJFvp4Zqw</td>\n",
       "      <td>5</td>\n",
       "      <td>AZ</td>\n",
       "      <td>709</td>\n",
       "      <td>5816</td>\n",
       "    </tr>\n",
       "    <tr>\n",
       "      <th>123841</th>\n",
       "      <td>13KW8P5n1jAxxHB7Bl_obg</td>\n",
       "      <td>1</td>\n",
       "      <td>Beaver Choice</td>\n",
       "      <td>OQ4925j5GANU2sLjmhaMug</td>\n",
       "      <td>5</td>\n",
       "      <td>AZ</td>\n",
       "      <td>709</td>\n",
       "      <td>688</td>\n",
       "    </tr>\n",
       "    <tr>\n",
       "      <th>123842</th>\n",
       "      <td>13KW8P5n1jAxxHB7Bl_obg</td>\n",
       "      <td>1</td>\n",
       "      <td>Beaver Choice</td>\n",
       "      <td>1RVz-zshPy415ic4x5Cvpg</td>\n",
       "      <td>5</td>\n",
       "      <td>AZ</td>\n",
       "      <td>709</td>\n",
       "      <td>8838</td>\n",
       "    </tr>\n",
       "    <tr>\n",
       "      <th>123843</th>\n",
       "      <td>13KW8P5n1jAxxHB7Bl_obg</td>\n",
       "      <td>1</td>\n",
       "      <td>Beaver Choice</td>\n",
       "      <td>rX67fbX6OrOgopRVc8LOAQ</td>\n",
       "      <td>4</td>\n",
       "      <td>AZ</td>\n",
       "      <td>709</td>\n",
       "      <td>27868</td>\n",
       "    </tr>\n",
       "    <tr>\n",
       "      <th>123845</th>\n",
       "      <td>13KW8P5n1jAxxHB7Bl_obg</td>\n",
       "      <td>1</td>\n",
       "      <td>Beaver Choice</td>\n",
       "      <td>e2BjinRL-Abf2W1yxe4uYg</td>\n",
       "      <td>2</td>\n",
       "      <td>AZ</td>\n",
       "      <td>709</td>\n",
       "      <td>27869</td>\n",
       "    </tr>\n",
       "    <tr>\n",
       "      <th>123846</th>\n",
       "      <td>13KW8P5n1jAxxHB7Bl_obg</td>\n",
       "      <td>1</td>\n",
       "      <td>Beaver Choice</td>\n",
       "      <td>e5eSbyi9QaCAsKWWOkz52A</td>\n",
       "      <td>5</td>\n",
       "      <td>AZ</td>\n",
       "      <td>709</td>\n",
       "      <td>7468</td>\n",
       "    </tr>\n",
       "    <tr>\n",
       "      <th>123847</th>\n",
       "      <td>13KW8P5n1jAxxHB7Bl_obg</td>\n",
       "      <td>1</td>\n",
       "      <td>Beaver Choice</td>\n",
       "      <td>ysR5Edn4XBF-TOLYQNtnxg</td>\n",
       "      <td>5</td>\n",
       "      <td>AZ</td>\n",
       "      <td>709</td>\n",
       "      <td>26128</td>\n",
       "    </tr>\n",
       "    <tr>\n",
       "      <th>123848</th>\n",
       "      <td>13KW8P5n1jAxxHB7Bl_obg</td>\n",
       "      <td>1</td>\n",
       "      <td>Beaver Choice</td>\n",
       "      <td>mRl50-RidcNoO0W8edbjkg</td>\n",
       "      <td>4</td>\n",
       "      <td>AZ</td>\n",
       "      <td>709</td>\n",
       "      <td>8215</td>\n",
       "    </tr>\n",
       "    <tr>\n",
       "      <th>123849</th>\n",
       "      <td>13KW8P5n1jAxxHB7Bl_obg</td>\n",
       "      <td>1</td>\n",
       "      <td>Beaver Choice</td>\n",
       "      <td>tfnQjSUC2-HLLx85PA2oOg</td>\n",
       "      <td>4</td>\n",
       "      <td>AZ</td>\n",
       "      <td>709</td>\n",
       "      <td>996</td>\n",
       "    </tr>\n",
       "    <tr>\n",
       "      <th>123850</th>\n",
       "      <td>13KW8P5n1jAxxHB7Bl_obg</td>\n",
       "      <td>1</td>\n",
       "      <td>Beaver Choice</td>\n",
       "      <td>ITozNiZSZ0alTyUMSL_6rA</td>\n",
       "      <td>3</td>\n",
       "      <td>AZ</td>\n",
       "      <td>709</td>\n",
       "      <td>5188</td>\n",
       "    </tr>\n",
       "    <tr>\n",
       "      <th>123851</th>\n",
       "      <td>13KW8P5n1jAxxHB7Bl_obg</td>\n",
       "      <td>1</td>\n",
       "      <td>Beaver Choice</td>\n",
       "      <td>pEssRADVtPslaMEeRmLWZA</td>\n",
       "      <td>5</td>\n",
       "      <td>AZ</td>\n",
       "      <td>709</td>\n",
       "      <td>2417</td>\n",
       "    </tr>\n",
       "    <tr>\n",
       "      <th>123852</th>\n",
       "      <td>13KW8P5n1jAxxHB7Bl_obg</td>\n",
       "      <td>1</td>\n",
       "      <td>Beaver Choice</td>\n",
       "      <td>Yfbxgjxvr9Yx3h-VqSpovw</td>\n",
       "      <td>5</td>\n",
       "      <td>AZ</td>\n",
       "      <td>709</td>\n",
       "      <td>27870</td>\n",
       "    </tr>\n",
       "    <tr>\n",
       "      <th>123853</th>\n",
       "      <td>13KW8P5n1jAxxHB7Bl_obg</td>\n",
       "      <td>1</td>\n",
       "      <td>Beaver Choice</td>\n",
       "      <td>9cgW4EXXqEmPWrKKo4kiJQ</td>\n",
       "      <td>5</td>\n",
       "      <td>AZ</td>\n",
       "      <td>709</td>\n",
       "      <td>27871</td>\n",
       "    </tr>\n",
       "    <tr>\n",
       "      <th>137840</th>\n",
       "      <td>13KW8P5n1jAxxHB7Bl_obg</td>\n",
       "      <td>1</td>\n",
       "      <td>Beaver Choice</td>\n",
       "      <td>AlR53hxqlqKGcSE751e5ww</td>\n",
       "      <td>5</td>\n",
       "      <td>AZ</td>\n",
       "      <td>709</td>\n",
       "      <td>3289</td>\n",
       "    </tr>\n",
       "    <tr>\n",
       "      <th>137841</th>\n",
       "      <td>13KW8P5n1jAxxHB7Bl_obg</td>\n",
       "      <td>1</td>\n",
       "      <td>Beaver Choice</td>\n",
       "      <td>She0OoeGQzXi4AERIEVgCw</td>\n",
       "      <td>3</td>\n",
       "      <td>AZ</td>\n",
       "      <td>709</td>\n",
       "      <td>6044</td>\n",
       "    </tr>\n",
       "    <tr>\n",
       "      <th>...</th>\n",
       "      <td>...</td>\n",
       "      <td>...</td>\n",
       "      <td>...</td>\n",
       "      <td>...</td>\n",
       "      <td>...</td>\n",
       "      <td>...</td>\n",
       "      <td>...</td>\n",
       "      <td>...</td>\n",
       "    </tr>\n",
       "    <tr>\n",
       "      <th>230248</th>\n",
       "      <td>13KW8P5n1jAxxHB7Bl_obg</td>\n",
       "      <td>1</td>\n",
       "      <td>Beaver Choice</td>\n",
       "      <td>g42GoHqt9Gx9FYUkru3xOw</td>\n",
       "      <td>5</td>\n",
       "      <td>AZ</td>\n",
       "      <td>709</td>\n",
       "      <td>13964</td>\n",
       "    </tr>\n",
       "    <tr>\n",
       "      <th>230249</th>\n",
       "      <td>13KW8P5n1jAxxHB7Bl_obg</td>\n",
       "      <td>1</td>\n",
       "      <td>Beaver Choice</td>\n",
       "      <td>u-wIyIb--o7zfZJ7Lx30HQ</td>\n",
       "      <td>4</td>\n",
       "      <td>AZ</td>\n",
       "      <td>709</td>\n",
       "      <td>18909</td>\n",
       "    </tr>\n",
       "    <tr>\n",
       "      <th>230250</th>\n",
       "      <td>13KW8P5n1jAxxHB7Bl_obg</td>\n",
       "      <td>1</td>\n",
       "      <td>Beaver Choice</td>\n",
       "      <td>u3O-b3K9EhdyQXdB_VJ7Yg</td>\n",
       "      <td>5</td>\n",
       "      <td>AZ</td>\n",
       "      <td>709</td>\n",
       "      <td>11915</td>\n",
       "    </tr>\n",
       "    <tr>\n",
       "      <th>230253</th>\n",
       "      <td>13KW8P5n1jAxxHB7Bl_obg</td>\n",
       "      <td>1</td>\n",
       "      <td>Beaver Choice</td>\n",
       "      <td>y3xFjOcYtqQ4klpnBK0Yaw</td>\n",
       "      <td>5</td>\n",
       "      <td>AZ</td>\n",
       "      <td>709</td>\n",
       "      <td>38356</td>\n",
       "    </tr>\n",
       "    <tr>\n",
       "      <th>230254</th>\n",
       "      <td>13KW8P5n1jAxxHB7Bl_obg</td>\n",
       "      <td>1</td>\n",
       "      <td>Beaver Choice</td>\n",
       "      <td>B8xZIRBG2lUYseHiSJmneQ</td>\n",
       "      <td>4</td>\n",
       "      <td>AZ</td>\n",
       "      <td>709</td>\n",
       "      <td>21181</td>\n",
       "    </tr>\n",
       "    <tr>\n",
       "      <th>230259</th>\n",
       "      <td>13KW8P5n1jAxxHB7Bl_obg</td>\n",
       "      <td>1</td>\n",
       "      <td>Beaver Choice</td>\n",
       "      <td>wSnUijHKDZjjt7yc6Ix16w</td>\n",
       "      <td>4</td>\n",
       "      <td>AZ</td>\n",
       "      <td>709</td>\n",
       "      <td>7453</td>\n",
       "    </tr>\n",
       "    <tr>\n",
       "      <th>230261</th>\n",
       "      <td>13KW8P5n1jAxxHB7Bl_obg</td>\n",
       "      <td>1</td>\n",
       "      <td>Beaver Choice</td>\n",
       "      <td>1FFEAQDtZG7jkLxSF_8uFA</td>\n",
       "      <td>4</td>\n",
       "      <td>AZ</td>\n",
       "      <td>709</td>\n",
       "      <td>3825</td>\n",
       "    </tr>\n",
       "    <tr>\n",
       "      <th>230262</th>\n",
       "      <td>13KW8P5n1jAxxHB7Bl_obg</td>\n",
       "      <td>1</td>\n",
       "      <td>Beaver Choice</td>\n",
       "      <td>BbTo-Dms3jkI0kW-xf1-4Q</td>\n",
       "      <td>4</td>\n",
       "      <td>AZ</td>\n",
       "      <td>709</td>\n",
       "      <td>8406</td>\n",
       "    </tr>\n",
       "    <tr>\n",
       "      <th>230267</th>\n",
       "      <td>13KW8P5n1jAxxHB7Bl_obg</td>\n",
       "      <td>1</td>\n",
       "      <td>Beaver Choice</td>\n",
       "      <td>NAPHxDEMyWz_JEDN7R1Gng</td>\n",
       "      <td>4</td>\n",
       "      <td>AZ</td>\n",
       "      <td>709</td>\n",
       "      <td>6297</td>\n",
       "    </tr>\n",
       "    <tr>\n",
       "      <th>230268</th>\n",
       "      <td>13KW8P5n1jAxxHB7Bl_obg</td>\n",
       "      <td>1</td>\n",
       "      <td>Beaver Choice</td>\n",
       "      <td>lY8_orJyH6QWHNda6gAShA</td>\n",
       "      <td>1</td>\n",
       "      <td>AZ</td>\n",
       "      <td>709</td>\n",
       "      <td>2181</td>\n",
       "    </tr>\n",
       "    <tr>\n",
       "      <th>230269</th>\n",
       "      <td>13KW8P5n1jAxxHB7Bl_obg</td>\n",
       "      <td>1</td>\n",
       "      <td>Beaver Choice</td>\n",
       "      <td>2JcTjL04x6KAstWvOkIUYA</td>\n",
       "      <td>3</td>\n",
       "      <td>AZ</td>\n",
       "      <td>709</td>\n",
       "      <td>26560</td>\n",
       "    </tr>\n",
       "    <tr>\n",
       "      <th>230270</th>\n",
       "      <td>13KW8P5n1jAxxHB7Bl_obg</td>\n",
       "      <td>1</td>\n",
       "      <td>Beaver Choice</td>\n",
       "      <td>L5FjJHGBZfzPTkLkmQjbmQ</td>\n",
       "      <td>4</td>\n",
       "      <td>AZ</td>\n",
       "      <td>709</td>\n",
       "      <td>6385</td>\n",
       "    </tr>\n",
       "    <tr>\n",
       "      <th>230272</th>\n",
       "      <td>13KW8P5n1jAxxHB7Bl_obg</td>\n",
       "      <td>1</td>\n",
       "      <td>Beaver Choice</td>\n",
       "      <td>A046OfGfImxOWzobHWQlQw</td>\n",
       "      <td>3</td>\n",
       "      <td>AZ</td>\n",
       "      <td>709</td>\n",
       "      <td>8838</td>\n",
       "    </tr>\n",
       "    <tr>\n",
       "      <th>230273</th>\n",
       "      <td>13KW8P5n1jAxxHB7Bl_obg</td>\n",
       "      <td>1</td>\n",
       "      <td>Beaver Choice</td>\n",
       "      <td>friHe8An0d3BvEPBfjjy0A</td>\n",
       "      <td>4</td>\n",
       "      <td>AZ</td>\n",
       "      <td>709</td>\n",
       "      <td>10727</td>\n",
       "    </tr>\n",
       "    <tr>\n",
       "      <th>230274</th>\n",
       "      <td>13KW8P5n1jAxxHB7Bl_obg</td>\n",
       "      <td>1</td>\n",
       "      <td>Beaver Choice</td>\n",
       "      <td>wi2HNfPtWgJ-xL3yw8GS0Q</td>\n",
       "      <td>5</td>\n",
       "      <td>AZ</td>\n",
       "      <td>709</td>\n",
       "      <td>24602</td>\n",
       "    </tr>\n",
       "    <tr>\n",
       "      <th>230275</th>\n",
       "      <td>13KW8P5n1jAxxHB7Bl_obg</td>\n",
       "      <td>1</td>\n",
       "      <td>Beaver Choice</td>\n",
       "      <td>WZVjkNspqD4UyBIl0qv1nQ</td>\n",
       "      <td>5</td>\n",
       "      <td>AZ</td>\n",
       "      <td>709</td>\n",
       "      <td>10305</td>\n",
       "    </tr>\n",
       "    <tr>\n",
       "      <th>230276</th>\n",
       "      <td>13KW8P5n1jAxxHB7Bl_obg</td>\n",
       "      <td>1</td>\n",
       "      <td>Beaver Choice</td>\n",
       "      <td>w_olNAsRm4BZXK4nu7kCsA</td>\n",
       "      <td>5</td>\n",
       "      <td>AZ</td>\n",
       "      <td>709</td>\n",
       "      <td>35282</td>\n",
       "    </tr>\n",
       "    <tr>\n",
       "      <th>230278</th>\n",
       "      <td>13KW8P5n1jAxxHB7Bl_obg</td>\n",
       "      <td>1</td>\n",
       "      <td>Beaver Choice</td>\n",
       "      <td>xqEcjJeWomN78NyJru5Uaw</td>\n",
       "      <td>5</td>\n",
       "      <td>AZ</td>\n",
       "      <td>709</td>\n",
       "      <td>23620</td>\n",
       "    </tr>\n",
       "    <tr>\n",
       "      <th>230279</th>\n",
       "      <td>13KW8P5n1jAxxHB7Bl_obg</td>\n",
       "      <td>1</td>\n",
       "      <td>Beaver Choice</td>\n",
       "      <td>J3fy2qxcUvFZ_I0BEYJEEQ</td>\n",
       "      <td>5</td>\n",
       "      <td>AZ</td>\n",
       "      <td>709</td>\n",
       "      <td>23577</td>\n",
       "    </tr>\n",
       "    <tr>\n",
       "      <th>230280</th>\n",
       "      <td>13KW8P5n1jAxxHB7Bl_obg</td>\n",
       "      <td>1</td>\n",
       "      <td>Beaver Choice</td>\n",
       "      <td>te3pa5VzRwr631iIkThCzQ</td>\n",
       "      <td>5</td>\n",
       "      <td>AZ</td>\n",
       "      <td>709</td>\n",
       "      <td>5380</td>\n",
       "    </tr>\n",
       "    <tr>\n",
       "      <th>230282</th>\n",
       "      <td>13KW8P5n1jAxxHB7Bl_obg</td>\n",
       "      <td>1</td>\n",
       "      <td>Beaver Choice</td>\n",
       "      <td>Na9Ebmd_SOAyLn-hblCpCw</td>\n",
       "      <td>5</td>\n",
       "      <td>AZ</td>\n",
       "      <td>709</td>\n",
       "      <td>220</td>\n",
       "    </tr>\n",
       "    <tr>\n",
       "      <th>230283</th>\n",
       "      <td>13KW8P5n1jAxxHB7Bl_obg</td>\n",
       "      <td>1</td>\n",
       "      <td>Beaver Choice</td>\n",
       "      <td>DUeDkk1v6H7eefbte-3xZg</td>\n",
       "      <td>1</td>\n",
       "      <td>AZ</td>\n",
       "      <td>709</td>\n",
       "      <td>38357</td>\n",
       "    </tr>\n",
       "    <tr>\n",
       "      <th>230284</th>\n",
       "      <td>13KW8P5n1jAxxHB7Bl_obg</td>\n",
       "      <td>1</td>\n",
       "      <td>Beaver Choice</td>\n",
       "      <td>-zMu1ByDFCb4DTTI6O9rkA</td>\n",
       "      <td>5</td>\n",
       "      <td>AZ</td>\n",
       "      <td>709</td>\n",
       "      <td>23343</td>\n",
       "    </tr>\n",
       "    <tr>\n",
       "      <th>230285</th>\n",
       "      <td>13KW8P5n1jAxxHB7Bl_obg</td>\n",
       "      <td>1</td>\n",
       "      <td>Beaver Choice</td>\n",
       "      <td>CQRqJpt6MtnhG5GvXasdGw</td>\n",
       "      <td>2</td>\n",
       "      <td>AZ</td>\n",
       "      <td>709</td>\n",
       "      <td>36875</td>\n",
       "    </tr>\n",
       "    <tr>\n",
       "      <th>230286</th>\n",
       "      <td>13KW8P5n1jAxxHB7Bl_obg</td>\n",
       "      <td>1</td>\n",
       "      <td>Beaver Choice</td>\n",
       "      <td>6EhMX2PPE0Xn7JHgCApVqA</td>\n",
       "      <td>5</td>\n",
       "      <td>AZ</td>\n",
       "      <td>709</td>\n",
       "      <td>35423</td>\n",
       "    </tr>\n",
       "    <tr>\n",
       "      <th>241966</th>\n",
       "      <td>13KW8P5n1jAxxHB7Bl_obg</td>\n",
       "      <td>1</td>\n",
       "      <td>Beaver Choice</td>\n",
       "      <td>oycBVDlgDHbYuH6e3JuQKw</td>\n",
       "      <td>1</td>\n",
       "      <td>AZ</td>\n",
       "      <td>709</td>\n",
       "      <td>4564</td>\n",
       "    </tr>\n",
       "    <tr>\n",
       "      <th>241968</th>\n",
       "      <td>13KW8P5n1jAxxHB7Bl_obg</td>\n",
       "      <td>1</td>\n",
       "      <td>Beaver Choice</td>\n",
       "      <td>Or7tOLdgaMknwpkNMTPOhg</td>\n",
       "      <td>5</td>\n",
       "      <td>AZ</td>\n",
       "      <td>709</td>\n",
       "      <td>3471</td>\n",
       "    </tr>\n",
       "    <tr>\n",
       "      <th>241969</th>\n",
       "      <td>13KW8P5n1jAxxHB7Bl_obg</td>\n",
       "      <td>1</td>\n",
       "      <td>Beaver Choice</td>\n",
       "      <td>RI7-p8bypzFrUfKKDyiT-g</td>\n",
       "      <td>3</td>\n",
       "      <td>AZ</td>\n",
       "      <td>709</td>\n",
       "      <td>22410</td>\n",
       "    </tr>\n",
       "    <tr>\n",
       "      <th>241970</th>\n",
       "      <td>13KW8P5n1jAxxHB7Bl_obg</td>\n",
       "      <td>1</td>\n",
       "      <td>Beaver Choice</td>\n",
       "      <td>J_AolTBhotJBODRfb6Ap8w</td>\n",
       "      <td>4</td>\n",
       "      <td>AZ</td>\n",
       "      <td>709</td>\n",
       "      <td>31767</td>\n",
       "    </tr>\n",
       "    <tr>\n",
       "      <th>241971</th>\n",
       "      <td>13KW8P5n1jAxxHB7Bl_obg</td>\n",
       "      <td>1</td>\n",
       "      <td>Beaver Choice</td>\n",
       "      <td>Gg8nm-MjdEIpHzB_RcAmCA</td>\n",
       "      <td>4</td>\n",
       "      <td>AZ</td>\n",
       "      <td>709</td>\n",
       "      <td>4674</td>\n",
       "    </tr>\n",
       "  </tbody>\n",
       "</table>\n",
       "<p>251 rows × 8 columns</p>\n",
       "</div>"
      ],
      "text/plain": [
       "                   business_id  is_open           name  \\\n",
       "123818  13KW8P5n1jAxxHB7Bl_obg        1  Beaver Choice   \n",
       "123820  13KW8P5n1jAxxHB7Bl_obg        1  Beaver Choice   \n",
       "123821  13KW8P5n1jAxxHB7Bl_obg        1  Beaver Choice   \n",
       "123822  13KW8P5n1jAxxHB7Bl_obg        1  Beaver Choice   \n",
       "123825  13KW8P5n1jAxxHB7Bl_obg        1  Beaver Choice   \n",
       "123826  13KW8P5n1jAxxHB7Bl_obg        1  Beaver Choice   \n",
       "123827  13KW8P5n1jAxxHB7Bl_obg        1  Beaver Choice   \n",
       "123828  13KW8P5n1jAxxHB7Bl_obg        1  Beaver Choice   \n",
       "123829  13KW8P5n1jAxxHB7Bl_obg        1  Beaver Choice   \n",
       "123830  13KW8P5n1jAxxHB7Bl_obg        1  Beaver Choice   \n",
       "123833  13KW8P5n1jAxxHB7Bl_obg        1  Beaver Choice   \n",
       "123834  13KW8P5n1jAxxHB7Bl_obg        1  Beaver Choice   \n",
       "123835  13KW8P5n1jAxxHB7Bl_obg        1  Beaver Choice   \n",
       "123836  13KW8P5n1jAxxHB7Bl_obg        1  Beaver Choice   \n",
       "123837  13KW8P5n1jAxxHB7Bl_obg        1  Beaver Choice   \n",
       "123838  13KW8P5n1jAxxHB7Bl_obg        1  Beaver Choice   \n",
       "123841  13KW8P5n1jAxxHB7Bl_obg        1  Beaver Choice   \n",
       "123842  13KW8P5n1jAxxHB7Bl_obg        1  Beaver Choice   \n",
       "123843  13KW8P5n1jAxxHB7Bl_obg        1  Beaver Choice   \n",
       "123845  13KW8P5n1jAxxHB7Bl_obg        1  Beaver Choice   \n",
       "123846  13KW8P5n1jAxxHB7Bl_obg        1  Beaver Choice   \n",
       "123847  13KW8P5n1jAxxHB7Bl_obg        1  Beaver Choice   \n",
       "123848  13KW8P5n1jAxxHB7Bl_obg        1  Beaver Choice   \n",
       "123849  13KW8P5n1jAxxHB7Bl_obg        1  Beaver Choice   \n",
       "123850  13KW8P5n1jAxxHB7Bl_obg        1  Beaver Choice   \n",
       "123851  13KW8P5n1jAxxHB7Bl_obg        1  Beaver Choice   \n",
       "123852  13KW8P5n1jAxxHB7Bl_obg        1  Beaver Choice   \n",
       "123853  13KW8P5n1jAxxHB7Bl_obg        1  Beaver Choice   \n",
       "137840  13KW8P5n1jAxxHB7Bl_obg        1  Beaver Choice   \n",
       "137841  13KW8P5n1jAxxHB7Bl_obg        1  Beaver Choice   \n",
       "...                        ...      ...            ...   \n",
       "230248  13KW8P5n1jAxxHB7Bl_obg        1  Beaver Choice   \n",
       "230249  13KW8P5n1jAxxHB7Bl_obg        1  Beaver Choice   \n",
       "230250  13KW8P5n1jAxxHB7Bl_obg        1  Beaver Choice   \n",
       "230253  13KW8P5n1jAxxHB7Bl_obg        1  Beaver Choice   \n",
       "230254  13KW8P5n1jAxxHB7Bl_obg        1  Beaver Choice   \n",
       "230259  13KW8P5n1jAxxHB7Bl_obg        1  Beaver Choice   \n",
       "230261  13KW8P5n1jAxxHB7Bl_obg        1  Beaver Choice   \n",
       "230262  13KW8P5n1jAxxHB7Bl_obg        1  Beaver Choice   \n",
       "230267  13KW8P5n1jAxxHB7Bl_obg        1  Beaver Choice   \n",
       "230268  13KW8P5n1jAxxHB7Bl_obg        1  Beaver Choice   \n",
       "230269  13KW8P5n1jAxxHB7Bl_obg        1  Beaver Choice   \n",
       "230270  13KW8P5n1jAxxHB7Bl_obg        1  Beaver Choice   \n",
       "230272  13KW8P5n1jAxxHB7Bl_obg        1  Beaver Choice   \n",
       "230273  13KW8P5n1jAxxHB7Bl_obg        1  Beaver Choice   \n",
       "230274  13KW8P5n1jAxxHB7Bl_obg        1  Beaver Choice   \n",
       "230275  13KW8P5n1jAxxHB7Bl_obg        1  Beaver Choice   \n",
       "230276  13KW8P5n1jAxxHB7Bl_obg        1  Beaver Choice   \n",
       "230278  13KW8P5n1jAxxHB7Bl_obg        1  Beaver Choice   \n",
       "230279  13KW8P5n1jAxxHB7Bl_obg        1  Beaver Choice   \n",
       "230280  13KW8P5n1jAxxHB7Bl_obg        1  Beaver Choice   \n",
       "230282  13KW8P5n1jAxxHB7Bl_obg        1  Beaver Choice   \n",
       "230283  13KW8P5n1jAxxHB7Bl_obg        1  Beaver Choice   \n",
       "230284  13KW8P5n1jAxxHB7Bl_obg        1  Beaver Choice   \n",
       "230285  13KW8P5n1jAxxHB7Bl_obg        1  Beaver Choice   \n",
       "230286  13KW8P5n1jAxxHB7Bl_obg        1  Beaver Choice   \n",
       "241966  13KW8P5n1jAxxHB7Bl_obg        1  Beaver Choice   \n",
       "241968  13KW8P5n1jAxxHB7Bl_obg        1  Beaver Choice   \n",
       "241969  13KW8P5n1jAxxHB7Bl_obg        1  Beaver Choice   \n",
       "241970  13KW8P5n1jAxxHB7Bl_obg        1  Beaver Choice   \n",
       "241971  13KW8P5n1jAxxHB7Bl_obg        1  Beaver Choice   \n",
       "\n",
       "                     review_id  review_stars state  iid    uid  \n",
       "123818  g1jg_DKzxZlCFjph14c5hg             5    AZ  709   7303  \n",
       "123820  X6sGqmNX2COiSbeL6jUP5Q             1    AZ  709  27863  \n",
       "123821  TaMsbo-MkCy7upr66cpvPg             5    AZ  709  20729  \n",
       "123822  FgD549Q2jrmG8cwty31aEw             5    AZ  709  27864  \n",
       "123825  xSf8g6JSvHwPNzAV-3TspA             5    AZ  709  27865  \n",
       "123826  HspPm_JC--aKoF4kCEZmAA             5    AZ  709  20984  \n",
       "123827  RTXpbliOwZny7gwdcURqvg             5    AZ  709   2041  \n",
       "123828  gNNpZV5kng-uhN4hZagKXQ             2    AZ  709   1523  \n",
       "123829  f4geLGpPyBPdOmKRnPgwlw             5    AZ  709  14744  \n",
       "123830  wFEhhGhbTRD2Pav0ImF9Lg             4    AZ  709   2172  \n",
       "123833  uH4T08CMpWLR1h3l4e-28A             1    AZ  709  27866  \n",
       "123834  zXVjpxatAcHEiaXCPO2SfA             4    AZ  709    598  \n",
       "123835  qyUGPLoN6kLZutOFfeACkQ             1    AZ  709  27867  \n",
       "123836  HvbdysnRM62whH1fiyw4bw             5    AZ  709  24610  \n",
       "123837  EV3g_iDSsa5xI2t4SCnlKA             3    AZ  709   1595  \n",
       "123838  NN4zBafxHJWyJjJFvp4Zqw             5    AZ  709   5816  \n",
       "123841  OQ4925j5GANU2sLjmhaMug             5    AZ  709    688  \n",
       "123842  1RVz-zshPy415ic4x5Cvpg             5    AZ  709   8838  \n",
       "123843  rX67fbX6OrOgopRVc8LOAQ             4    AZ  709  27868  \n",
       "123845  e2BjinRL-Abf2W1yxe4uYg             2    AZ  709  27869  \n",
       "123846  e5eSbyi9QaCAsKWWOkz52A             5    AZ  709   7468  \n",
       "123847  ysR5Edn4XBF-TOLYQNtnxg             5    AZ  709  26128  \n",
       "123848  mRl50-RidcNoO0W8edbjkg             4    AZ  709   8215  \n",
       "123849  tfnQjSUC2-HLLx85PA2oOg             4    AZ  709    996  \n",
       "123850  ITozNiZSZ0alTyUMSL_6rA             3    AZ  709   5188  \n",
       "123851  pEssRADVtPslaMEeRmLWZA             5    AZ  709   2417  \n",
       "123852  Yfbxgjxvr9Yx3h-VqSpovw             5    AZ  709  27870  \n",
       "123853  9cgW4EXXqEmPWrKKo4kiJQ             5    AZ  709  27871  \n",
       "137840  AlR53hxqlqKGcSE751e5ww             5    AZ  709   3289  \n",
       "137841  She0OoeGQzXi4AERIEVgCw             3    AZ  709   6044  \n",
       "...                        ...           ...   ...  ...    ...  \n",
       "230248  g42GoHqt9Gx9FYUkru3xOw             5    AZ  709  13964  \n",
       "230249  u-wIyIb--o7zfZJ7Lx30HQ             4    AZ  709  18909  \n",
       "230250  u3O-b3K9EhdyQXdB_VJ7Yg             5    AZ  709  11915  \n",
       "230253  y3xFjOcYtqQ4klpnBK0Yaw             5    AZ  709  38356  \n",
       "230254  B8xZIRBG2lUYseHiSJmneQ             4    AZ  709  21181  \n",
       "230259  wSnUijHKDZjjt7yc6Ix16w             4    AZ  709   7453  \n",
       "230261  1FFEAQDtZG7jkLxSF_8uFA             4    AZ  709   3825  \n",
       "230262  BbTo-Dms3jkI0kW-xf1-4Q             4    AZ  709   8406  \n",
       "230267  NAPHxDEMyWz_JEDN7R1Gng             4    AZ  709   6297  \n",
       "230268  lY8_orJyH6QWHNda6gAShA             1    AZ  709   2181  \n",
       "230269  2JcTjL04x6KAstWvOkIUYA             3    AZ  709  26560  \n",
       "230270  L5FjJHGBZfzPTkLkmQjbmQ             4    AZ  709   6385  \n",
       "230272  A046OfGfImxOWzobHWQlQw             3    AZ  709   8838  \n",
       "230273  friHe8An0d3BvEPBfjjy0A             4    AZ  709  10727  \n",
       "230274  wi2HNfPtWgJ-xL3yw8GS0Q             5    AZ  709  24602  \n",
       "230275  WZVjkNspqD4UyBIl0qv1nQ             5    AZ  709  10305  \n",
       "230276  w_olNAsRm4BZXK4nu7kCsA             5    AZ  709  35282  \n",
       "230278  xqEcjJeWomN78NyJru5Uaw             5    AZ  709  23620  \n",
       "230279  J3fy2qxcUvFZ_I0BEYJEEQ             5    AZ  709  23577  \n",
       "230280  te3pa5VzRwr631iIkThCzQ             5    AZ  709   5380  \n",
       "230282  Na9Ebmd_SOAyLn-hblCpCw             5    AZ  709    220  \n",
       "230283  DUeDkk1v6H7eefbte-3xZg             1    AZ  709  38357  \n",
       "230284  -zMu1ByDFCb4DTTI6O9rkA             5    AZ  709  23343  \n",
       "230285  CQRqJpt6MtnhG5GvXasdGw             2    AZ  709  36875  \n",
       "230286  6EhMX2PPE0Xn7JHgCApVqA             5    AZ  709  35423  \n",
       "241966  oycBVDlgDHbYuH6e3JuQKw             1    AZ  709   4564  \n",
       "241968  Or7tOLdgaMknwpkNMTPOhg             5    AZ  709   3471  \n",
       "241969  RI7-p8bypzFrUfKKDyiT-g             3    AZ  709  22410  \n",
       "241970  J_AolTBhotJBODRfb6Ap8w             4    AZ  709  31767  \n",
       "241971  Gg8nm-MjdEIpHzB_RcAmCA             4    AZ  709   4674  \n",
       "\n",
       "[251 rows x 8 columns]"
      ]
     },
     "execution_count": 113,
     "metadata": {},
     "output_type": "execute_result"
    }
   ],
   "source": [
    "pipe.bus_review_df[pipe.bus_review_df.name == 'Beaver Choice']"
   ]
  },
  {
   "cell_type": "code",
   "execution_count": null,
   "metadata": {},
   "outputs": [],
   "source": []
  },
  {
   "cell_type": "code",
   "execution_count": null,
   "metadata": {},
   "outputs": [],
   "source": []
  },
  {
   "cell_type": "code",
   "execution_count": null,
   "metadata": {},
   "outputs": [],
   "source": []
  }
 ],
 "metadata": {
  "kernelspec": {
   "display_name": "Python 3",
   "language": "python",
   "name": "python3"
  }
 },
 "nbformat": 4,
 "nbformat_minor": 2
}
