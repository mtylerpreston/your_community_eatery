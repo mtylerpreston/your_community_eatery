{
 "cells": [
  {
   "cell_type": "markdown",
   "metadata": {},
   "source": [
    "# Your Community Eatery\n",
    "\n",
    "## Welcome to your local (if you're in Phoenix) restaurant recommender! \n",
    "\n",
    "We are going to take a walk through the process of creating a recommender based on collaborative filtering of Yelp review data. Follow along here for the full story..."
   ]
  },
  {
   "cell_type": "code",
   "execution_count": 196,
   "metadata": {},
   "outputs": [
    {
     "name": "stdout",
     "output_type": "stream",
     "text": [
      "The autoreload extension is already loaded. To reload it, use:\n",
      "  %reload_ext autoreload\n"
     ]
    }
   ],
   "source": [
    "# Project specific modules\n",
    "from src.pipeline import YourCommunityEatery\n",
    "from src.functions import build_item_map\n",
    "\n",
    "# Avoid restarting Kernal each time we update modules\n",
    "%load_ext autoreload\n",
    "%autoreload 2\n",
    "\n",
    "# The basics\n",
    "import pandas as pd\n",
    "import numpy as np\n",
    "import matplotlib.pyplot as plt\n",
    "\n",
    "# Spark library and functions\n",
    "import pyspark as ps\n",
    "import pyspark.sql.types as types\n",
    "from pyspark.sql.functions import col, countDistinct\n",
    "from pyspark.sql.functions import to_timestamp\n",
    "\n",
    "# Sklearn Modeling\n",
    "from sklearn.model_selection import train_test_split\n",
    "\n",
    "\n",
    "# Surprise modeling\n",
    "from surprise import SVD\n",
    "import surprise\n",
    "from surprise import Dataset, Reader\n",
    "from surprise.model_selection import cross_validate\n",
    "\n",
    "# Persistance\n",
    "import pickle\n",
    "\n",
    "# Housekeeping\n",
    "from io import StringIO\n",
    "from datetime import datetime"
   ]
  },
  {
   "cell_type": "markdown",
   "metadata": {},
   "source": [
    "# Initial EDA\n",
    "\n",
    "This dataset is actually too big to simply load into a Pandas dataframe (at least on my machine - 8 GB memory). Although I know people with 16 GB machines have loaded it successfully, so far I get memory errors when trying to load it onto a 16 GB AWS EC2 instance (and I'm still searching for an answer/solution on that). Regardless, we can do some initial EDA to just see what we have by using Spark!"
   ]
  },
  {
   "cell_type": "code",
   "execution_count": 35,
   "metadata": {},
   "outputs": [],
   "source": [
    "spark = (ps.sql.SparkSession\n",
    "         .builder\n",
    "         .master('local[4]')\n",
    "         .appName('lecture')\n",
    "         .getOrCreate()\n",
    "        )\n",
    "\n",
    "review_df = spark.read.json(\"data/review.json\")\n",
    "# checkin_df = spark.read.json(\"data/checkin.json\")\n",
    "# tip_df = spark.read.json(\"data/tip.json\")\n",
    "# user_df = spark.read.json(\"data/user.json\")\n",
    "business_df = spark.read.json(\"data/business.json\")"
   ]
  },
  {
   "cell_type": "markdown",
   "metadata": {},
   "source": [
    "We plan to work with the review and business datasets. So let's see how many distinct values for all fields we have on those."
   ]
  },
  {
   "cell_type": "code",
   "execution_count": 61,
   "metadata": {},
   "outputs": [
    {
     "name": "stdout",
     "output_type": "stream",
     "text": [
      "Number of states covered in the data: 36\n",
      "Number of cities covered in the data: 1204\n"
     ]
    },
    {
     "data": {
      "image/png": "[encoded data removed]",
      "text/plain": [
       "<Figure size 720x432 with 1 Axes>"
      ]
     },
     "metadata": {
      "needs_background": "light"
     },
     "output_type": "display_data"
    }
   ],
   "source": [
    "this = business_df.agg(*(countDistinct(col(c)).alias(c) for c in business_df.columns))\n",
    "this = this.take(1)[0].asDict()\n",
    "\n",
    "print('Number of states covered in the data: {}'.format(this['state']))\n",
    "print('Number of cities covered in the data: {}'.format(this['city']))\n",
    "\n",
    "drop_list = ['city', 'state', 'address', 'hours', 'is_open', \n",
    "             'latitude', 'longitude', 'name', 'postal_code', \n",
    "             'review_count', 'stars']\n",
    "for _ in drop_list:\n",
    "    this.pop(_)\n",
    "\n",
    "fig, ax = plt.subplots(figsize = (10, 6))\n",
    "ax.bar(range(len(this)), list(this.values()), align='center')\n",
    "ax.set_title('Count of Unique Values from Business Dataset')\n",
    "ax.set_ylabel('Count')\n",
    "_ = plt.xticks(range(len(this)), list(this.keys()))"
   ]
  },
  {
   "cell_type": "code",
   "execution_count": 68,
   "metadata": {},
   "outputs": [
    {
     "name": "stdout",
     "output_type": "stream",
     "text": [
      "Number of businesses covered in the review data: 192606\n"
     ]
    },
    {
     "data": {
      "image/png": "[encoded data removed]",
      "text/plain": [
       "<Figure size 432x288 with 1 Axes>"
      ]
     },
     "metadata": {
      "needs_background": "light"
     },
     "output_type": "display_data"
    }
   ],
   "source": [
    "this = review_df.agg(*(countDistinct(col(c)).alias(c) for c in review_df.columns))\n",
    "this = this.take(1)[0].asDict()\n",
    "\n",
    "print('Number of businesses covered in the review data: {}'.format(this['business_id']))\n",
    "\n",
    "drop_list = ['cool', 'funny', 'useful', 'text', 'stars', 'date', 'business_id']\n",
    "for _ in drop_list:\n",
    "    this.pop(_)\n",
    "\n",
    "plt.bar(range(len(this)), list(this.values()), align='center')\n",
    "_ = plt.xticks(range(len(this)), list(this.keys()))"
   ]
  },
  {
   "cell_type": "markdown",
   "metadata": {},
   "source": [
    "## We would like to develop a restaurant recommender for one metropolitan area\n",
    "\n",
    "Given that we are developing a similarity/collaborative-filtering based recommender, we are going to limit this project to one geographic area since there wouldn't be much if any signal on one geo for another. Also, given the demands of this dataset, it will be much more manageable to filter it down to one city so we can simply work with Pandas. But which region to pick?\n",
    "\n",
    "Let's look at some density metrics to decide..."
   ]
  },
  {
   "cell_type": "code",
   "execution_count": 63,
   "metadata": {},
   "outputs": [],
   "source": [
    "def calculate_region_density(state, businesses, bus_reviews):\n",
    "    num_businesses = businesses.filter((businesses.categories.like('%Restaurants%')) &\n",
    "                                (business_df.state == state)).count()\n",
    "    num_reviews = bus_reviews.filter((bus_reviews.categories.like('%Restaurants%')) &\n",
    "                                (bus_reviews.state == state)).count()\n",
    "    return num_reviews/num_businesses\n",
    "\n",
    "def compare_region_densities(regions, businesses, bus_reviews):\n",
    "    max_density = 0\n",
    "    density_dict = {}\n",
    "    for region in regions:\n",
    "        density = calculate_region_density(region, businesses, bus_reviews)\n",
    "        density_dict[region] = density\n",
    "        if density > max_density:\n",
    "            max_density = density\n",
    "            max_region = region\n",
    "\n",
    "    print('Best Region: {}\\nBest Density: {}'.format(max_region, max_density))\n",
    "    return density_dict"
   ]
  },
  {
   "cell_type": "code",
   "execution_count": 66,
   "metadata": {},
   "outputs": [],
   "source": [
    "# Join business and review df's so that we can really look at this\n",
    "bus_review_df = review_df.join(business_df, \n",
    "                               review_df.business_id == business_df.business_id,\n",
    "                                how='left')"
   ]
  },
  {
   "cell_type": "code",
   "execution_count": 67,
   "metadata": {},
   "outputs": [
    {
     "name": "stdout",
     "output_type": "stream",
     "text": [
      "Best Region: NV\n",
      "Best Density: 178.80932802261339\n"
     ]
    },
    {
     "data": {
      "text/plain": [
       "Text(0.5, 1.0, 'Review Density by Region')"
      ]
     },
     "execution_count": 67,
     "metadata": {},
     "output_type": "execute_result"
    },
    {
     "data": {
      "image/png": "[encoded data removed]",
      "text/plain": [
       "<Figure size 720x432 with 1 Axes>"
      ]
     },
     "metadata": {
      "needs_background": "light"
     },
     "output_type": "display_data"
    }
   ],
   "source": [
    "regions = ['AZ', 'ON', 'NC', 'AB', 'NV', 'OH', 'PA', 'IL', 'SC', 'QC']\n",
    "\n",
    "density_dict = compare_region_densities(regions, business_df, bus_review_df)\n",
    "\n",
    "pd.DataFrame.from_dict(density_dict, orient = 'index').sort_values(0, ascending = False).plot.bar(legend = False, figsize = (10, 6))\n",
    "plt.ylabel('Review Density')\n",
    "plt.xlabel('Region')\n",
    "plt.title('Review Density by Region')"
   ]
  },
  {
   "cell_type": "markdown",
   "metadata": {},
   "source": [
    "## The winner: Arizona\n",
    "\n",
    "We are proceeding with Arizona based businesses for this case study. Although Nevada has a greater density of reviews/restaurant, this data scientist considers it to be an anomaly in the restaurant space as well as user space given the impact tourism would have on restaurant visits/reviews. Arizona has the next highest density, would be expected to include a healthy mix of resident and non-resident reviews, most reviews are concentrated around Phoenix, and we would expect Phoenix to have a diverse group of users. Note that it was specified by Yelp that their dataset focuses on 8 metropolitan areas, and we have validated (though not shown here) that the Arizona locations are in/around Phoenix.\n",
    "\n",
    "Now that we have a region in mind, we will be able to fit the subject piece of the dataset into memory in Pandas.\n",
    "\n",
    "But don't forget to close Spark!"
   ]
  },
  {
   "cell_type": "code",
   "execution_count": 70,
   "metadata": {},
   "outputs": [],
   "source": [
    "spark.stop()"
   ]
  },
  {
   "cell_type": "markdown",
   "metadata": {},
   "source": [
    "# Loading Data into Pandas - Pipeline Demo\n",
    "\n",
    "Now that we have a few criteria on which to select a limited volume of the data (Restaurants and Arizona), our subject dataset will be much more manageable and will easily fit in memory. We've developed a pipeline just for handling this!"
   ]
  },
  {
   "cell_type": "code",
   "execution_count": 153,
   "metadata": {},
   "outputs": [],
   "source": [
    "# Instantiate object specifying that we don't have the memory to handle the full dataset\n",
    "pipe = YourCommunityEatery(save_memory=True)"
   ]
  },
  {
   "cell_type": "code",
   "execution_count": 158,
   "metadata": {},
   "outputs": [],
   "source": [
    "# Read data in from files \n",
    "# There is quite a bit of data to load and it has to be filtered \n",
    "# based on some conditions to fit in memory, so this takes a while\n",
    "pipe.read_data(data_dir_path='data/')"
   ]
  },
  {
   "cell_type": "code",
   "execution_count": 208,
   "metadata": {},
   "outputs": [],
   "source": [
    "# Alternatively, you can just load it from a file!\n",
    "# This isn't super fast, but much beter than the above.\n",
    "pipe.bus_review_df = pd.read_pickle('data/bus_review_df.pkl')"
   ]
  },
  {
   "cell_type": "markdown",
   "metadata": {},
   "source": [
    "# Now that we have our data, let's delve into some additional EDA\n",
    "#### At this point our data is saved in 'bus_review_df' which is an attribute of our pipe object\n",
    "\n",
    "What time frame do these reviews span?"
   ]
  },
  {
   "cell_type": "code",
   "execution_count": 161,
   "metadata": {},
   "outputs": [
    {
     "name": "stdout",
     "output_type": "stream",
     "text": [
      "These ratings range from 2005 to 2018.\n"
     ]
    }
   ],
   "source": [
    "begin = pipe.bus_review_df.date.min()\n",
    "end = pipe.bus_review_df.date.max()\n",
    "print('These ratings range from {} to {}.'.format(begin.year, end.year))"
   ]
  },
  {
   "cell_type": "markdown",
   "metadata": {},
   "source": [
    "Long span of data, nice! And what kind of distribution of reviews over time might we see for that duration?"
   ]
  },
  {
   "cell_type": "code",
   "execution_count": 162,
   "metadata": {},
   "outputs": [
    {
     "data": {
      "image/png": "[encoded data removed]",
      "text/plain": [
       "<Figure size 720x432 with 1 Axes>"
      ]
     },
     "metadata": {
      "needs_background": "light"
     },
     "output_type": "display_data"
    }
   ],
   "source": [
    "ax = pipe.bus_review_df.date.hist(bins = 100, figsize = (10, 6))\n",
    "ax.grid(False)\n",
    "ax.set_title('Distribution of Reviews over Time')\n",
    "ax.set_xlabel('Year')\n",
    "_ = ax.set_ylabel('Number of Reviews')"
   ]
  },
  {
   "cell_type": "markdown",
   "metadata": {},
   "source": [
    "Look at that growth! Good for you, Yelp. Interesting trends after 2015, seasonality for reviews? Interesting...but out of our scope.\n",
    "\n",
    "What is the distribution of number of users to have reviewed each restaurant? \n"
   ]
  },
  {
   "cell_type": "code",
   "execution_count": 163,
   "metadata": {},
   "outputs": [
    {
     "data": {
      "image/png": "[encoded data removed]",
      "text/plain": [
       "<Figure size 720x432 with 1 Axes>"
      ]
     },
     "metadata": {
      "needs_background": "light"
     },
     "output_type": "display_data"
    }
   ],
   "source": [
    "groups = pipe.bus_review_df.groupby('business_id')\n",
    "ax = groups.user_id.nunique().hist(bins = 30, figsize = (10, 6))\n",
    "ax.grid(False)\n",
    "ax.set_yscale('log')\n",
    "ax.set_xlabel('Number of Users who Reviewed (in this dataset)')\n",
    "ax.set_title('Distribution Users Per Restaurant')\n",
    "_ = ax.set_ylabel('Number of Restaurants Reviewed by Each Userr(Log-scaled)')"
   ]
  },
  {
   "cell_type": "markdown",
   "metadata": {},
   "source": [
    "Keeping in mind this is log-scaled on the y axis, this data appears to be exponentially distributed."
   ]
  },
  {
   "cell_type": "markdown",
   "metadata": {},
   "source": [
    "\n",
    "What is the distribution of reviews per user?\n"
   ]
  },
  {
   "cell_type": "code",
   "execution_count": 164,
   "metadata": {},
   "outputs": [
    {
     "data": {
      "image/png": "[encoded data removed]",
      "text/plain": [
       "<Figure size 720x432 with 1 Axes>"
      ]
     },
     "metadata": {
      "needs_background": "light"
     },
     "output_type": "display_data"
    }
   ],
   "source": [
    "groups = pipe.bus_review_df.groupby('user_id')\n",
    "ax = groups.review_id.nunique().hist(bins = 30, figsize = (10, 6))\n",
    "ax.grid(False)\n",
    "ax.set_yscale('log')\n",
    "ax.set_xlabel('Number of Reviews from A User')\n",
    "ax.set_title('Distribution Reviews Per User')\n",
    "_ = ax.set_ylabel('Number of Users (Log-scaled)')"
   ]
  },
  {
   "cell_type": "markdown",
   "metadata": {},
   "source": [
    "From the graph above, we are able to see that this is exponentially distributed. There are several users who have made significant numbers of reviews. Normally this might be cause for concern that their reviews are not legitimate; however, this dataset consists only of reviews that Yelp has validated and \"recommended\", so they are likely just very passionate about food. But skeptical scientists that we are, we'll not just take their word for it...ok, I admit that I'm mostly just curious to see what kind of stuff a person who writes over 1,200 reviews has to say.\n",
    "\n",
    "Let's verify the text of the highest volume user to be sure they are not a bot. As shown below, only one user exceeded 1000 reviews and their id is 'ELcQDlf69kb-ihJfxZyL0A'. Feel free to adjust the index on the .iloc to see a few different reivews (just put in a number between 0 and 1277)."
   ]
  },
  {
   "cell_type": "code",
   "execution_count": 77,
   "metadata": {},
   "outputs": [
    {
     "data": {
      "text/plain": [
       "\"My date said the place smelled like onions when we walked inside. It did a bit, but it eventually faded away. The date got some four cheese flatbread pizza which looked decent and my flatbread blackened chicken sandwich was actually pretty tasty. It had some orange sauce (chipotle?) that really upgraded the level of taste. The fries were hot and firm, not like my 50 year old date's body, but can't win them all. The bud light was 3 bucks and reverse happy hour was kicking off at 9pm which meant cheaper beer and food specials. The bartendress was attractive and we both could not help but to stare. A good location for this chain and not too crowded due to the family area it is located.\""
      ]
     },
     "execution_count": 77,
     "metadata": {},
     "output_type": "execute_result"
    }
   ],
   "source": [
    "pipe.bus_review_df[pipe.bus_review_df.user_id == 'ELcQDlf69kb-ihJfxZyL0A'].text.iloc[356]"
   ]
  },
  {
   "cell_type": "markdown",
   "metadata": {},
   "source": [
    "...ok, review for index 356 is pretty shameful. But clearly, this is not a bot...just definitely someone who has a lot of time on their hands. Outlier though they may be, their reviews appear to be genuine, so we will graciously accept their contributions to our density."
   ]
  },
  {
   "cell_type": "markdown",
   "metadata": {},
   "source": [
    "## In  planning for a collaborative-filtering based recommender, we need to take a look at our density of reviews"
   ]
  },
  {
   "cell_type": "code",
   "execution_count": 198,
   "metadata": {},
   "outputs": [
    {
     "name": "stdout",
     "output_type": "stream",
     "text": [
      "Number of  ratings: 1191691\n",
      "Number of items: 11465\n",
      "Number of ratings: 324853\n",
      "The density of our data is 0.000320\n"
     ]
    }
   ],
   "source": [
    "density = pipe.calculate_density()\n",
    "print('The density of our data is {:.6f}'.format(density))"
   ]
  },
  {
   "cell_type": "markdown",
   "metadata": {},
   "source": [
    "Ouch, that is extremely low. Let's take a look at how we might improve that at least slightly."
   ]
  },
  {
   "cell_type": "markdown",
   "metadata": {},
   "source": [
    "## For model training, let's consider trimming down our dataset to increase density\n",
    "\n",
    "Normally, taking samples of your data to increase density is a non-starter, but we may have some clever ways of taking samples based on what we've learned so far. Let's start with getting later time periods, since we have far more reviews in the later segment of the data. We will use the \"filter_by_review_date\" method to modify our dataframe in place to only include reviews during-or-after a specified year."
   ]
  },
  {
   "cell_type": "code",
   "execution_count": 200,
   "metadata": {},
   "outputs": [],
   "source": [
    "pipe.filter_by_review_date(threshold = 2013)"
   ]
  },
  {
   "cell_type": "code",
   "execution_count": 201,
   "metadata": {},
   "outputs": [
    {
     "name": "stdout",
     "output_type": "stream",
     "text": [
      "Number of  ratings: 983449\n",
      "Number of items: 10303\n",
      "Number of ratings: 298385\n",
      "The density of our data is 0.000320\n"
     ]
    }
   ],
   "source": [
    "density = pipe.calculate_density()\n",
    "print('The density of our data is {:.6f}'.format(density))"
   ]
  },
  {
   "cell_type": "markdown",
   "metadata": {},
   "source": [
    "As it turns out, the density is not significantly affected by taking slices for more recent data. We did this for all year thresholds from 2005 through 2017 and found that we were only able to achieve a change of about 10% from the above figure, and it was for the worse. It is not being shown here because the dataframe gets modified in place, and we'd like to spare you from having to reload it to get back to normal. Let's proceed with a threshold of 2013 for the sake of having some value for recency without sacrificing too much data."
   ]
  },
  {
   "cell_type": "markdown",
   "metadata": {},
   "source": [
    "It is expected that the restaurants and users with low counts of reviews are making our user-restaurant matrix too sparse. Let's cut off those density killers and re-evaluate some of these metrics."
   ]
  },
  {
   "cell_type": "code",
   "execution_count": 4,
   "metadata": {},
   "outputs": [
    {
     "name": "stdout",
     "output_type": "stream",
     "text": [
      "Removing users with less than 2 reviews leaves us with 85.38% of the original amount of reviews.\n",
      "Removing users with less than 3 reviews leaves us with 76.13% of the original amount of reviews.\n",
      "Removing users with less than 4 reviews leaves us with 69.32% of the original amount of reviews.\n",
      "Removing users with less than 5 reviews leaves us with 63.92% of the original amount of reviews.\n",
      "Removing users with less than 6 reviews leaves us with 59.53% of the original amount of reviews.\n",
      "Removing users with less than 7 reviews leaves us with 55.79% of the original amount of reviews.\n"
     ]
    }
   ],
   "source": [
    "thresholds = [2, 3, 4, 5, 6, 7]\n",
    "for thresh in thresholds:\n",
    "    groups = pipe.bus_review_df.groupby('user_id')\n",
    "    user_selection = groups.review_id.nunique()>=thresh\n",
    "    user_selection = user_selection[user_selection]\n",
    "    trimmed_df = pipe.bus_review_df[pipe.bus_review_df.user_id.isin(user_selection.index)]\n",
    "\n",
    "    full = len(pipe.bus_review_df)\n",
    "    trimmed = len(trimmed_df)\n",
    "    print('Removing users with less than {} reviews leaves us with {:.2f}% of the original amount of reviews.'.format(thresh, 100*(trimmed)/full))"
   ]
  },
  {
   "cell_type": "code",
   "execution_count": 5,
   "metadata": {},
   "outputs": [
    {
     "name": "stdout",
     "output_type": "stream",
     "text": [
      "Removing businesses reviewed by less than 5 users leaves us with 99.75% of the original amount of reviews.\n",
      "Removing businesses reviewed by less than 10 users leaves us with 98.95% of the original amount of reviews.\n",
      "Removing businesses reviewed by less than 20 users leaves us with 96.90% of the original amount of reviews.\n",
      "Removing businesses reviewed by less than 30 users leaves us with 94.58% of the original amount of reviews.\n",
      "Removing businesses reviewed by less than 40 users leaves us with 92.45% of the original amount of reviews.\n",
      "Removing businesses reviewed by less than 50 users leaves us with 90.23% of the original amount of reviews.\n"
     ]
    }
   ],
   "source": [
    "business_thresholds = [5, 10, 20, 30, 40, 50]\n",
    "\n",
    "for thresh in business_thresholds:\n",
    "    groups = pipe.bus_review_df.groupby('business_id')\n",
    "    business_selection = groups.user_id.nunique()>=thresh\n",
    "    business_selection = business_selection[business_selection]\n",
    "    trimmed_df = pipe.bus_review_df[pipe.bus_review_df.business_id.isin(business_selection.index)]\n",
    "\n",
    "    full = len(pipe.bus_review_df)\n",
    "    trimmed = len(trimmed_df)\n",
    "    print('Removing businesses reviewed by less than {} users leaves us with {:.2f}% of the original amount of reviews.'.format(thresh, 100*(trimmed)/full))"
   ]
  },
  {
   "cell_type": "markdown",
   "metadata": {},
   "source": [
    "### Based on these results, we are selecting based on the following:\n",
    "* Only including reviews for businesses that have been reviewed by at least 50 users\n",
    "* Only including reviews for users that have reviewed at least 4 restaurants\n",
    "\n",
    "We can ue the built-in methods to accomplish this! But note that these operations are performed in series, and each one will affect ther other. That is, if we first filter out users with less than 4 reviews and then filter out restaurants with less than 50 reviews, we end up eliminating some restaurants that were counting as the 4th review for some of those users. \n",
    "\n",
    "As a result, our final dataframe would include only 3 reviews (or even less) for certain users. Given the low values for this threshold, this will quickly hurt our density (dropping 1 review from a user is a 25% drop for that user). As such, it's beneficial to perform the filtering on businesses first, as we have some room to spare with them (if we end up with businesses with only 45 reviews instead of 50, it's not as big of a deal)."
   ]
  },
  {
   "cell_type": "code",
   "execution_count": 148,
   "metadata": {},
   "outputs": [],
   "source": [
    "pipe.filter_low_density_items(threshold=50)\n",
    "pipe.bus_review_df.groupby('business_id').count().user_id.min()"
   ]
  },
  {
   "cell_type": "code",
   "execution_count": null,
   "metadata": {},
   "outputs": [],
   "source": [
    "pipe.filter_low_density_users(threshold=4)\n",
    "pipe.bus_review_df.groupby('user_id').count().review_id.min()"
   ]
  },
  {
   "cell_type": "markdown",
   "metadata": {},
   "source": [
    "And now let's check the minimum number of users that have reviewed a retaurant in our remaining dataset to be sure that it is reasonably close to 50:"
   ]
  },
  {
   "cell_type": "code",
   "execution_count": 151,
   "metadata": {},
   "outputs": [
    {
     "data": {
      "text/plain": [
       "10"
      ]
     },
     "execution_count": 151,
     "metadata": {},
     "output_type": "execute_result"
    }
   ],
   "source": [
    "pipe.bus_review_df.groupby('business_id').count().user_id.min()"
   ]
  },
  {
   "cell_type": "code",
   "execution_count": 150,
   "metadata": {},
   "outputs": [
    {
     "data": {
      "text/plain": [
       "4"
      ]
     },
     "execution_count": 150,
     "metadata": {},
     "output_type": "execute_result"
    }
   ],
   "source": [
    "pipe.bus_review_df.groupby('business_id').count().user_id.min()"
   ]
  },
  {
   "cell_type": "code",
   "execution_count": 152,
   "metadata": {},
   "outputs": [
    {
     "name": "stdout",
     "output_type": "stream",
     "text": [
      "The density of our data is 0.00224\n"
     ]
    }
   ],
   "source": [
    "density = pipe.calculate_density()\n",
    "print('The density of our data is {:.5f}'.format(density))"
   ]
  },
  {
   "cell_type": "code",
   "execution_count": null,
   "metadata": {},
   "outputs": [],
   "source": []
  },
  {
   "cell_type": "code",
   "execution_count": null,
   "metadata": {},
   "outputs": [],
   "source": []
  },
  {
   "cell_type": "code",
   "execution_count": null,
   "metadata": {},
   "outputs": [],
   "source": [
    "# Save to json\n",
    "pipe.persist_subject_data('../data/test_df')"
   ]
  }
 ],
 "metadata": {
  "kernelspec": {
   "display_name": "Python 3",
   "language": "python",
   "name": "python3"
  },
  "language_info": {
   "codemirror_mode": {
    "name": "ipython",
    "version": 3
   },
   "file_extension": ".py",
   "mimetype": "text/x-python",
   "name": "python",
   "nbconvert_exporter": "python",
   "pygments_lexer": "ipython3",
   "version": "3.7.3"
  }
 },
 "nbformat": 4,
 "nbformat_minor": 2
}
