{
 "cells": [
  {
   "cell_type": "markdown",
   "metadata": {},
   "source": [
    "# Your Community Eatery\n",
    "\n",
    "## Welcome to your local (if you're in Phoenix) restaurant recommender! \n",
    "\n",
    "We are going to take a walk through the process of creating a recommender based on collaborative filtering of Yelp review data. Follow along here for the full story..."
   ]
  },
  {
   "cell_type": "code",
   "execution_count": 161,
   "metadata": {},
   "outputs": [
    {
     "name": "stdout",
     "output_type": "stream",
     "text": [
      "The autoreload extension is already loaded. To reload it, use:\n",
      "  %reload_ext autoreload\n"
     ]
    }
   ],
   "source": [
    "# Project specific modules\n",
    "from src.pipeline import YourCommunityEatery\n",
    "from src.functions import build_item_map\n",
    "\n",
    "# Avoid restarting Kernal each time we update modules\n",
    "%load_ext autoreload\n",
    "%autoreload 2\n",
    "\n",
    "# The basics\n",
    "import pandas as pd\n",
    "import numpy as np\n",
    "import matplotlib.pyplot as plt\n",
    "\n",
    "# Spark library and functions\n",
    "import pyspark as ps\n",
    "import pyspark.sql.types as types\n",
    "from pyspark.sql.functions import col, countDistinct\n",
    "from pyspark.sql.functions import to_timestamp\n",
    "\n",
    "# Sklearn Modeling\n",
    "# from sklearn.model_selection import train_test_split\n",
    "\n",
    "\n",
    "# Surprise modeling\n",
    "from surprise import SVD\n",
    "import surprise\n",
    "from surprise import Dataset, Reader\n",
    "from surprise.model_selection import cross_validate, train_test_split\n",
    "\n",
    "# Persistance\n",
    "import pickle\n",
    "\n",
    "# Housekeeping\n",
    "from io import StringIO\n",
    "from datetime import datetime"
   ]
  },
  {
   "cell_type": "markdown",
   "metadata": {},
   "source": [
    "# Initial EDA\n",
    "\n",
    "This dataset is actually too big to simply load into a Pandas dataframe (at least on my machine - 8 GB memory). Although I know people with 16 GB machines have loaded it successfully, so far I get memory errors when trying to load it onto a 16 GB AWS EC2 instance (and I'm still searching for an answer/solution on that). Regardless, we can do some initial EDA to just see what we have by using Spark!"
   ]
  },
  {
   "cell_type": "code",
   "execution_count": 35,
   "metadata": {},
   "outputs": [],
   "source": [
    "spark = (ps.sql.SparkSession\n",
    "         .builder\n",
    "         .master('local[4]')\n",
    "         .appName('lecture')\n",
    "         .getOrCreate()\n",
    "        )\n",
    "\n",
    "review_df = spark.read.json(\"data/review.json\")\n",
    "# checkin_df = spark.read.json(\"data/checkin.json\")\n",
    "# tip_df = spark.read.json(\"data/tip.json\")\n",
    "# user_df = spark.read.json(\"data/user.json\")\n",
    "business_df = spark.read.json(\"data/business.json\")"
   ]
  },
  {
   "cell_type": "markdown",
   "metadata": {},
   "source": [
    "We plan to work with the review and business datasets. So let's see how many distinct values for all fields we have on those."
   ]
  },
  {
   "cell_type": "code",
   "execution_count": 61,
   "metadata": {},
   "outputs": [
    {
     "name": "stdout",
     "output_type": "stream",
     "text": [
      "Number of states covered in the data: 36\n",
      "Number of cities covered in the data: 1204\n"
     ]
    },
    {
     "data": {
      "image/png": "[encoded data removed]",
      "text/plain": [
       "<Figure size 720x432 with 1 Axes>"
      ]
     },
     "metadata": {
      "needs_background": "light"
     },
     "output_type": "display_data"
    }
   ],
   "source": [
    "this = business_df.agg(*(countDistinct(col(c)).alias(c) for c in business_df.columns))\n",
    "this = this.take(1)[0].asDict()\n",
    "\n",
    "print('Number of states covered in the data: {}'.format(this['state']))\n",
    "print('Number of cities covered in the data: {}'.format(this['city']))\n",
    "\n",
    "drop_list = ['city', 'state', 'address', 'hours', 'is_open', \n",
    "             'latitude', 'longitude', 'name', 'postal_code', \n",
    "             'review_count', 'stars']\n",
    "for _ in drop_list:\n",
    "    this.pop(_)\n",
    "\n",
    "fig, ax = plt.subplots(figsize = (10, 6))\n",
    "ax.bar(range(len(this)), list(this.values()), align='center')\n",
    "ax.set_title('Count of Unique Values from Business Dataset')\n",
    "ax.set_ylabel('Count')\n",
    "_ = plt.xticks(range(len(this)), list(this.keys()))"
   ]
  },
  {
   "cell_type": "code",
   "execution_count": 68,
   "metadata": {},
   "outputs": [
    {
     "name": "stdout",
     "output_type": "stream",
     "text": [
      "Number of businesses covered in the review data: 192606\n"
     ]
    },
    {
     "data": {
      "image/png": "[encoded data removed]",
      "text/plain": [
       "<Figure size 432x288 with 1 Axes>"
      ]
     },
     "metadata": {
      "needs_background": "light"
     },
     "output_type": "display_data"
    }
   ],
   "source": [
    "this = review_df.agg(*(countDistinct(col(c)).alias(c) for c in review_df.columns))\n",
    "this = this.take(1)[0].asDict()\n",
    "\n",
    "print('Number of businesses covered in the review data: {}'.format(this['business_id']))\n",
    "\n",
    "drop_list = ['cool', 'funny', 'useful', 'text', 'stars', 'date', 'business_id']\n",
    "for _ in drop_list:\n",
    "    this.pop(_)\n",
    "\n",
    "plt.bar(range(len(this)), list(this.values()), align='center')\n",
    "_ = plt.xticks(range(len(this)), list(this.keys()))"
   ]
  },
  {
   "cell_type": "markdown",
   "metadata": {},
   "source": [
    "## We would like to develop a restaurant recommender for one metropolitan area\n",
    "\n",
    "Given that we are developing a similarity/collaborative-filtering based recommender, we are going to limit this project to one geographic area since there wouldn't be much if any signal on one geo for another. Also, given the demands of this dataset, it will be much more manageable to filter it down to one city so we can simply work with Pandas. But which region to pick?\n",
    "\n",
    "Let's look at some density metrics to decide..."
   ]
  },
  {
   "cell_type": "code",
   "execution_count": 63,
   "metadata": {},
   "outputs": [],
   "source": [
    "def calculate_region_density(state, businesses, bus_reviews):\n",
    "    num_businesses = businesses.filter((businesses.categories.like('%Restaurants%')) &\n",
    "                                (business_df.state == state)).count()\n",
    "    num_reviews = bus_reviews.filter((bus_reviews.categories.like('%Restaurants%')) &\n",
    "                                (bus_reviews.state == state)).count()\n",
    "    return num_reviews/num_businesses\n",
    "\n",
    "def compare_region_densities(regions, businesses, bus_reviews):\n",
    "    max_density = 0\n",
    "    density_dict = {}\n",
    "    for region in regions:\n",
    "        density = calculate_region_density(region, businesses, bus_reviews)\n",
    "        density_dict[region] = density\n",
    "        if density > max_density:\n",
    "            max_density = density\n",
    "            max_region = region\n",
    "\n",
    "    print('Best Region: {}\\nBest Density: {}'.format(max_region, max_density))\n",
    "    return density_dict"
   ]
  },
  {
   "cell_type": "code",
   "execution_count": 66,
   "metadata": {},
   "outputs": [],
   "source": [
    "# Join business and review df's so that we can really look at this\n",
    "bus_review_df = review_df.join(business_df, \n",
    "                               review_df.business_id == business_df.business_id,\n",
    "                                how='left')"
   ]
  },
  {
   "cell_type": "code",
   "execution_count": 67,
   "metadata": {},
   "outputs": [
    {
     "name": "stdout",
     "output_type": "stream",
     "text": [
      "Best Region: NV\n",
      "Best Density: 178.80932802261339\n"
     ]
    },
    {
     "data": {
      "text/plain": [
       "Text(0.5, 1.0, 'Review Density by Region')"
      ]
     },
     "execution_count": 67,
     "metadata": {},
     "output_type": "execute_result"
    },
    {
     "data": {
      "image/png": "[encoded data removed]",
      "text/plain": [
       "<Figure size 720x432 with 1 Axes>"
      ]
     },
     "metadata": {
      "needs_background": "light"
     },
     "output_type": "display_data"
    }
   ],
   "source": [
    "regions = ['AZ', 'ON', 'NC', 'AB', 'NV', 'OH', 'PA', 'IL', 'SC', 'QC']\n",
    "\n",
    "density_dict = compare_region_densities(regions, business_df, bus_review_df)\n",
    "\n",
    "pd.DataFrame.from_dict(density_dict, orient = 'index').sort_values(0, ascending = False).plot.bar(legend = False, figsize = (10, 6))\n",
    "plt.ylabel('Review Density')\n",
    "plt.xlabel('Region')\n",
    "plt.title('Review Density by Region')"
   ]
  },
  {
   "cell_type": "markdown",
   "metadata": {},
   "source": [
    "## The winner: Arizona\n",
    "\n",
    "We are proceeding with Arizona based businesses for this case study. Although Nevada has a greater density of reviews/restaurant, this data scientist considers it to be an anomaly in the restaurant space as well as user space given the impact tourism would have on restaurant visits/reviews. Arizona has the next highest density, would be expected to include a healthy mix of resident and non-resident reviews, most reviews are concentrated around Phoenix, and we would expect Phoenix to have a diverse group of users. Note that it was specified by Yelp that their dataset focuses on 8 metropolitan areas, and we have validated (though not shown here) that the Arizona locations are in/around Phoenix.\n",
    "\n",
    "Now that we have a region in mind, we will be able to fit the subject piece of the dataset into memory in Pandas.\n",
    "\n",
    "But don't forget to close Spark!"
   ]
  },
  {
   "cell_type": "code",
   "execution_count": 70,
   "metadata": {},
   "outputs": [],
   "source": [
    "spark.stop()"
   ]
  },
  {
   "cell_type": "markdown",
   "metadata": {},
   "source": [
    "# Loading Data into Pandas - Pipeline Demo\n",
    "\n",
    "Now that we have a few criteria on which to select a limited volume of the data (Restaurants and Arizona), our subject dataset will be much more manageable and will easily fit in memory. We've developed a pipeline just for handling this!"
   ]
  },
  {
   "cell_type": "code",
   "execution_count": 44,
   "metadata": {},
   "outputs": [],
   "source": [
    "# Instantiate object specifying that we don't have the memory to handle the full dataset\n",
    "pipe = YourCommunityEatery(save_memory=True)"
   ]
  },
  {
   "cell_type": "code",
   "execution_count": 158,
   "metadata": {},
   "outputs": [],
   "source": [
    "# Read data in from files \n",
    "# There is quite a bit of data to load and it has to be filtered \n",
    "# based on some conditions to fit in memory, so this takes a while\n",
    "pipe.read_data(data_dir_path='data/')"
   ]
  },
  {
   "cell_type": "code",
   "execution_count": 165,
   "metadata": {},
   "outputs": [],
   "source": [
    "# Alternatively, we pickled the results from above so that\n",
    "# you can just load it from a file!\n",
    "# This isn't super fast, but much beter than the above.\n",
    "pipe.bus_review_df = pd.read_pickle('data/bus_review_df.pkl')"
   ]
  },
  {
   "cell_type": "markdown",
   "metadata": {},
   "source": [
    "# Now that we have our data, let's delve into some additional EDA\n",
    "#### At this point our data is saved in 'bus_review_df' which is an attribute of our pipe object\n",
    "\n",
    "What time frame do these reviews span?"
   ]
  },
  {
   "cell_type": "code",
   "execution_count": 161,
   "metadata": {},
   "outputs": [
    {
     "name": "stdout",
     "output_type": "stream",
     "text": [
      "These ratings range from 2005 to 2018.\n"
     ]
    }
   ],
   "source": [
    "begin = pipe.bus_review_df.date.min()\n",
    "end = pipe.bus_review_df.date.max()\n",
    "print('These ratings range from {} to {}.'.format(begin.year, end.year))"
   ]
  },
  {
   "cell_type": "markdown",
   "metadata": {},
   "source": [
    "Long span of data, nice! And what kind of distribution of reviews over time might we see for that duration?"
   ]
  },
  {
   "cell_type": "code",
   "execution_count": 162,
   "metadata": {},
   "outputs": [
    {
     "data": {
      "image/png": "[encoded data removed]",
      "text/plain": [
       "<Figure size 720x432 with 1 Axes>"
      ]
     },
     "metadata": {
      "needs_background": "light"
     },
     "output_type": "display_data"
    }
   ],
   "source": [
    "ax = pipe.bus_review_df.date.hist(bins = 100, figsize = (10, 6))\n",
    "ax.grid(False)\n",
    "ax.set_title('Distribution of Reviews over Time')\n",
    "ax.set_xlabel('Year')\n",
    "_ = ax.set_ylabel('Number of Reviews')"
   ]
  },
  {
   "cell_type": "markdown",
   "metadata": {},
   "source": [
    "Look at that growth! Good for you, Yelp. Interesting trends after 2015, seasonality for reviews? Interesting...but out of our scope.\n",
    "\n",
    "What is the distribution of number of users to have reviewed each restaurant? \n"
   ]
  },
  {
   "cell_type": "code",
   "execution_count": 163,
   "metadata": {},
   "outputs": [
    {
     "data": {
      "image/png": "[encoded data removed]",
      "text/plain": [
       "<Figure size 720x432 with 1 Axes>"
      ]
     },
     "metadata": {
      "needs_background": "light"
     },
     "output_type": "display_data"
    }
   ],
   "source": [
    "groups = pipe.bus_review_df.groupby('business_id')\n",
    "ax = groups.user_id.nunique().hist(bins = 30, figsize = (10, 6))\n",
    "ax.grid(False)\n",
    "ax.set_yscale('log')\n",
    "ax.set_xlabel('Number of Users who Reviewed (in this dataset)')\n",
    "ax.set_title('Distribution Users Per Restaurant')\n",
    "_ = ax.set_ylabel('Number of Restaurants Reviewed by Each Userr(Log-scaled)')"
   ]
  },
  {
   "cell_type": "markdown",
   "metadata": {},
   "source": [
    "Keeping in mind this is log-scaled on the y axis, this data appears to be exponentially distributed."
   ]
  },
  {
   "cell_type": "markdown",
   "metadata": {},
   "source": [
    "\n",
    "What is the distribution of reviews per user?\n"
   ]
  },
  {
   "cell_type": "code",
   "execution_count": 81,
   "metadata": {},
   "outputs": [
    {
     "data": {
      "image/png": "[encoded data removed]",
      "text/plain": [
       "<Figure size 720x432 with 1 Axes>"
      ]
     },
     "metadata": {
      "needs_background": "light"
     },
     "output_type": "display_data"
    }
   ],
   "source": [
    "groups = pipe.bus_review_df.groupby('user_id')\n",
    "ax = groups.review_id.nunique().hist(bins = 30, figsize = (10, 6))\n",
    "ax.grid(False)\n",
    "ax.set_yscale('log')\n",
    "ax.set_xlabel('Number of Users to Review Restaurant')\n",
    "ax.set_title('Distribution Reviews Per User')\n",
    "_ = ax.set_ylabel('Number of Users (Log-scaled)')"
   ]
  },
  {
   "cell_type": "markdown",
   "metadata": {},
   "source": [
    "From the graph above, we are able to see that this is exponentially distributed. There are several users who have made significant numbers of reviews. Normally this might be cause for concern that their reviews are not legitimate; however, this dataset consists only of reviews that Yelp has validated and \"recommended\", so they are likely just very passionate about food. But skeptical scientists that we are, we'll not just take their word for it...ok, I admit that I'm mostly just curious to see what kind of stuff a person who writes over 1,200 reviews has to say.\n",
    "\n",
    "Let's verify the text of the highest volume user to be sure they are not a bot. As shown below, only one user exceeded 1000 reviews and their id is 'ELcQDlf69kb-ihJfxZyL0A'. Feel free to adjust the index on the .iloc to see a few different reivews (just put in a number between 0 and 1277)."
   ]
  },
  {
   "cell_type": "code",
   "execution_count": 211,
   "metadata": {},
   "outputs": [
    {
     "data": {
      "text/plain": [
       "'If you dine-in, you will likely be annoyed by some screaming kid and their mommy, but if you can ignore that noise for about ten minutes, you will be rewarded with a delicious waffle experience. I simply had the churro waffle and got my free YELP topping of bananas. The cinnamon sugar waffle was loaded with cinnamon cream and fruit. It was a chewy waffle and stayed hot the entire visit. You will need both knife and fork, but every bite was very tasty and unique as well. All totaled, it was just over 5 bucks, so a good value and fairly filling breakfast.'"
      ]
     },
     "execution_count": 211,
     "metadata": {},
     "output_type": "execute_result"
    }
   ],
   "source": [
    "pipe.bus_review_df[pipe.bus_review_df.user_id == 'ELcQDlf69kb-ihJfxZyL0A'].text.iloc[356]"
   ]
  },
  {
   "cell_type": "markdown",
   "metadata": {},
   "source": [
    "...ok, review for index 356 is pretty shameful. But clearly, this is not a bot...just definitely someone who has a lot of time on their hands. Outlier though they may be, their reviews appear to be genuine, so we will graciously accept their contributions to our density."
   ]
  },
  {
   "cell_type": "markdown",
   "metadata": {},
   "source": [
    "## In  planning for a collaborative-filtering based recommender, we need to take a look at our density of reviews"
   ]
  },
  {
   "cell_type": "code",
   "execution_count": 166,
   "metadata": {},
   "outputs": [
    {
     "name": "stdout",
     "output_type": "stream",
     "text": [
      "The density of our data is 0.000320\n"
     ]
    }
   ],
   "source": [
    "density_pre = pipe.calculate_density()\n",
    "print('The density of our data is {:.6f}'.format(density_pre))"
   ]
  },
  {
   "cell_type": "markdown",
   "metadata": {},
   "source": [
    "Ouch, that is extremely low. Let's take a look at how we might improve that."
   ]
  },
  {
   "cell_type": "markdown",
   "metadata": {},
   "source": [
    "## For model training, let's consider trimming down our dataset to increase density\n",
    "\n",
    "Normally, taking samples of your data to increase density is a non-starter, but we may have some clever ways of taking samples based on what we've learned so far. Let's start with getting later time periods, since we have far more reviews in the later segment of the data. We will use the \"filter_by_review_date\" method to modify our dataframe in place to only include reviews during-or-after a specified year."
   ]
  },
  {
   "cell_type": "code",
   "execution_count": 167,
   "metadata": {},
   "outputs": [],
   "source": [
    "pipe.filter_by_review_date(threshold = 2013)"
   ]
  },
  {
   "cell_type": "code",
   "execution_count": 168,
   "metadata": {},
   "outputs": [
    {
     "name": "stdout",
     "output_type": "stream",
     "text": [
      "The density of our data is 0.000320\n"
     ]
    }
   ],
   "source": [
    "density_time = pipe.calculate_density()\n",
    "print('The density of our data is {:.6f}'.format(density_time))"
   ]
  },
  {
   "cell_type": "markdown",
   "metadata": {},
   "source": [
    "As it turns out, the density is not significantly affected by taking slices for more recent data. We did this for all year thresholds from 2005 through 2017 and found that we were only able to achieve a change of about 10% from the above figure, and it was for the worse. It is not being shown here because the dataframe gets modified in place, and we'd like to spare you from having to reload it to get back to normal. Let's proceed with a threshold of 2013 for the sake of having some value for recency without sacrificing too much data."
   ]
  },
  {
   "cell_type": "markdown",
   "metadata": {},
   "source": [
    "It is expected that the restaurants and users with low counts of reviews are making our user-restaurant matrix too sparse. Let's cut off those density killers and re-evaluate some of these metrics."
   ]
  },
  {
   "cell_type": "code",
   "execution_count": 66,
   "metadata": {},
   "outputs": [
    {
     "name": "stdout",
     "output_type": "stream",
     "text": [
      "Removing users with less than 2 reviews leaves us with 85.38% of the original amount of reviews.\n",
      "Removing users with less than 3 reviews leaves us with 76.13% of the original amount of reviews.\n",
      "Removing users with less than 4 reviews leaves us with 69.32% of the original amount of reviews.\n",
      "Removing users with less than 5 reviews leaves us with 63.92% of the original amount of reviews.\n",
      "Removing users with less than 6 reviews leaves us with 59.53% of the original amount of reviews.\n",
      "Removing users with less than 7 reviews leaves us with 55.79% of the original amount of reviews.\n"
     ]
    }
   ],
   "source": [
    "thresholds = [2, 3, 4, 5, 6, 7]\n",
    "amount_of_data = []\n",
    "for thresh in thresholds:\n",
    "    groups = pipe.bus_review_df.groupby('user_id')\n",
    "    user_selection = groups.review_id.nunique()>=thresh\n",
    "    user_selection = user_selection[user_selection]\n",
    "    trimmed_df = pipe.bus_review_df[pipe.bus_review_df.user_id.isin(user_selection.index)]\n",
    "\n",
    "    full = len(pipe.bus_review_df)\n",
    "    trimmed = len(trimmed_df)\n",
    "    amount_of_data.append(trimmed/full)\n",
    "    print('Removing users with less than {} reviews leaves us with {:.2f}% of the original amount of reviews.'.format(thresh, 100*(trimmed)/full))"
   ]
  },
  {
   "cell_type": "code",
   "execution_count": 77,
   "metadata": {},
   "outputs": [
    {
     "data": {
      "image/png": "[encoded data removed]",
      "text/plain": [
       "<Figure size 720x432 with 1 Axes>"
      ]
     },
     "metadata": {
      "needs_background": "light"
     },
     "output_type": "display_data"
    }
   ],
   "source": [
    "fig, ax = plt.subplots(figsize = (10, 6))\n",
    "plt.bar(thresholds, amount_of_data)\n",
    "ax.set_title('Analyzing Impact of Threshold on Data Volume')\n",
    "ax.set_ylabel('Percent of Original Data')\n",
    "_ = ax.set_xlabel('Minimum Threshold for Reviews per User')"
   ]
  },
  {
   "cell_type": "code",
   "execution_count": 79,
   "metadata": {},
   "outputs": [
    {
     "name": "stdout",
     "output_type": "stream",
     "text": [
      "Removing businesses reviewed by less than 5 users leaves us with 100.00% of the original amount of reviews.\n",
      "Removing businesses reviewed by less than 10 users leaves us with 100.00% of the original amount of reviews.\n",
      "Removing businesses reviewed by less than 20 users leaves us with 99.99% of the original amount of reviews.\n",
      "Removing businesses reviewed by less than 30 users leaves us with 99.59% of the original amount of reviews.\n",
      "Removing businesses reviewed by less than 40 users leaves us with 97.16% of the original amount of reviews.\n",
      "Removing businesses reviewed by less than 50 users leaves us with 93.65% of the original amount of reviews.\n"
     ]
    }
   ],
   "source": [
    "thresholds = [5, 10, 20, 30, 40, 50]\n",
    "amount_of_data = []\n",
    "for thresh in thresholds:\n",
    "    groups = pipe.bus_review_df.groupby('business_id')\n",
    "    business_selection = groups.user_id.nunique()>=thresh\n",
    "    business_selection = business_selection[business_selection]\n",
    "    trimmed_df = pipe.bus_review_df[pipe.bus_review_df.business_id.isin(business_selection.index)]\n",
    "\n",
    "    full = len(pipe.bus_review_df)\n",
    "    trimmed = len(trimmed_df)\n",
    "    amount_of_data.append(trimmed/full)\n",
    "    print('Removing businesses reviewed by less than {} users leaves us with {:.2f}% of the original amount of reviews.'.format(thresh, 100*(trimmed)/full))"
   ]
  },
  {
   "cell_type": "code",
   "execution_count": 80,
   "metadata": {},
   "outputs": [
    {
     "data": {
      "image/png": "[encoded data removed]",
      "text/plain": [
       "<Figure size 720x432 with 1 Axes>"
      ]
     },
     "metadata": {
      "needs_background": "light"
     },
     "output_type": "display_data"
    }
   ],
   "source": [
    "fig, ax = plt.subplots(figsize = (10, 6))\n",
    "plt.bar([1, 2, 3, 4, 5, 6], amount_of_data, tick_label = thresholds)\n",
    "ax.set_title('Analyzing Impact of Threshold on Data Volume')\n",
    "ax.set_ylabel('Percent of Original Data')\n",
    "_ = ax.set_xlabel('Minimum Threshold for Reviews per Business')"
   ]
  },
  {
   "cell_type": "markdown",
   "metadata": {},
   "source": [
    "### Based on these results, we are selecting based on the following:\n",
    "* Clip users with less than 4 reviews\n",
    "* Clip businesses with less than 50 reviews\n",
    "* Clip users with less than 4 reviews again.\n",
    "\n",
    "We can ue the built-in methods to accomplish this! But note that these operations are performed in series, and each one will affect ther other. That is, if we first filter out users with less than 4 reviews and then filter out restaurants with less than 50 reviews, we end up eliminating some restaurants that were counting as the 4th review for some of those users. \n",
    "\n",
    "Given the low values for user thresholds, we would prefer to ensure that we apply that threshold last (this helps improve end density). After some trial and error, arrived at the process spelled out in the bullets above as giving us good density without clipping too much data. "
   ]
  },
  {
   "cell_type": "code",
   "execution_count": 141,
   "metadata": {},
   "outputs": [],
   "source": [
    "pipe.filter_low_density_users(threshold=4)\n",
    "density_user1 = pipe.calculate_density()\n",
    "pipe.filter_low_density_items(threshold=50)\n",
    "density_item = pipe.calculate_density()\n",
    "pipe.filter_low_density_users(threshold=4)\n",
    "density_final = pipe.calculate_density()"
   ]
  },
  {
   "cell_type": "markdown",
   "metadata": {},
   "source": [
    "And now let's check the resulting distribution of reviews/business to make sure there won't be too many density-killing businesses left in the data."
   ]
  },
  {
   "cell_type": "code",
   "execution_count": 123,
   "metadata": {},
   "outputs": [
    {
     "data": {
      "image/png": "[encoded data removed]",
      "text/plain": [
       "<Figure size 720x432 with 1 Axes>"
      ]
     },
     "metadata": {
      "needs_background": "light"
     },
     "output_type": "display_data"
    }
   ],
   "source": [
    "mask = pipe.bus_review_df.groupby('business_id').count().user_id < 100\n",
    "_ = pipe.bus_review_df.groupby('business_id').count().user_id[mask].hist(bins = 30, figsize=(10, 6))"
   ]
  },
  {
   "cell_type": "markdown",
   "metadata": {},
   "source": [
    "And let's plot the progression of density..."
   ]
  },
  {
   "cell_type": "code",
   "execution_count": 154,
   "metadata": {},
   "outputs": [
    {
     "name": "stdout",
     "output_type": "stream",
     "text": [
      "Final Density is 0.00295\n"
     ]
    },
    {
     "data": {
      "image/png": "[encoded data removed]",
      "text/plain": [
       "<Figure size 720x432 with 1 Axes>"
      ]
     },
     "metadata": {
      "needs_background": "light"
     },
     "output_type": "display_data"
    }
   ],
   "source": [
    "densities = [density_pre, density_time, density_user1, density_item, density_final]\n",
    "fig, ax = plt.subplots(figsize = (10, 6))\n",
    "ax.bar(list(range(len(densities))), densities)\n",
    "ax.set_ylabel('Density')\n",
    "ax.set_title('Density Progression from Clipping\\nReviews / (Users*Restaurants)')\n",
    "ax.set_xlabel('Stage of Clipping')\n",
    "print('Final Density is {:.5f}'.format(density_final))"
   ]
  },
  {
   "cell_type": "code",
   "execution_count": 155,
   "metadata": {},
   "outputs": [],
   "source": [
    "pipe.factorize()"
   ]
  },
  {
   "cell_type": "code",
   "execution_count": 156,
   "metadata": {},
   "outputs": [],
   "source": [
    "# Save to json\n",
    "pipe.persist_subject_data('data/test_df')"
   ]
  },
  {
   "cell_type": "code",
   "execution_count": null,
   "metadata": {},
   "outputs": [],
   "source": []
  },
  {
   "cell_type": "markdown",
   "metadata": {},
   "source": [
    "# Time to Model"
   ]
  },
  {
   "cell_type": "code",
   "execution_count": null,
   "metadata": {},
   "outputs": [],
   "source": []
  },
  {
   "cell_type": "code",
   "execution_count": 164,
   "metadata": {},
   "outputs": [
    {
     "name": "stdout",
     "output_type": "stream",
     "text": [
      "<class 'pandas.core.frame.DataFrame'>\n",
      "Int64Index: 503934 entries, 0 to 9999\n",
      "Data columns (total 3 columns):\n",
      "uid             503934 non-null int64\n",
      "iid             503934 non-null int64\n",
      "review_stars    503934 non-null int64\n",
      "dtypes: int64(3)\n",
      "memory usage: 25.4 MB\n"
     ]
    }
   ],
   "source": [
    "df = pipe.bus_review_df[['uid', 'iid', 'review_stars']]"
   ]
  },
  {
   "cell_type": "code",
   "execution_count": 14,
   "metadata": {},
   "outputs": [],
   "source": [
    "# And wipe the pipe to save memory\n",
    "pipe.bus_review_df = None\n",
    "pipe.review_df = None\n",
    "pipe.business_df = None"
   ]
  },
  {
   "cell_type": "code",
   "execution_count": 162,
   "metadata": {},
   "outputs": [
    {
     "ename": "NameError",
     "evalue": "name 'df' is not defined",
     "output_type": "error",
     "traceback": [
      "\u001b[0;31m---------------------------------------------------------------------------\u001b[0m",
      "\u001b[0;31mNameError\u001b[0m                                 Traceback (most recent call last)",
      "\u001b[0;32m<ipython-input-162-455b20d27cde>\u001b[0m in \u001b[0;36m<module>\u001b[0;34m\u001b[0m\n\u001b[1;32m      1\u001b[0m \u001b[0;31m# A reader is needed but only the rating_scale param is required.\u001b[0m\u001b[0;34m\u001b[0m\u001b[0;34m\u001b[0m\u001b[0;34m\u001b[0m\u001b[0m\n\u001b[1;32m      2\u001b[0m \u001b[0mreader\u001b[0m \u001b[0;34m=\u001b[0m \u001b[0mReader\u001b[0m\u001b[0;34m(\u001b[0m\u001b[0mrating_scale\u001b[0m\u001b[0;34m=\u001b[0m\u001b[0;34m(\u001b[0m\u001b[0;36m1\u001b[0m\u001b[0;34m,\u001b[0m \u001b[0;36m5\u001b[0m\u001b[0;34m)\u001b[0m\u001b[0;34m)\u001b[0m\u001b[0;34m\u001b[0m\u001b[0;34m\u001b[0m\u001b[0m\n\u001b[0;32m----> 3\u001b[0;31m \u001b[0mdata\u001b[0m \u001b[0;34m=\u001b[0m \u001b[0mDataset\u001b[0m\u001b[0;34m.\u001b[0m\u001b[0mload_from_df\u001b[0m\u001b[0;34m(\u001b[0m\u001b[0mdf\u001b[0m\u001b[0;34m,\u001b[0m \u001b[0mreader\u001b[0m\u001b[0;34m)\u001b[0m\u001b[0;34m\u001b[0m\u001b[0;34m\u001b[0m\u001b[0m\n\u001b[0m\u001b[1;32m      4\u001b[0m \u001b[0mtrainset\u001b[0m\u001b[0;34m,\u001b[0m \u001b[0mtestset\u001b[0m \u001b[0;34m=\u001b[0m \u001b[0mtrain_test_split\u001b[0m\u001b[0;34m(\u001b[0m\u001b[0mdata\u001b[0m\u001b[0;34m,\u001b[0m \u001b[0mtest_size\u001b[0m \u001b[0;34m=\u001b[0m \u001b[0;36m.05\u001b[0m\u001b[0;34m,\u001b[0m \u001b[0mrandom_state\u001b[0m \u001b[0;34m=\u001b[0m \u001b[0;36m2\u001b[0m\u001b[0;34m)\u001b[0m\u001b[0;34m\u001b[0m\u001b[0;34m\u001b[0m\u001b[0m\n",
      "\u001b[0;31mNameError\u001b[0m: name 'df' is not defined"
     ]
    }
   ],
   "source": [
    "# A reader is needed but only the rating_scale param is required.\n",
    "reader = Reader(rating_scale=(1, 5))\n",
    "data = Dataset.load_from_df(df, reader)\n",
    "trainset, testset = train_test_split(data, test_size = .05, random_state = 2)"
   ]
  },
  {
   "cell_type": "code",
   "execution_count": null,
   "metadata": {},
   "outputs": [
    {
     "name": "stdout",
     "output_type": "stream",
     "text": [
      "Estimating biases using als...\n"
     ]
    }
   ],
   "source": [
    "algs = [\n",
    "#                 SVD(), surprise.SlopeOne(), surprise.NMF(),\n",
    "                surprise.NormalPredictor(), \n",
    "#                 surprise.KNNBaseline(),\n",
    "                  # surprise.KNNBasic(), surprise.KNNWithMeans(),\n",
    "                  # surprise.KNNWithZScore(), surprise.BaselineOnly(),\n",
    "#                   surprise.CoClustering()\n",
    "        ]\n",
    "\n",
    "# Iterate over all algorithms\n",
    "for alg in algs:\n",
    "    \n",
    "    # Take a look at cross validation results to compare model types\n",
    "    cross_validate(alg, data, measures=['RMSE'], cv=5, verbose=True)\n",
    "\n",
    "    \n"
   ]
  },
  {
   "cell_type": "markdown",
   "metadata": {},
   "source": [
    "NormalPredictor\n",
    "\n",
    "* Mean RMSE on 5 splits: 1.827"
   ]
  },
  {
   "cell_type": "code",
   "execution_count": 7,
   "metadata": {},
   "outputs": [],
   "source": [
    "naive_score = 1.827"
   ]
  },
  {
   "cell_type": "code",
   "execution_count": 4,
   "metadata": {},
   "outputs": [
    {
     "data": {
      "text/plain": [
       "<surprise.prediction_algorithms.knns.KNNBaseline at 0x11214ba90>"
      ]
     },
     "execution_count": 4,
     "metadata": {},
     "output_type": "execute_result"
    }
   ],
   "source": [
    "KNN_model = pickle.load(open('models/top_grid_KNNBaseline_model.pkl', 'rb'))"
   ]
  },
  {
   "cell_type": "code",
   "execution_count": 160,
   "metadata": {},
   "outputs": [
    {
     "ename": "AttributeError",
     "evalue": "'KNNBaseline' object has no attribute 'trainset'",
     "output_type": "error",
     "traceback": [
      "\u001b[0;31m---------------------------------------------------------------------------\u001b[0m",
      "\u001b[0;31mAttributeError\u001b[0m                            Traceback (most recent call last)",
      "\u001b[0;32m<ipython-input-160-a2630ada8847>\u001b[0m in \u001b[0;36m<module>\u001b[0;34m\u001b[0m\n\u001b[1;32m      1\u001b[0m \u001b[0;31m# Get similarity matrix for top KNN model\u001b[0m\u001b[0;34m\u001b[0m\u001b[0;34m\u001b[0m\u001b[0;34m\u001b[0m\u001b[0m\n\u001b[0;32m----> 2\u001b[0;31m \u001b[0mKNN_model\u001b[0m\u001b[0;34m.\u001b[0m\u001b[0mcompute_similarities\u001b[0m\u001b[0;34m(\u001b[0m\u001b[0;34m)\u001b[0m\u001b[0;34m\u001b[0m\u001b[0;34m\u001b[0m\u001b[0m\n\u001b[0m",
      "\u001b[0;32m~/anaconda3/lib/python3.7/site-packages/surprise/prediction_algorithms/algo_base.py\u001b[0m in \u001b[0;36mcompute_similarities\u001b[0;34m(self)\u001b[0m\n\u001b[1;32m    271\u001b[0m             \u001b[0mn_x\u001b[0m\u001b[0;34m,\u001b[0m \u001b[0myr\u001b[0m \u001b[0;34m=\u001b[0m \u001b[0mself\u001b[0m\u001b[0;34m.\u001b[0m\u001b[0mtrainset\u001b[0m\u001b[0;34m.\u001b[0m\u001b[0mn_users\u001b[0m\u001b[0;34m,\u001b[0m \u001b[0mself\u001b[0m\u001b[0;34m.\u001b[0m\u001b[0mtrainset\u001b[0m\u001b[0;34m.\u001b[0m\u001b[0mir\u001b[0m\u001b[0;34m\u001b[0m\u001b[0;34m\u001b[0m\u001b[0m\n\u001b[1;32m    272\u001b[0m         \u001b[0;32melse\u001b[0m\u001b[0;34m:\u001b[0m\u001b[0;34m\u001b[0m\u001b[0;34m\u001b[0m\u001b[0m\n\u001b[0;32m--> 273\u001b[0;31m             \u001b[0mn_x\u001b[0m\u001b[0;34m,\u001b[0m \u001b[0myr\u001b[0m \u001b[0;34m=\u001b[0m \u001b[0mself\u001b[0m\u001b[0;34m.\u001b[0m\u001b[0mtrainset\u001b[0m\u001b[0;34m.\u001b[0m\u001b[0mn_items\u001b[0m\u001b[0;34m,\u001b[0m \u001b[0mself\u001b[0m\u001b[0;34m.\u001b[0m\u001b[0mtrainset\u001b[0m\u001b[0;34m.\u001b[0m\u001b[0mur\u001b[0m\u001b[0;34m\u001b[0m\u001b[0;34m\u001b[0m\u001b[0m\n\u001b[0m\u001b[1;32m    274\u001b[0m \u001b[0;34m\u001b[0m\u001b[0m\n\u001b[1;32m    275\u001b[0m         \u001b[0mmin_support\u001b[0m \u001b[0;34m=\u001b[0m \u001b[0mself\u001b[0m\u001b[0;34m.\u001b[0m\u001b[0msim_options\u001b[0m\u001b[0;34m.\u001b[0m\u001b[0mget\u001b[0m\u001b[0;34m(\u001b[0m\u001b[0;34m'min_support'\u001b[0m\u001b[0;34m,\u001b[0m \u001b[0;36m1\u001b[0m\u001b[0;34m)\u001b[0m\u001b[0;34m\u001b[0m\u001b[0;34m\u001b[0m\u001b[0m\n",
      "\u001b[0;31mAttributeError\u001b[0m: 'KNNBaseline' object has no attribute 'trainset'"
     ]
    }
   ],
   "source": [
    "# Get similarity matrix for top KNN model\n",
    "KNN_model.compute_similarities()"
   ]
  },
  {
   "cell_type": "code",
   "execution_count": 5,
   "metadata": {},
   "outputs": [
    {
     "data": {
      "text/plain": [
       "{'k': 100,\n",
       " 'min_k': 4,\n",
       " 'bsl_options': {'method': 'als', 'reg': 1},\n",
       " 'sim_options': {'name': 'cosine',\n",
       "  'min_support': 1,\n",
       "  'user_based': False,\n",
       "  'shrinkage': 50},\n",
       " 'random_state': 2}"
      ]
     },
     "execution_count": 5,
     "metadata": {},
     "output_type": "execute_result"
    }
   ],
   "source": [
    "KNN_params = pickle.load(open('model_results/top_grid_KNNBaseline_params.pkl', 'rb'))\n",
    "KNN_params"
   ]
  },
  {
   "cell_type": "code",
   "execution_count": 6,
   "metadata": {},
   "outputs": [
    {
     "data": {
      "text/plain": [
       "1.1728866595837093"
      ]
     },
     "execution_count": 6,
     "metadata": {},
     "output_type": "execute_result"
    }
   ],
   "source": [
    "KNN_score = pickle.load(open('model_results/top_grid_KNNBaseline_score.pkl', 'rb'))\n",
    "KNN_score"
   ]
  },
  {
   "cell_type": "code",
   "execution_count": 40,
   "metadata": {},
   "outputs": [
    {
     "data": {
      "text/plain": [
       "1.1570598159339343"
      ]
     },
     "execution_count": 40,
     "metadata": {},
     "output_type": "execute_result"
    }
   ],
   "source": [
    "SVD_score = pickle.load(open('model_results/top_grid_SVD_score2.pkl', 'rb'))\n",
    "SVD_score"
   ]
  },
  {
   "cell_type": "code",
   "execution_count": null,
   "metadata": {},
   "outputs": [],
   "source": [
    "algs = [KNNBaseline(KNN_params)]\n",
    "\n",
    "# Iterate over all algorithms\n",
    "for alg in algs:\n",
    "    \n",
    "    # Take a look at cross validation results to compare model types\n",
    "    cross_validate(alg, data, measures=['RMSE'], cv=5, verbose=True)"
   ]
  },
  {
   "cell_type": "code",
   "execution_count": 41,
   "metadata": {},
   "outputs": [
    {
     "data": {
      "text/plain": [
       "Text(0.5, 1.0, 'Model Performance Evaluation')"
      ]
     },
     "execution_count": 41,
     "metadata": {},
     "output_type": "execute_result"
    },
    {
     "data": {
      "image/png": "[encoded data removed]",
      "text/plain": [
       "<Figure size 720x432 with 1 Axes>"
      ]
     },
     "metadata": {
      "needs_background": "light"
     },
     "output_type": "display_data"
    }
   ],
   "source": [
    "fig, ax = plt.subplots(figsize = (10, 6))\n",
    "ax.bar(['Naive Learner', 'KNNBaseline', 'SVD'], [naive_score, KNN_score, SVD_score])\n",
    "ax.set_ylabel('Mean RMSE of Cross Validation')\n",
    "ax.set_title('Model Performance Evaluation')"
   ]
  },
  {
   "cell_type": "code",
   "execution_count": null,
   "metadata": {},
   "outputs": [],
   "source": [
    "# y = df['review_stars']\n",
    "# X = df.drop('review_stars', axis=1)\n",
    "\n",
    "# X_train, X_test, y_train, y_test = train_test_split(X, y, test_size=0.2)\n",
    "\n",
    "# identifier_df_train = X_train[['user_id', 'business_id']]\n",
    "# identifier_df_test = X_test[['user_id', 'business_id']]\n",
    "\n",
    "#     # fit the model\n",
    "#     alg_name = str(algorithm)[str(algorithm).find('ization')+8 : str(algorithm).find('obj')-1]\n",
    "#     print('Fitting algorithm {}'.format(alg_name))\n",
    "#     algorithm.fit(train_set)\n",
    "\n",
    "#     # run predictions over\n",
    "#     print('Predicting algorithm {}'.format(alg_name))\n",
    "#     model_predictions = []\n",
    "#     model_ratings = []\n",
    "#     for idx, row in X_test.iterrows():\n",
    "#         prediction = algorithm.predict(row[0], row[1])\n",
    "#         model_predictions.append(prediction)\n",
    "#         model_ratings.append(prediction[3])\n",
    "\n",
    "#     # Pickle the models\n",
    "#     pred_pkl_file = alg_name + '_predictions.pkl'\n",
    "#     ratings_pkl_file = alg_name + '_ratings.pkl'\n",
    "#     pickle.dump(model_predictions, open(pred_pkl_file, 'wb'))\n",
    "#     pickle.dump(model_ratings, open(ratings_pkl_file, 'wb'))\n"
   ]
  },
  {
   "cell_type": "markdown",
   "metadata": {},
   "source": [
    "# Let's get the similarity matrix"
   ]
  },
  {
   "cell_type": "code",
   "execution_count": null,
   "metadata": {},
   "outputs": [],
   "source": [
    "def get_similarity_matrix(fitted_model):\n",
    "    '''\n",
    "    Compute similarity matrix from a fitted model and convert it to a \n",
    "    Pandas Dataframe. This won't use any additional memory, but lends more\n",
    "    functionality.\n",
    "    '''\n",
    "    similarity_matrix = fitted_model.compute_similarities()\n",
    "    return pd.DataFrame(similarity_matrix)\n",
    "\n",
    "def recommend(similarity_matrix, data_df, item_map, n, selections = ['In-N-Out Burger', 'Chick-fil-A', 'The Stand', 'Whataburger']):\n",
    "    '''\n",
    "    Use the similarity matrix to find most similar restaurants to the four\n",
    "    that the user specified in their selections. \n",
    "    \n",
    "    Params:\n",
    "    ~~~~~~~~~~~~\n",
    "    similarity_matrix: type - Pandas Dataframe\n",
    "    Similarity matrix from our fitted production model\n",
    "    \n",
    "    data_df: type - Pandas Dataframe\n",
    "    Dataframe that has all of the pertinent data so that we can ensure we don't \n",
    "    the same chain of restaurants to someone just because they had a different\n",
    "    location.\n",
    "    \n",
    "    item_map: type - Dict\n",
    "    Dictionary that maps the business_id, name, and i_business_id (for surprise), with\n",
    "    business_id as keys, and tupes of name and i_business_id as values.\n",
    "    \n",
    "    n: type - in\n",
    "    Number of recommendations to provide\n",
    "    \n",
    "    selections: type - list of strings\n",
    "    Names of restaurants that user selected for recommendations.\n",
    "    '''\n",
    "    # Create new dataframe for holding the vectors of similarities for\n",
    "    # the user's selections\n",
    "    item_vectors = pd.DataFrame()\n",
    "    for key, val in item_map.items():\n",
    "        if val[0] in selections:\n",
    "            item_vectors[val[1]] = similarity_matrix.iloc[:, val[1]]\n",
    "            \n",
    "    # Take mean similarity across columns and sort by it to \n",
    "    # raise the best picks to the top\n",
    "    item_vectors['mean_similarity'] = item_vectors.mean(axis = 1)\n",
    "    item_vectors.sort_values(by = 'mean_similarity', ascending = False, inplace = True)\n",
    "    \n",
    "    # Make sure that the picks don't have the same exact name\n",
    "    name_mask = data_df.name.isin(selections)\n",
    "    picks = item_vectors[~name_mask].index.unique()[:n]\n",
    "    print(picks)\n",
    "    \n",
    "# #     picks = item_vectors[~name_mask].iloc[:n, :].index\n",
    "    recs = data_df[['business_id', 'name', 'i_business_id']].drop_duplicates(['i_business_id'])\n",
    "    recs = recs[recs.i_business_id.isin(picks)]\n",
    "        \n",
    "    return recs"
   ]
  },
  {
   "cell_type": "code",
   "execution_count": null,
   "metadata": {},
   "outputs": [],
   "source": []
  },
  {
   "cell_type": "code",
   "execution_count": null,
   "metadata": {},
   "outputs": [],
   "source": []
  }
 ],
 "metadata": {
  "kernelspec": {
   "display_name": "Python 3",
   "language": "python",
   "name": "python3"
  },
  "language_info": {
   "codemirror_mode": {
    "name": "ipython",
    "version": 3
   },
   "file_extension": ".py",
   "mimetype": "text/x-python",
   "name": "python",
   "nbconvert_exporter": "python",
   "pygments_lexer": "ipython3",
   "version": "3.7.3"
  }
 },
 "nbformat": 4,
 "nbformat_minor": 2
}
